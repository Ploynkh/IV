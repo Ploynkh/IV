{
  "cells": [
    {
      "cell_type": "markdown",
      "metadata": {
        "id": "xA6H_R3yVJ8g"
      },
      "source": [
        "[Open this notebook on Colab](https://colab.research.google.com/github/probabll/ntmi-tutorials/blob/main/T4.ipynb)"
      ]
    },
    {
      "cell_type": "markdown",
      "metadata": {
        "editable": true,
        "id": "jzvWfS-ELNzE",
        "tags": []
      },
      "source": [
        "# Guide\n",
        "\n",
        "\n",
        "* Before working on this tutorial, you should have worked through the [introduction to PyTorch](https://github.com/probabll/ntmi-tutorials/blob/main/PyTorch.ipynb). If you've never worked with PyTorch before, book about 4 hours to go through that notebook.\n",
        "* Once you are ready, get started with this tutorial. As always, check the entire notebook before you get started, this gives you an idea of what lies ahead."
      ]
    },
    {
      "cell_type": "markdown",
      "metadata": {
        "editable": true,
        "id": "KqR7WUDXLeME",
        "tags": []
      },
      "source": [
        "## ILOs\n",
        "\n",
        "After completing this lab you should be able to\n",
        "\n",
        "* specify neural text encoders in PyTorch\n",
        "* develop neural text classifiers in PyTorch\n",
        "* estimate parameters via MLE\n",
        "* classify new data points\n",
        "* evaluate classification performance"
      ]
    },
    {
      "cell_type": "markdown",
      "metadata": {
        "editable": true,
        "id": "YBR2bPwLL9gj",
        "tags": []
      },
      "source": [
        "## General Notes\n",
        "\n",
        "* In this notebook you are expected to use $\\LaTeX$.\n",
        "* Use python3.\n",
        "* Use Torch.\n",
        "* This tutorial runs reasonably quickly on CPU. To have GPU support run this notebook on Google Colab (you will find more instructions later).\n",
        "\n",
        "We will use a set of standard libraries that are often used in machine learning projects. If you are running this notebook on Google Colab, all libraries should be pre-installed. If you are running this notebook locally you will need to install some additional packages, ask your TA for help if you have problems setting up.\n"
      ]
    },
    {
      "cell_type": "markdown",
      "metadata": {
        "editable": true,
        "id": "CqDZh0QJJsOu",
        "tags": [
          "toc"
        ]
      },
      "source": [
        "## Table of Contents\n",
        "\n",
        "\n",
        "\n",
        "### Topics\n",
        "\n",
        "* [Data](#sec:Data)\n",
        "\t* [Dataset](#sec:Dataset)\n",
        "\t* [Vocabulary](#sec:Vocabulary)\n",
        "\t* [Corpus and Data Loader](#sec:Corpus_and_Data_Loader)\n",
        "* [Text Encoders](#sec:Text_Encoders)\n",
        "* [Neural Text Classifier](#sec:Neural_Text_Classifier)\n",
        "\t* [Torch Categorical](#sec:Torch_Categorical)\n",
        "\t* [Base class](#sec:Base_class)\n",
        "\t* [Average Embedding Classifier](#sec:Average_Embedding_Classifier)\n",
        "\t* [BiLSTM Classifier](#sec:BiLSTM_Classifier)\n",
        "* [Training and Evaluation](#sec:Training_and_Evaluation)\n",
        "* [Graded Experiment](#sec:Graded_Experiment)\n",
        "* [Ungraded Experiment](#sec:Ungraded_Experiment)\n",
        "\n",
        "\n",
        "### Table of ungraded exercises\n",
        "\n",
        "1. [Base class](#ungraded-1)\n",
        "1. [AvgEmbClassifier](#ungraded-2)\n",
        "1. [BiLSTMClassifier](#ungraded-3)\n",
        "1. [Training and evaluation code](#ungraded-4)\n",
        "1. [Experiment with complete dataset](#ungraded-5)\n",
        "\n",
        "\n",
        "### Table of graded exercises\n",
        "\n",
        "*Important:* The grader may re-run your notebook to investigate its correctness, but you must upload your notebook with the cells already run and make sure that all your answers are visible without the need to re-run the notebook.\n",
        "\n",
        "\n",
        "The weight of each exercise is indicated below.\n",
        "\n",
        "\n",
        "1. [Ablations for AvgEmb model](#graded-1) (62.5\\%)\n",
        "1. [Ablations for BiLSTM model](#graded-2) (37.5\\%)"
      ]
    },
    {
      "cell_type": "markdown",
      "metadata": {
        "editable": true,
        "id": "fVnfg0kMLrsi",
        "tags": []
      },
      "source": [
        "## Setting up\n",
        "\n",
        "We recommend using `jupyter lab`, `jupyter notebook` or `Google Colab`.\n",
        "\n",
        "Before anything, you should make sure to enable widgets for your Jupyter (you might need to restart your notebook)."
      ]
    },
    {
      "cell_type": "code",
      "execution_count": 1,
      "metadata": {
        "colab": {
          "base_uri": "https://localhost:8080/"
        },
        "id": "nC4O30d3VJ8h",
        "outputId": "08718385-5dd6-4fe8-876a-440bd3c3e16c"
      },
      "outputs": [
        {
          "output_type": "stream",
          "name": "stdout",
          "text": [
            "Requirement already satisfied: ipywidgets in /usr/local/lib/python3.11/dist-packages (8.1.5)\n",
            "Requirement already satisfied: comm>=0.1.3 in /usr/local/lib/python3.11/dist-packages (from ipywidgets) (0.2.2)\n",
            "Requirement already satisfied: ipython>=6.1.0 in /usr/local/lib/python3.11/dist-packages (from ipywidgets) (7.34.0)\n",
            "Requirement already satisfied: traitlets>=4.3.1 in /usr/local/lib/python3.11/dist-packages (from ipywidgets) (5.7.1)\n",
            "Requirement already satisfied: widgetsnbextension~=4.0.12 in /usr/local/lib/python3.11/dist-packages (from ipywidgets) (4.0.13)\n",
            "Requirement already satisfied: jupyterlab-widgets~=3.0.12 in /usr/local/lib/python3.11/dist-packages (from ipywidgets) (3.0.13)\n",
            "Requirement already satisfied: setuptools>=18.5 in /usr/local/lib/python3.11/dist-packages (from ipython>=6.1.0->ipywidgets) (75.1.0)\n",
            "Requirement already satisfied: jedi>=0.16 in /usr/local/lib/python3.11/dist-packages (from ipython>=6.1.0->ipywidgets) (0.19.2)\n",
            "Requirement already satisfied: decorator in /usr/local/lib/python3.11/dist-packages (from ipython>=6.1.0->ipywidgets) (4.4.2)\n",
            "Requirement already satisfied: pickleshare in /usr/local/lib/python3.11/dist-packages (from ipython>=6.1.0->ipywidgets) (0.7.5)\n",
            "Requirement already satisfied: prompt-toolkit!=3.0.0,!=3.0.1,<3.1.0,>=2.0.0 in /usr/local/lib/python3.11/dist-packages (from ipython>=6.1.0->ipywidgets) (3.0.50)\n",
            "Requirement already satisfied: pygments in /usr/local/lib/python3.11/dist-packages (from ipython>=6.1.0->ipywidgets) (2.18.0)\n",
            "Requirement already satisfied: backcall in /usr/local/lib/python3.11/dist-packages (from ipython>=6.1.0->ipywidgets) (0.2.0)\n",
            "Requirement already satisfied: matplotlib-inline in /usr/local/lib/python3.11/dist-packages (from ipython>=6.1.0->ipywidgets) (0.1.7)\n",
            "Requirement already satisfied: pexpect>4.3 in /usr/local/lib/python3.11/dist-packages (from ipython>=6.1.0->ipywidgets) (4.9.0)\n",
            "Requirement already satisfied: parso<0.9.0,>=0.8.4 in /usr/local/lib/python3.11/dist-packages (from jedi>=0.16->ipython>=6.1.0->ipywidgets) (0.8.4)\n",
            "Requirement already satisfied: ptyprocess>=0.5 in /usr/local/lib/python3.11/dist-packages (from pexpect>4.3->ipython>=6.1.0->ipywidgets) (0.7.0)\n",
            "Requirement already satisfied: wcwidth in /usr/local/lib/python3.11/dist-packages (from prompt-toolkit!=3.0.0,!=3.0.1,<3.1.0,>=2.0.0->ipython>=6.1.0->ipywidgets) (0.2.13)\n",
            "Enabling notebook extension jupyter-js-widgets/extension...\n",
            "Paths used for configuration of notebook: \n",
            "    \t/root/.jupyter/nbconfig/notebook.json\n",
            "Paths used for configuration of notebook: \n",
            "    \t\n",
            "      - Validating: \u001b[32mOK\u001b[0m\n",
            "Paths used for configuration of notebook: \n",
            "    \t/root/.jupyter/nbconfig/notebook.json\n"
          ]
        }
      ],
      "source": [
        "# You should only need to run this the very first time you set up your working environment:\n",
        "\n",
        "!pip install --upgrade ipywidgets\n",
        "!jupyter nbextension enable --py widgetsnbextension"
      ]
    },
    {
      "cell_type": "markdown",
      "metadata": {
        "id": "cWZh74hrVJ8i"
      },
      "source": [
        "If you don't have torch installed, or if it's too old, you can run the pip command below (you will need to restart your notebook after that). The notebook was designed on torch `2.2.0`."
      ]
    },
    {
      "cell_type": "code",
      "execution_count": 2,
      "metadata": {
        "id": "vmpLiOT3o6FK",
        "colab": {
          "base_uri": "https://localhost:8080/",
          "height": 42
        },
        "outputId": "d9db2361-093b-4772-9cee-d2720bae8002"
      },
      "outputs": [
        {
          "output_type": "execute_result",
          "data": {
            "text/plain": [
              "'2.6.0+cu124'"
            ],
            "application/vnd.google.colaboratory.intrinsic+json": {
              "type": "string"
            }
          },
          "metadata": {},
          "execution_count": 2
        }
      ],
      "source": [
        "import torch\n",
        "torch.__version__"
      ]
    },
    {
      "cell_type": "code",
      "execution_count": 3,
      "metadata": {
        "colab": {
          "base_uri": "https://localhost:8080/"
        },
        "id": "abtAXkc-VJ8i",
        "outputId": "032eb31e-5bfd-4b1d-dbca-9c041ee8e3c5"
      },
      "outputs": [
        {
          "output_type": "stream",
          "name": "stdout",
          "text": [
            "Requirement already satisfied: torch in /usr/local/lib/python3.11/dist-packages (2.6.0)\n",
            "Requirement already satisfied: filelock in /usr/local/lib/python3.11/dist-packages (from torch) (3.17.0)\n",
            "Requirement already satisfied: typing-extensions>=4.10.0 in /usr/local/lib/python3.11/dist-packages (from torch) (4.12.2)\n",
            "Requirement already satisfied: networkx in /usr/local/lib/python3.11/dist-packages (from torch) (3.4.2)\n",
            "Requirement already satisfied: jinja2 in /usr/local/lib/python3.11/dist-packages (from torch) (3.1.5)\n",
            "Requirement already satisfied: fsspec in /usr/local/lib/python3.11/dist-packages (from torch) (2024.10.0)\n",
            "Requirement already satisfied: nvidia-cuda-nvrtc-cu12==12.4.127 in /usr/local/lib/python3.11/dist-packages (from torch) (12.4.127)\n",
            "Requirement already satisfied: nvidia-cuda-runtime-cu12==12.4.127 in /usr/local/lib/python3.11/dist-packages (from torch) (12.4.127)\n",
            "Requirement already satisfied: nvidia-cuda-cupti-cu12==12.4.127 in /usr/local/lib/python3.11/dist-packages (from torch) (12.4.127)\n",
            "Requirement already satisfied: nvidia-cudnn-cu12==9.1.0.70 in /usr/local/lib/python3.11/dist-packages (from torch) (9.1.0.70)\n",
            "Requirement already satisfied: nvidia-cublas-cu12==12.4.5.8 in /usr/local/lib/python3.11/dist-packages (from torch) (12.4.5.8)\n",
            "Requirement already satisfied: nvidia-cufft-cu12==11.2.1.3 in /usr/local/lib/python3.11/dist-packages (from torch) (11.2.1.3)\n",
            "Requirement already satisfied: nvidia-curand-cu12==10.3.5.147 in /usr/local/lib/python3.11/dist-packages (from torch) (10.3.5.147)\n",
            "Requirement already satisfied: nvidia-cusolver-cu12==11.6.1.9 in /usr/local/lib/python3.11/dist-packages (from torch) (11.6.1.9)\n",
            "Requirement already satisfied: nvidia-cusparse-cu12==12.3.1.170 in /usr/local/lib/python3.11/dist-packages (from torch) (12.3.1.170)\n",
            "Requirement already satisfied: nvidia-cusparselt-cu12==0.6.2 in /usr/local/lib/python3.11/dist-packages (from torch) (0.6.2)\n",
            "Requirement already satisfied: nvidia-nccl-cu12==2.21.5 in /usr/local/lib/python3.11/dist-packages (from torch) (2.21.5)\n",
            "Requirement already satisfied: nvidia-nvtx-cu12==12.4.127 in /usr/local/lib/python3.11/dist-packages (from torch) (12.4.127)\n",
            "Requirement already satisfied: nvidia-nvjitlink-cu12==12.4.127 in /usr/local/lib/python3.11/dist-packages (from torch) (12.4.127)\n",
            "Requirement already satisfied: triton==3.2.0 in /usr/local/lib/python3.11/dist-packages (from torch) (3.2.0)\n",
            "Requirement already satisfied: sympy==1.13.1 in /usr/local/lib/python3.11/dist-packages (from torch) (1.13.1)\n",
            "Requirement already satisfied: mpmath<1.4,>=1.1.0 in /usr/local/lib/python3.11/dist-packages (from sympy==1.13.1->torch) (1.3.0)\n",
            "Requirement already satisfied: MarkupSafe>=2.0 in /usr/local/lib/python3.11/dist-packages (from jinja2->torch) (3.0.2)\n"
          ]
        }
      ],
      "source": [
        "!pip install --upgrade torch"
      ]
    },
    {
      "cell_type": "code",
      "execution_count": 4,
      "metadata": {
        "id": "LzjCfsJDNL1B"
      },
      "outputs": [],
      "source": [
        "import random\n",
        "import numpy as np\n",
        "np.random.seed(42)\n",
        "random.seed(42)"
      ]
    },
    {
      "cell_type": "code",
      "execution_count": 5,
      "metadata": {
        "colab": {
          "base_uri": "https://localhost:8080/"
        },
        "id": "QV4oRuW-XYED",
        "outputId": "eb5961f5-ba96-4629-9cf5-e88512685fcd"
      },
      "outputs": [
        {
          "output_type": "stream",
          "name": "stdout",
          "text": [
            "Requirement already satisfied: nltk in /usr/local/lib/python3.11/dist-packages (3.9.1)\n",
            "Requirement already satisfied: click in /usr/local/lib/python3.11/dist-packages (from nltk) (8.1.8)\n",
            "Requirement already satisfied: joblib in /usr/local/lib/python3.11/dist-packages (from nltk) (1.4.2)\n",
            "Requirement already satisfied: regex>=2021.8.3 in /usr/local/lib/python3.11/dist-packages (from nltk) (2024.11.6)\n",
            "Requirement already satisfied: tqdm in /usr/local/lib/python3.11/dist-packages (from nltk) (4.67.1)\n"
          ]
        }
      ],
      "source": [
        "!pip install nltk"
      ]
    },
    {
      "cell_type": "markdown",
      "metadata": {
        "editable": true,
        "id": "B8qybX6RNDKh",
        "tags": [
          "topic"
        ]
      },
      "source": [
        "<a name='sec:Data'></a>\n",
        "# Data\n",
        "\n",
        "\n",
        "Here we use the labelled documents from NLTK to train text classifiers."
      ]
    },
    {
      "cell_type": "code",
      "execution_count": 6,
      "metadata": {
        "colab": {
          "base_uri": "https://localhost:8080/"
        },
        "id": "KfbZPjfaZDdo",
        "outputId": "0b6b019c-b5c0-4999-9c7d-b1c39f993c28"
      },
      "outputs": [
        {
          "output_type": "stream",
          "name": "stderr",
          "text": [
            "[nltk_data] Downloading package punkt to /root/nltk_data...\n",
            "[nltk_data]   Package punkt is already up-to-date!\n",
            "[nltk_data] Downloading package subjectivity to /root/nltk_data...\n",
            "[nltk_data]   Package subjectivity is already up-to-date!\n",
            "[nltk_data] Downloading package sentence_polarity to\n",
            "[nltk_data]     /root/nltk_data...\n",
            "[nltk_data]   Package sentence_polarity is already up-to-date!\n",
            "[nltk_data] Downloading package movie_reviews to /root/nltk_data...\n",
            "[nltk_data]   Package movie_reviews is already up-to-date!\n",
            "[nltk_data] Downloading package punkt_tab to /root/nltk_data...\n",
            "[nltk_data]   Package punkt_tab is already up-to-date!\n"
          ]
        },
        {
          "output_type": "execute_result",
          "data": {
            "text/plain": [
              "True"
            ]
          },
          "metadata": {},
          "execution_count": 6
        }
      ],
      "source": [
        "import nltk\n",
        "nltk.download('punkt')\n",
        "nltk.download('subjectivity')\n",
        "nltk.download('sentence_polarity')\n",
        "nltk.download('movie_reviews')\n",
        "nltk.download('punkt_tab')\n"
      ]
    },
    {
      "cell_type": "markdown",
      "metadata": {
        "editable": true,
        "tags": [
          "topic"
        ],
        "id": "s8yVgkceVJ8j"
      },
      "source": [
        "<a name='sec:Dataset'></a>\n",
        "## Dataset"
      ]
    },
    {
      "cell_type": "code",
      "execution_count": 7,
      "metadata": {
        "id": "7ZuAZ5Il891R"
      },
      "outputs": [],
      "source": [
        "from nltk.corpus import subjectivity  # binary classification"
      ]
    },
    {
      "cell_type": "markdown",
      "metadata": {
        "id": "TAUGN5mVnOQn"
      },
      "source": [
        "Let's work with the _subjectivity_ dataset, it's small enough that you don't need GPUs."
      ]
    },
    {
      "cell_type": "code",
      "execution_count": 8,
      "metadata": {
        "colab": {
          "base_uri": "https://localhost:8080/"
        },
        "id": "PdjzsF6anOQn",
        "outputId": "e4d532ab-29ce-4a78-a7ad-6d04ad821186"
      },
      "outputs": [
        {
          "output_type": "stream",
          "name": "stdout",
          "text": [
            "10000 labelled documents\n",
            "2-way classification:\n",
            "obj\n",
            "subj\n"
          ]
        }
      ],
      "source": [
        "corpus = subjectivity\n",
        "labels = tuple(corpus.categories())\n",
        "print(f\"{len(corpus.sents())} labelled documents\")\n",
        "print(\"{}-way classification:\\n{}\".format(len(labels), '\\n'.join(labels)))"
      ]
    },
    {
      "cell_type": "markdown",
      "metadata": {
        "id": "owiVyu00nOQo"
      },
      "source": [
        "Here we have some helper code to organise and split NLTK corpora into training/dev/test sets."
      ]
    },
    {
      "cell_type": "code",
      "execution_count": 9,
      "metadata": {
        "id": "ZI1O8KL2nOQo"
      },
      "outputs": [],
      "source": [
        "import numpy as np\n",
        "\n",
        "\n",
        "def prepare_nltk_corpus(nltk_corpus, categories, seed=23, max_length=None, BOS='-BOS-', EOS='-EOS-', portion=1.):\n",
        "    \"\"\"\n",
        "    Prepare an nltk text categorization corpus in a friendly format.\n",
        "\n",
        "    This function is very similar to what you saw in T2, but here we add BOS tokens in addition to EOS tokens\n",
        "    (while the BOS token has no effect in NBC with unigram conditionals,\n",
        "    it can be useful for some of the feature-richer classifiers we will develop here).\n",
        "\n",
        "    :param nltk_corpus: something like sentence_polarity\n",
        "    :param categories: a list of categories (each a string)\n",
        "    :param seed: for reproducibility\n",
        "    :param BOS: if not None, start every sentence with a single BOS token\n",
        "    :param EOS: if not None, end every sentence with a single EOS token\n",
        "    :return: training, dev, test\n",
        "        each an np.array such that\n",
        "        * array[:, 0] are the inputs (documents, each a string)\n",
        "        * array[:, 1] are the outputs (labels)\n",
        "    \"\"\"\n",
        "    pairs = []\n",
        "    prefix = [BOS] if BOS else []\n",
        "    suffix = [EOS] if EOS else []\n",
        "    for label in categories:  # here we pair doc (as a single string) and label (string)\n",
        "        if max_length is None:\n",
        "            # this time we will concatenate the EOS symbol to the string\n",
        "            pairs.extend((' '.join(prefix + s + suffix), label) for s in nltk_corpus.sents(categories=[label]))\n",
        "        else:\n",
        "            for s in nltk_corpus.sents(categories=[label]):\n",
        "                if len(s) <= max_length:\n",
        "                    pairs.append((' '.join(prefix + s + suffix), label))\n",
        "\n",
        "    # we turn the pairs into a numpy array\n",
        "    # np arrays are very convenient for the indexing tools np provides, as we will see\n",
        "    pairs = np.array(pairs)\n",
        "    # it's good to shuffle the pairs\n",
        "    rng = np.random.RandomState(seed)\n",
        "    rng.shuffle(pairs)\n",
        "    # let's split the np array into training (80%), dev (10%), and test (10%)\n",
        "    num_pairs = pairs.shape[0]\n",
        "    # we can use slices to select the first 80% of the rows\n",
        "    training = pairs[0:int(num_pairs * 0.8 * portion),:]\n",
        "    # and similarly for the next 10%\n",
        "    dev = pairs[int(num_pairs * 0.8 * portion):int(num_pairs * 0.9 * portion),:]\n",
        "    # and for the last 10%\n",
        "    test = pairs[int(num_pairs * 0.9 * portion):int(num_pairs * portion),:]\n",
        "    return training, dev, test"
      ]
    },
    {
      "cell_type": "markdown",
      "metadata": {
        "id": "Ch9edS3dnOQp"
      },
      "source": [
        "Let's use it on our choice of corpus."
      ]
    },
    {
      "cell_type": "code",
      "execution_count": 10,
      "metadata": {
        "id": "AC2058FsnOQp",
        "colab": {
          "base_uri": "https://localhost:8080/"
        },
        "outputId": "20ef2afe-2a14-4696-c421-72a0939b0831"
      },
      "outputs": [
        {
          "output_type": "execute_result",
          "data": {
            "text/plain": [
              "((4721, 2), (590, 2), (591, 2))"
            ]
          },
          "metadata": {},
          "execution_count": 10
        }
      ],
      "source": [
        "training_pairs, dev_pairs, test_pairs = prepare_nltk_corpus(corpus, labels, max_length=50, portion=0.6)\n",
        "training_pairs.shape, dev_pairs.shape, test_pairs.shape"
      ]
    },
    {
      "cell_type": "markdown",
      "metadata": {
        "id": "1OMFLRZinOQp"
      },
      "source": [
        "Familiriase yourself with how we stored the data points. For example, this is the first document in the training set:"
      ]
    },
    {
      "cell_type": "code",
      "execution_count": 11,
      "metadata": {
        "colab": {
          "base_uri": "https://localhost:8080/",
          "height": 64
        },
        "id": "StJzuxTUnOQq",
        "outputId": "2ac68a31-0af7-44fe-b613-029d38e11f5a"
      },
      "outputs": [
        {
          "output_type": "execute_result",
          "data": {
            "text/plain": [
              "'-BOS- this movie is something of an impostor itself , stretching and padding its material in a blur of dead ends and distracting camera work . -EOS-'"
            ],
            "application/vnd.google.colaboratory.intrinsic+json": {
              "type": "string"
            }
          },
          "metadata": {},
          "execution_count": 11
        }
      ],
      "source": [
        "training_pairs[0,0]"
      ]
    },
    {
      "cell_type": "markdown",
      "metadata": {
        "id": "7GE6LasunOQq"
      },
      "source": [
        "and its label:"
      ]
    },
    {
      "cell_type": "code",
      "execution_count": 12,
      "metadata": {
        "colab": {
          "base_uri": "https://localhost:8080/",
          "height": 42
        },
        "id": "2k_U0Y2PnOQq",
        "outputId": "4daab7af-84bb-4b68-bda3-f54230c84b16"
      },
      "outputs": [
        {
          "output_type": "execute_result",
          "data": {
            "text/plain": [
              "'subj'"
            ],
            "application/vnd.google.colaboratory.intrinsic+json": {
              "type": "string"
            }
          },
          "metadata": {},
          "execution_count": 12
        }
      ],
      "source": [
        "training_pairs[0,1]"
      ]
    },
    {
      "cell_type": "markdown",
      "metadata": {
        "id": "kQTQ4dImnOQq"
      },
      "source": [
        "Some basic data inspection:"
      ]
    },
    {
      "cell_type": "code",
      "execution_count": 13,
      "metadata": {
        "colab": {
          "base_uri": "https://localhost:8080/",
          "height": 1000
        },
        "id": "JDhNJ4pfnOQq",
        "outputId": "9cc08af3-e064-4409-8142-c486bc10126a"
      },
      "outputs": [
        {
          "output_type": "display_data",
          "data": {
            "text/plain": [
              "<Figure size 640x480 with 1 Axes>"
            ],
            "image/png": "[encoded data removed]"
          },
          "metadata": {}
        },
        {
          "output_type": "display_data",
          "data": {
            "text/plain": [
              "<Figure size 640x480 with 1 Axes>"
            ],
            "image/png": "[encoded data removed]"
          },
          "metadata": {}
        },
        {
          "output_type": "stream",
          "name": "stdout",
          "text": [
            "label=subj\tdoc=-BOS- this movie is something of an impostor itself , stretching and padding its material in a blur of dead ends and distracting camera work . -EOS-\n",
            "\n",
            "label=obj\tdoc=-BOS- a girl at a southern baptist high school finds that her pregnancy makes her an outcast . -EOS-\n",
            "\n",
            "label=obj\tdoc=-BOS- \" the brookdale institute \" is a mysterious , little known hospital for the criminally insane ( a fact which is kept on a need-to know basis ) . -EOS-\n",
            "\n",
            "label=obj\tdoc=-BOS- international news media baron , rupert murdoch ( played by ben mendelsohn ) , then publisher of the adelaide \" news , \" became the driving force behind securing a re-trial for stuart . -EOS-\n",
            "\n",
            "label=subj\tdoc=-BOS- ultimately the project comes across as clinical , detached , uninvolving , possibly prompting audience members to wonder , 'what's the point ? ' -EOS-\n",
            "\n",
            "label=subj\tdoc=-BOS- with \" ichi the killer \" , takashi miike , japan's wildest filmmaker gives us a crime fighter carrying more emotional baggage than batman . . . -EOS-\n",
            "\n"
          ]
        }
      ],
      "source": [
        "import matplotlib.pyplot as plt\n",
        "from tabulate import tabulate\n",
        "\n",
        "_ = plt.hist([len(x.split()) for x, y in training_pairs], bins=30, label='training')\n",
        "_ = plt.xlabel(\"Length in tokens\")\n",
        "_ = plt.show()\n",
        "\n",
        "_ = plt.hist([y for x, y in training_pairs], bins=30, orientation='horizontal', label='training')\n",
        "_ = plt.xlabel(\"Frequency\")\n",
        "_ = plt.ylabel(\"Class\")\n",
        "_ = plt.show()\n",
        "\n",
        "for x, y in training_pairs[0:6]:\n",
        "    print(f\"label={y}\\tdoc={x}\\n\")\n"
      ]
    },
    {
      "cell_type": "markdown",
      "metadata": {
        "id": "3qmFucRGr1Lh",
        "tags": [
          "topic"
        ]
      },
      "source": [
        "<a name='sec:Vocabulary'></a>\n",
        "## Vocabulary\n",
        "\n",
        "As always when dealing with NLP models, we need an object to maintain our vocabulary of known tokens.\n",
        "\n",
        "Our vocabulary class will maintain the set of known tokens, and a dictionary to convert tokens to codes and codes back to tokens. The class will also take care of some special symbols (e.g., BOS, EOS, UNK, PAD).\n",
        "\n",
        "Finally, if later on you test your model on sentences that are not word tokenized, you can use `nlt.tokenize.word_tokenize` or any other tokenizer you like (as long as the level of tokenization is similar to the one you used for training your model."
      ]
    },
    {
      "cell_type": "code",
      "execution_count": 14,
      "metadata": {
        "id": "EcuhA0GEr8W4"
      },
      "outputs": [],
      "source": [
        "from nltk.tokenize import word_tokenize"
      ]
    },
    {
      "cell_type": "markdown",
      "source": [],
      "metadata": {
        "id": "pb-r9_9EV7Nr"
      }
    },
    {
      "cell_type": "markdown",
      "metadata": {
        "id": "gUUct5byIkKu"
      },
      "source": [
        "This is how you can tokenize English sentences (but remember that we don't need to redo this for the training/dev/test data from NLKT):"
      ]
    },
    {
      "cell_type": "code",
      "source": [
        "import nltk\n",
        "nltk.download('punkt', force=True)\n",
        "\n"
      ],
      "metadata": {
        "colab": {
          "base_uri": "https://localhost:8080/"
        },
        "id": "-puR1wP4VzxD",
        "outputId": "b79ee17c-e499-47b5-c821-8ce16319dd48"
      },
      "execution_count": 15,
      "outputs": [
        {
          "output_type": "stream",
          "name": "stderr",
          "text": [
            "[nltk_data] Downloading package punkt to /root/nltk_data...\n",
            "[nltk_data]   Unzipping tokenizers/punkt.zip.\n"
          ]
        },
        {
          "output_type": "execute_result",
          "data": {
            "text/plain": [
              "True"
            ]
          },
          "metadata": {},
          "execution_count": 15
        }
      ]
    },
    {
      "cell_type": "code",
      "source": [
        "import nltk\n",
        "print(nltk.data.find(\"tokenizers/punkt\"))\n"
      ],
      "metadata": {
        "colab": {
          "base_uri": "https://localhost:8080/"
        },
        "id": "zjHdkYP_WAj6",
        "outputId": "20b6d46d-ab2e-4315-fcb9-452d3118de1e"
      },
      "execution_count": 16,
      "outputs": [
        {
          "output_type": "stream",
          "name": "stdout",
          "text": [
            "/root/nltk_data/tokenizers/punkt\n"
          ]
        }
      ]
    },
    {
      "cell_type": "code",
      "source": [
        "import shutil\n",
        "\n",
        "punkt_path = nltk.data.find(\"tokenizers/punkt\")\n",
        "\n",
        "# Verwijder de oude data\n",
        "shutil.rmtree(str(punkt_path))\n",
        "\n",
        "# Download opnieuw\n",
        "nltk.download('punkt')\n"
      ],
      "metadata": {
        "id": "vv5RGEWPWozo",
        "outputId": "934c721a-fe7b-4208-e53a-1a03abe14823",
        "colab": {
          "base_uri": "https://localhost:8080/"
        }
      },
      "execution_count": 17,
      "outputs": [
        {
          "output_type": "stream",
          "name": "stderr",
          "text": [
            "[nltk_data] Downloading package punkt to /root/nltk_data...\n",
            "[nltk_data]   Package punkt is already up-to-date!\n"
          ]
        },
        {
          "output_type": "execute_result",
          "data": {
            "text/plain": [
              "True"
            ]
          },
          "metadata": {},
          "execution_count": 17
        }
      ]
    },
    {
      "cell_type": "code",
      "execution_count": 18,
      "metadata": {
        "colab": {
          "base_uri": "https://localhost:8080/"
        },
        "id": "kT2gOTZtr_9w",
        "outputId": "c6056f51-bb56-43bb-aa68-b08d7d25e9bc"
      },
      "outputs": [
        {
          "output_type": "execute_result",
          "data": {
            "text/plain": [
              "['This', 'is', 'a', 'sentence', ',', 'and', 'this', 'is', 'another', '.']"
            ]
          },
          "metadata": {},
          "execution_count": 18
        }
      ],
      "source": [
        "word_tokenize(\"This is a sentence, and this is another.\")"
      ]
    },
    {
      "cell_type": "markdown",
      "metadata": {
        "id": "Kt5gPbIDIrx8"
      },
      "source": [
        "We will adapt one of the classes we developed in previous tutorials, and this class will be used for maintaining both the vocabulary of known tokens and the set of known tags."
      ]
    },
    {
      "cell_type": "code",
      "execution_count": 19,
      "metadata": {
        "id": "yMrE8lvlr2aa"
      },
      "outputs": [],
      "source": [
        "import numpy as np\n",
        "from itertools import chain\n",
        "from collections import Counter, OrderedDict\n",
        "\n",
        "\n",
        "class Vocabulary:\n",
        "\n",
        "    def __init__(self, pad_token=\"-PAD-\", bos_token=\"-BOS-\", eos_token=\"-EOS-\", unk_token=\"-UNK-\"):\n",
        "        \"\"\"\n",
        "        Construct a vocabulary with a few reserved tokens.\n",
        "        \"\"\"\n",
        "\n",
        "        # Special tokens\n",
        "        self.pad_token = pad_token\n",
        "        self.bos_token = bos_token\n",
        "        self.eos_token = eos_token\n",
        "        self.unk_token = unk_token\n",
        "        self.pad_id = 0\n",
        "        self.bos_id = 1\n",
        "        self.eos_id = 2\n",
        "        self.unk_id = 3\n",
        "\n",
        "        self.known_words = [self.pad_token, self.bos_token, self.eos_token, self.unk_token]\n",
        "\n",
        "        # Vocabulary\n",
        "        self.word2id = dict()\n",
        "        self.word2id[self.pad_token] = self.pad_id\n",
        "        self.word2id[self.bos_token] = self.bos_id\n",
        "        self.word2id[self.eos_token] = self.eos_id\n",
        "        self.word2id[self.unk_token] = self.unk_id\n",
        "\n",
        "\n",
        "    def __len__(self):\n",
        "        \"\"\"Number of known words (including reserved tokens)\"\"\"\n",
        "        return len(self.known_words)\n",
        "\n",
        "    def add(self, word: str):\n",
        "        \"\"\"Add a word (if it is unique) and return its index\"\"\"\n",
        "        idx = self.word2id.get(word, None)\n",
        "        if idx is None:\n",
        "            idx = len(self.known_words)\n",
        "            self.known_words.append(word)\n",
        "            self.word2id[word] = idx\n",
        "        return idx\n",
        "\n",
        "    def items(self):\n",
        "        \"\"\"Enumerate word ids and words in order\"\"\"\n",
        "        return enumerate(self.known_words)\n",
        "\n",
        "    def __getitem__(self, word: str):\n",
        "        \"\"\"Return the id (int) of a word (str)\"\"\"\n",
        "        return self.word2id.get(sym, self.unk_id)\n",
        "\n",
        "    def word(self, idx):\n",
        "        \"\"\"Return the word (string) associated with an index\"\"\"\n",
        "        return self.known_words[idx]\n",
        "\n",
        "    def encode(self, doc: list, add_bos=False, add_eos=False, pad_right=0):\n",
        "        \"\"\"\n",
        "        Transform a document into a sequence of integer token identifiers.\n",
        "        doc: list of tokens, each token is a string\n",
        "        add_bos: whether to add the BOS token\n",
        "        add_eos: whether to add the EOS token\n",
        "        pad_right: number of suffix padding tokens\n",
        "\n",
        "        Return: a list of codes (possibly with BOS and EOS added as well as padding)\n",
        "        \"\"\"\n",
        "        return [self.word2id.get(w, self.unk_id) for w in chain([self.bos_token] * int(add_bos), doc, [self.eos_token] * int(add_eos), [self.pad_token] * pad_right)]\n",
        "\n",
        "    def batch_encode(self, docs: list, add_bos=False, add_eos=False):\n",
        "        \"\"\"\n",
        "        Transform a batch of documents into a numpy array of integer token identifiers.\n",
        "        This will pad the shorter documents to the length of the longest document.\n",
        "        docs: a list of documents\n",
        "        add_bos: whether to add the BOS token\n",
        "        add_eos: whether to add the EOS token\n",
        "        pad_right: number of suffix padding tokens\n",
        "\n",
        "        Return: numpy array with shape [len(docs), longest_doc + add_bos + add_eos]\n",
        "        \"\"\"\n",
        "        max_len = max(len(doc) for doc in docs)\n",
        "        return np.array([self.encode(doc, add_bos=add_bos, add_eos=add_eos, pad_right=max_len-len(doc)) for doc in docs])\n",
        "\n",
        "    def decode(self, ids, strip_pad=False):\n",
        "        \"\"\"\n",
        "        Transform a np.array document into a list of tokens.\n",
        "        ids: np.array with shape [num_tokens]\n",
        "        strip_pad: whether PAD tokens should be deleted from the output\n",
        "\n",
        "        Return: list of strings with size [num_tokens - num_padding]\n",
        "        \"\"\"\n",
        "        if strip_pad:\n",
        "            return [self.word(id) for id in ids if id != self.pad_id]\n",
        "        else:\n",
        "            return [self.word(id) for id in ids]\n",
        "\n",
        "    def batch_decode(self, docs, strip_pad=False):\n",
        "        \"\"\"\n",
        "        Transform a np.array collection of documents into a collection of lists of tokens.\n",
        "        ids: np.array with shape [num_docs, max_length]\n",
        "        strip_pad: whether PAD tokens should be deleted from the output\n",
        "\n",
        "        Return: list of documents, each a list of tokens, each token a string\n",
        "        \"\"\"\n",
        "        return [self.decode(doc, strip_pad=strip_pad) for doc in docs]\n",
        "\n",
        "\n",
        "def update_vocabulary_from_corpus(vocab: Vocabulary, corpus: list, min_freq=1):\n",
        "    \"\"\"\n",
        "    Update an existing vocabulary with words observed in a corpus.\n",
        "\n",
        "    corpus: list of sentences, each sentence a list of tokens, each token a string\n",
        "    min_freq: words less frequent than this will not be added to the vocabulary.\n",
        "    \"\"\"\n",
        "    # Count word occurrences\n",
        "    counter = Counter(chain(*corpus))\n",
        "    # sort them by frequency\n",
        "    sorted_by_freq_tuples = sorted(counter.items(), key=lambda pair: pair[1], reverse=True)\n",
        "\n",
        "    for w, n in sorted_by_freq_tuples:\n",
        "        if n >= min_freq: # discard infrequent words\n",
        "            vocab.add(w)"
      ]
    },
    {
      "cell_type": "markdown",
      "metadata": {
        "id": "HxTwRreJI7DC"
      },
      "source": [
        "Let's see how this works:"
      ]
    },
    {
      "cell_type": "code",
      "execution_count": 20,
      "metadata": {
        "colab": {
          "base_uri": "https://localhost:8080/"
        },
        "id": "ZVR6Nfh5skV-",
        "outputId": "032b880f-f683-4d6d-e07f-46f4c75a1c73"
      },
      "outputs": [
        {
          "output_type": "execute_result",
          "data": {
            "text/plain": [
              "[(0, '-PAD-'), (1, '-BOS-'), (2, '-EOS-'), (3, '-UNK-')]"
            ]
          },
          "metadata": {},
          "execution_count": 20
        }
      ],
      "source": [
        "# we get a vocabulary for words\n",
        "vocab = Vocabulary()\n",
        "list(vocab.items())  # see that it is initialised with some reserved symbols"
      ]
    },
    {
      "cell_type": "code",
      "execution_count": 21,
      "metadata": {
        "colab": {
          "base_uri": "https://localhost:8080/"
        },
        "id": "YwXQz6UAVJ8k",
        "outputId": "3ba2376e-c8fe-4409-a618-dd75982ecb97"
      },
      "outputs": [
        {
          "output_type": "execute_result",
          "data": {
            "text/plain": [
              "15854"
            ]
          },
          "metadata": {},
          "execution_count": 21
        }
      ],
      "source": [
        "update_vocabulary_from_corpus(vocab, (xy[0].split() for xy in training_pairs), min_freq=1)\n",
        "# you can see its size V\n",
        "len(vocab)"
      ]
    },
    {
      "cell_type": "markdown",
      "metadata": {
        "id": "AM64EcW2JEoo"
      },
      "source": [
        "The `encode` method turns a sequence of (str) symbols into a sequence of (int) codes:"
      ]
    },
    {
      "cell_type": "markdown",
      "metadata": {
        "id": "p5PacbfMnOQs"
      },
      "source": [
        "* document as a single string"
      ]
    },
    {
      "cell_type": "code",
      "execution_count": 22,
      "metadata": {
        "colab": {
          "base_uri": "https://localhost:8080/",
          "height": 64
        },
        "id": "gjgxphKinOQs",
        "outputId": "afa8a881-52b1-4996-fbc8-68e9d88aafff"
      },
      "outputs": [
        {
          "output_type": "execute_result",
          "data": {
            "text/plain": [
              "'-BOS- this movie is something of an impostor itself , stretching and padding its material in a blur of dead ends and distracting camera work . -EOS-'"
            ],
            "application/vnd.google.colaboratory.intrinsic+json": {
              "type": "string"
            }
          },
          "metadata": {},
          "execution_count": 22
        }
      ],
      "source": [
        "training_pairs[0,0]"
      ]
    },
    {
      "cell_type": "markdown",
      "metadata": {
        "id": "j_PE3EobnOQs"
      },
      "source": [
        "* document as a token sequence (recall that NLTK corpora are already tokenized, hence string.split() is enough)"
      ]
    },
    {
      "cell_type": "code",
      "execution_count": 23,
      "metadata": {
        "colab": {
          "base_uri": "https://localhost:8080/"
        },
        "id": "IPiG6_uWnOQs",
        "outputId": "b1347692-d427-4253-b825-524f8ff24f9c"
      },
      "outputs": [
        {
          "output_type": "execute_result",
          "data": {
            "text/plain": [
              "['-BOS-',\n",
              " 'this',\n",
              " 'movie',\n",
              " 'is',\n",
              " 'something',\n",
              " 'of',\n",
              " 'an',\n",
              " 'impostor',\n",
              " 'itself',\n",
              " ',',\n",
              " 'stretching',\n",
              " 'and',\n",
              " 'padding',\n",
              " 'its',\n",
              " 'material',\n",
              " 'in',\n",
              " 'a',\n",
              " 'blur',\n",
              " 'of',\n",
              " 'dead',\n",
              " 'ends',\n",
              " 'and',\n",
              " 'distracting',\n",
              " 'camera',\n",
              " 'work',\n",
              " '.',\n",
              " '-EOS-']"
            ]
          },
          "metadata": {},
          "execution_count": 23
        }
      ],
      "source": [
        "training_pairs[0,0].split()"
      ]
    },
    {
      "cell_type": "markdown",
      "metadata": {
        "id": "L5jAIpoRnOQt"
      },
      "source": [
        "* document as a sequence of token ids"
      ]
    },
    {
      "cell_type": "code",
      "execution_count": 24,
      "metadata": {
        "colab": {
          "base_uri": "https://localhost:8080/"
        },
        "id": "aNAM6VWCnOQt",
        "outputId": "e1972ed3-4053-4958-8e99-bf1dfc67e4db"
      },
      "outputs": [
        {
          "output_type": "execute_result",
          "data": {
            "text/plain": [
              "[1,\n",
              " 23,\n",
              " 39,\n",
              " 12,\n",
              " 190,\n",
              " 9,\n",
              " 20,\n",
              " 2491,\n",
              " 332,\n",
              " 6,\n",
              " 4410,\n",
              " 8,\n",
              " 6897,\n",
              " 31,\n",
              " 404,\n",
              " 11,\n",
              " 7,\n",
              " 6898,\n",
              " 9,\n",
              " 323,\n",
              " 474,\n",
              " 8,\n",
              " 4411,\n",
              " 1056,\n",
              " 100,\n",
              " 4,\n",
              " 2]"
            ]
          },
          "metadata": {},
          "execution_count": 24
        }
      ],
      "source": [
        "vocab.encode(training_pairs[0,0].split())"
      ]
    },
    {
      "cell_type": "markdown",
      "metadata": {
        "id": "6IOyp9DhnOQt"
      },
      "source": [
        "The _decode_ method of the Vocabulary reverses this:"
      ]
    },
    {
      "cell_type": "code",
      "execution_count": 25,
      "metadata": {
        "colab": {
          "base_uri": "https://localhost:8080/"
        },
        "id": "o-pokXvpnOQt",
        "outputId": "e8189c96-a89b-464e-e325-e1539317abea"
      },
      "outputs": [
        {
          "output_type": "execute_result",
          "data": {
            "text/plain": [
              "['-BOS-',\n",
              " 'this',\n",
              " 'movie',\n",
              " 'is',\n",
              " 'something',\n",
              " 'of',\n",
              " 'an',\n",
              " 'impostor',\n",
              " 'itself',\n",
              " ',',\n",
              " 'stretching',\n",
              " 'and',\n",
              " 'padding',\n",
              " 'its',\n",
              " 'material',\n",
              " 'in',\n",
              " 'a',\n",
              " 'blur',\n",
              " 'of',\n",
              " 'dead',\n",
              " 'ends',\n",
              " 'and',\n",
              " 'distracting',\n",
              " 'camera',\n",
              " 'work',\n",
              " '.',\n",
              " '-EOS-']"
            ]
          },
          "metadata": {},
          "execution_count": 25
        }
      ],
      "source": [
        "vocab.decode(vocab.encode(training_pairs[0,0].split()))"
      ]
    },
    {
      "cell_type": "markdown",
      "metadata": {
        "id": "cnrRiRkJnOQt"
      },
      "source": [
        "* and string _join_ reverses _split_:"
      ]
    },
    {
      "cell_type": "code",
      "execution_count": 26,
      "metadata": {
        "colab": {
          "base_uri": "https://localhost:8080/",
          "height": 64
        },
        "id": "fEeh7E0ynOQt",
        "outputId": "24cf902f-c9d8-46ff-cf96-2510ec6a0572"
      },
      "outputs": [
        {
          "output_type": "execute_result",
          "data": {
            "text/plain": [
              "'-BOS- this movie is something of an impostor itself , stretching and padding its material in a blur of dead ends and distracting camera work . -EOS-'"
            ],
            "application/vnd.google.colaboratory.intrinsic+json": {
              "type": "string"
            }
          },
          "metadata": {},
          "execution_count": 26
        }
      ],
      "source": [
        "' '.join(vocab.decode(vocab.encode(training_pairs[0,0].split())))"
      ]
    },
    {
      "cell_type": "markdown",
      "metadata": {
        "id": "dcGLLsUsKTrM"
      },
      "source": [
        "We can also encode and decode entire batches of sequences. This will use pad symbols/codes to make the sequences in the same batch have the same length.\n",
        "\n",
        "For example, see the first two documents:"
      ]
    },
    {
      "cell_type": "code",
      "execution_count": 27,
      "metadata": {
        "colab": {
          "base_uri": "https://localhost:8080/"
        },
        "id": "H0WrecDnnOQu",
        "outputId": "5c1b1385-3462-4349-f057-f2358bc661b7"
      },
      "outputs": [
        {
          "output_type": "execute_result",
          "data": {
            "text/plain": [
              "array(['-BOS- this movie is something of an impostor itself , stretching and padding its material in a blur of dead ends and distracting camera work . -EOS-',\n",
              "       '-BOS- a girl at a southern baptist high school finds that her pregnancy makes her an outcast . -EOS-'],\n",
              "      dtype='<U313')"
            ]
          },
          "metadata": {},
          "execution_count": 27
        }
      ],
      "source": [
        "training_pairs[0:2,0]"
      ]
    },
    {
      "cell_type": "markdown",
      "metadata": {
        "id": "wBQNvJe0nOQu"
      },
      "source": [
        "note that they have different length:"
      ]
    },
    {
      "cell_type": "code",
      "execution_count": 28,
      "metadata": {
        "colab": {
          "base_uri": "https://localhost:8080/"
        },
        "id": "gJl3wj6FnOQu",
        "outputId": "f816e745-004e-429a-8228-2fbad00fd75a"
      },
      "outputs": [
        {
          "output_type": "stream",
          "name": "stdout",
          "text": [
            "27 tokens\n",
            "19 tokens\n"
          ]
        }
      ],
      "source": [
        "for x in training_pairs[0:2,0]:\n",
        "    print(len(x.split()), \"tokens\")"
      ]
    },
    {
      "cell_type": "markdown",
      "metadata": {
        "id": "Ejd0cgAPnOQu"
      },
      "source": [
        "The `batch_encode` method returns an array where the shortest sequence is padded to the length of the longest one:"
      ]
    },
    {
      "cell_type": "code",
      "execution_count": 29,
      "metadata": {
        "colab": {
          "base_uri": "https://localhost:8080/"
        },
        "id": "K0tlz8JlnOQu",
        "outputId": "656a6522-4a5b-4241-f440-a69a1896b81d"
      },
      "outputs": [
        {
          "output_type": "execute_result",
          "data": {
            "text/plain": [
              "array([[   1,   23,   39,   12,  190,    9,   20, 2491,  332,    6, 4410,\n",
              "           8, 6897,   31,  404,   11,    7, 6898,    9,  323,  474,    8,\n",
              "        4411, 1056,  100,    4,    2],\n",
              "       [   1,    7,  147,   34,    7, 1179, 6899,  224,  211,  131,   13,\n",
              "          25, 4412,  117,   25,   20, 2492,    4,    2,    0,    0,    0,\n",
              "           0,    0,    0,    0,    0]])"
            ]
          },
          "metadata": {},
          "execution_count": 29
        }
      ],
      "source": [
        "vocab.batch_encode([x.split() for x in training_pairs[0:2,0]])"
      ]
    },
    {
      "cell_type": "markdown",
      "metadata": {
        "id": "QS7F7F9enOQv"
      },
      "source": [
        "The `0`s at the end of the shorter sequence indicate the PAD tokens.\n",
        "\n",
        "We can use `batch_decode` to convert token ids back into string tokens, and, on the way, we can remove the PAD symbols:"
      ]
    },
    {
      "cell_type": "code",
      "execution_count": 30,
      "metadata": {
        "colab": {
          "base_uri": "https://localhost:8080/"
        },
        "id": "mV5DJAJAnOQv",
        "outputId": "73252af8-09bc-4ec9-94fa-a9fb76b63643"
      },
      "outputs": [
        {
          "output_type": "execute_result",
          "data": {
            "text/plain": [
              "[['-BOS-',\n",
              "  'this',\n",
              "  'movie',\n",
              "  'is',\n",
              "  'something',\n",
              "  'of',\n",
              "  'an',\n",
              "  'impostor',\n",
              "  'itself',\n",
              "  ',',\n",
              "  'stretching',\n",
              "  'and',\n",
              "  'padding',\n",
              "  'its',\n",
              "  'material',\n",
              "  'in',\n",
              "  'a',\n",
              "  'blur',\n",
              "  'of',\n",
              "  'dead',\n",
              "  'ends',\n",
              "  'and',\n",
              "  'distracting',\n",
              "  'camera',\n",
              "  'work',\n",
              "  '.',\n",
              "  '-EOS-'],\n",
              " ['-BOS-',\n",
              "  'a',\n",
              "  'girl',\n",
              "  'at',\n",
              "  'a',\n",
              "  'southern',\n",
              "  'baptist',\n",
              "  'high',\n",
              "  'school',\n",
              "  'finds',\n",
              "  'that',\n",
              "  'her',\n",
              "  'pregnancy',\n",
              "  'makes',\n",
              "  'her',\n",
              "  'an',\n",
              "  'outcast',\n",
              "  '.',\n",
              "  '-EOS-']]"
            ]
          },
          "metadata": {},
          "execution_count": 30
        }
      ],
      "source": [
        "vocab.batch_decode(vocab.batch_encode([x.split() for x in training_pairs[0:2,0]]), strip_pad=True)"
      ]
    },
    {
      "cell_type": "markdown",
      "metadata": {
        "id": "nlCp-s27VJ8l"
      },
      "source": [
        "In this notebook, we will be using an enriched vocabulary based on an external resource.\n",
        "This resource, called [GloVe](https://nlp.stanford.edu/projects/glove/), is not only a vocabulary, but also a collection of word-level features, which we will be using to initialise our text encoders."
      ]
    },
    {
      "cell_type": "code",
      "execution_count": 31,
      "metadata": {
        "id": "GfALT7ofrNc3",
        "colab": {
          "base_uri": "https://localhost:8080/"
        },
        "outputId": "8c3546d1-f6f2-4b62-bc3c-4ac9a3ca1b8d"
      },
      "outputs": [
        {
          "output_type": "stream",
          "name": "stdout",
          "text": [
            "GloVe embeddings already in disk\n"
          ]
        }
      ],
      "source": [
        "import os\n",
        "\n",
        "if not os.path.exists(\"glove.6B.50d.txt.gz\"):\n",
        "    print(\"Downloading 50-dimensional GloVe embeddings for English\")\n",
        "    # this will download 50-dimensional GloVe embeddings\n",
        "    !wget -q --show-progress https://raw.githubusercontent.com/probabll/ntmi-tutorials/master/datasets/glove.6B.50d.txt.gz\n",
        "else:\n",
        "    print(\"GloVe embeddings already in disk\")"
      ]
    },
    {
      "cell_type": "markdown",
      "metadata": {
        "id": "fPfH0xeVVJ8m"
      },
      "source": [
        "The helper code below loads the embeddings from the compressed file into a dictionary mapping words (as python strings) to vectors (as numpy arrays)."
      ]
    },
    {
      "cell_type": "code",
      "execution_count": 32,
      "metadata": {
        "id": "KNniLbWprTUY"
      },
      "outputs": [],
      "source": [
        "import gzip\n",
        "\n",
        "\n",
        "def load_embeddings(path):\n",
        "    \"\"\"\n",
        "    Load word embeddings\n",
        "    :param path: path to word embedding file\n",
        "    :return: a dict mapping words to embedding vectors (np.array)\n",
        "    \"\"\"\n",
        "    if not os.path.exists(path):\n",
        "        raise RuntimeError(\"You need to download the word embeddings\")\n",
        "\n",
        "    w2v = dict()\n",
        "\n",
        "    with gzip.open(path, 'rt', encoding='utf-8') as f:\n",
        "        for line in f:\n",
        "            word, vec = line.split(u' ', 1)\n",
        "            w2v[word] = np.array(vec.split(), dtype=np.float32)\n",
        "\n",
        "    return w2v"
      ]
    },
    {
      "cell_type": "markdown",
      "metadata": {
        "id": "9RFuE70_VJ8m"
      },
      "source": [
        "Here we load the GloVe vectors into a dictionary:"
      ]
    },
    {
      "cell_type": "code",
      "execution_count": 33,
      "metadata": {
        "id": "xgdBwirIsCau",
        "colab": {
          "base_uri": "https://localhost:8080/"
        },
        "outputId": "3d9e245b-d39f-4ca4-886e-3d9e578d3190"
      },
      "outputs": [
        {
          "output_type": "stream",
          "name": "stdout",
          "text": [
            "We loaded 400000 GloVe vectors\n"
          ]
        }
      ],
      "source": [
        "glove = load_embeddings('glove.6B.50d.txt.gz')\n",
        "print(f\"We loaded {len(glove)} GloVe vectors\")"
      ]
    },
    {
      "cell_type": "markdown",
      "metadata": {
        "id": "kNOsUTcdVJ8m"
      },
      "source": [
        "And then, we extend the vocabulary class using words in GloVe:"
      ]
    },
    {
      "cell_type": "code",
      "execution_count": 34,
      "metadata": {
        "id": "JEUaRb1wxeK2",
        "colab": {
          "base_uri": "https://localhost:8080/"
        },
        "outputId": "d5ec65fb-a913-456a-c49d-f86fb5e73bbc"
      },
      "outputs": [
        {
          "output_type": "stream",
          "name": "stdout",
          "text": [
            "Vocab size before GloVe: 15854\n",
            "Vocab size after GloVe: 402015\n"
          ]
        }
      ],
      "source": [
        "print(f\"Vocab size before GloVe: {len(vocab)}\")\n",
        "for w in glove.keys():\n",
        "    vocab.add(w)\n",
        "print(f\"Vocab size after GloVe: {len(vocab)}\")"
      ]
    },
    {
      "cell_type": "markdown",
      "metadata": {
        "editable": true,
        "id": "06BMGjPT7BFp",
        "tags": [
          "topic"
        ]
      },
      "source": [
        "<a name='sec:Corpus_and_Data_Loader'></a>\n",
        "## Corpus and Data Loader\n",
        "\n",
        "We will be developing our models in torch, thus we need to wrap our corpus into a `Dataset` and a `DataLoader`:"
      ]
    },
    {
      "cell_type": "code",
      "execution_count": 35,
      "metadata": {
        "id": "3ptZKyBw7FN3"
      },
      "outputs": [],
      "source": [
        "import torch\n",
        "from torch.utils.data import Dataset, DataLoader\n",
        "\n",
        "\n",
        "class LabelledCorpus(Dataset):\n",
        "    \"\"\"\n",
        "    Use this to give torch access to a corpus of labelled documents.\n",
        "    This class will also know the vocab object and the set of classes,\n",
        "    and it will take care of coding strings into integers consistently.\n",
        "    \"\"\"\n",
        "\n",
        "    def __init__(self, corpus_x, corpus_y, vocab: Vocabulary, labels: list):\n",
        "        \"\"\"\n",
        "        In PyTorch we better always manipulate numerical codes, rather than text.\n",
        "        So, our Corpus object will contain a vocab that converts words to codes.\n",
        "\n",
        "        :param corpus_x: docs (token sequences -- you should take care of tokenization outside this class)\n",
        "        :param corpus_y: classes\n",
        "        :param vocab: vocabulary for token sequences\n",
        "        :param labels: possible classes\n",
        "        \"\"\"\n",
        "        self.corpus_x = list(corpus_x)\n",
        "        self.corpus_y = list(corpus_y)\n",
        "        assert len(self.corpus_x) == len(self.corpus_y), \"I need doc-label pairs\"\n",
        "        self.vocab = vocab\n",
        "        self.labels = tuple(labels)\n",
        "        self.label2int = {y: k for k, y in enumerate(labels)}\n",
        "\n",
        "    def labelstr(self, k: int):\n",
        "        \"\"\"Convert from integer to (str) label\"\"\"\n",
        "        return self.labels[k]\n",
        "\n",
        "    def __len__(self):\n",
        "        \"\"\"Size of the corpus in number of sequence pairs\"\"\"\n",
        "        return len(self.corpus_x)\n",
        "\n",
        "    def __getitem__(self, idx: int):\n",
        "        \"\"\"Return corpus_x[idx] and corpus_y[idx] converted to codes\"\"\"\n",
        "        x = self.vocab.encode(self.corpus_x[idx], add_bos=False, add_eos=False)\n",
        "        y = self.label2int[self.corpus_y[idx]]\n",
        "        return x, y\n",
        "\n",
        "    @classmethod\n",
        "    def pad_to_longest(cls, pairs, pad_id=0):\n",
        "        \"\"\"\n",
        "        Take a list of coded sequences and returns a torch tensor where\n",
        "        every sentence has the same length (by means of using PAD tokens)\n",
        "        \"\"\"\n",
        "        longest = max(len(x) for x, y in pairs)\n",
        "        batch_x = torch.tensor([x + [pad_id] * (longest - len(x)) for x, y in pairs])\n",
        "        batch_y = torch.tensor([y for x, y in pairs])\n",
        "        return batch_x, batch_y"
      ]
    },
    {
      "cell_type": "markdown",
      "metadata": {
        "id": "_jqOgaYwLPhE"
      },
      "source": [
        "Let's play a bit with our `LabelledCorpus` class and make sure we understand what it does for us:"
      ]
    },
    {
      "cell_type": "code",
      "execution_count": 36,
      "metadata": {
        "id": "rVrZjx0R8gYU"
      },
      "outputs": [],
      "source": [
        "training = LabelledCorpus(\n",
        "    # these are the input documents (we use split so they are sequences of tokens)\n",
        "    (x.split() for x in training_pairs[:, 0]),\n",
        "    training_pairs[:, 1], # these are the documents' labels\n",
        "    vocab,\n",
        "    labels\n",
        ")\n",
        "dev = LabelledCorpus(\n",
        "    # these are the input documents (we use split so they are sequences of tokens)\n",
        "    (x.split() for x in dev_pairs[:, 0]),\n",
        "    dev_pairs[:, 1],\n",
        "    vocab,\n",
        "    labels\n",
        ")\n",
        "test = LabelledCorpus(\n",
        "    # these are the input documents (we use split so they are sequences of tokens)\n",
        "    (x.split() for x in test_pairs[:, 0]),\n",
        "    test_pairs[:, 1],\n",
        "    vocab,\n",
        "    labels\n",
        ")"
      ]
    },
    {
      "cell_type": "markdown",
      "metadata": {
        "id": "I-ebPbVxLha8"
      },
      "source": [
        "Here's an example of how we get a `DataLoader` for a corpus, we simply choose the `Dataset` object we want (training/dev/test), the batch size we want, whether we need shuffling (e.g., for training batches in SGD), and how we \"glue\" data points of different length together (i.e., a function such as `pad_to_longest` which `LabelledCorpus` provides for us)."
      ]
    },
    {
      "cell_type": "code",
      "execution_count": 37,
      "metadata": {
        "colab": {
          "base_uri": "https://localhost:8080/"
        },
        "id": "NhVrqdcI827_",
        "outputId": "a15a7f3b-5551-4227-8cc4-cb0c436dce25"
      },
      "outputs": [
        {
          "output_type": "stream",
          "name": "stdout",
          "text": [
            "# This is how the labelled documents in a batch come out of the data loader\n",
            "\n",
            "tensor([[    1,    16,   419,   118,     7,  1445,     9,    51,   220,    96,\n",
            "           462,    33,   235,    81,     8,   212,  3515, 11581,     4,     2,\n",
            "             0,     0,     0,     0,     0,     0,     0,     0,     0,     0,\n",
            "             0,     0,     0,     0,     0,     0,     0,     0,     0,     0,\n",
            "             0,     0,     0,     0,     0,     0,     0,     0,     0],\n",
            "        [    1,    23,  1306,  1049,     7,  1515,  3825,     9,  3888,   166,\n",
            "            15,  2879,  9120,   296,    17,    49,   947,    23,  3864,    52,\n",
            "          2979,    23,  9121,     6,   933,  1437,  5509,  2815,    15,     7,\n",
            "           405,  9122,  9123,     8,     7,  5510,     6,  9124,   240,     9,\n",
            "          2713,    13,    60,   123,  9125,     8,  5511,     4,     2],\n",
            "        [    1,     7,   261,  2221,     9,     7,    39,    13,  3041,  9899,\n",
            "             8,    12,    17,  1035,    17,    16,    12,   138,     6,  1187,\n",
            "             8,   667,     4,     2,     0,     0,     0,     0,     0,     0,\n",
            "             0,     0,     0,     0,     0,     0,     0,     0,     0,     0,\n",
            "             0,     0,     0,     0,     0,     0,     0,     0,     0]]) tensor([1, 0, 1])\n",
            "\n",
            "You can visualise the data using batch_decode:\n",
            "\n",
            "subj\t-BOS- it shows us a slice of life that's very different from our own and yet instantly recognizable . -EOS-\n",
            "obj\t-BOS- this definitely delivers a remarkable mixture of explosive drama with wickedly ironical humor as you follow this eclectic story surrounding this tide-dyed , free spirited couple's showdown with a mysterious faberge' egg and a seedy , well-woven cast of criminals that will both trill and amuse . -EOS-\n",
            "subj\t-BOS- a small gem of a movie that defies classification and is as thought-provoking as it is funny , scary and sad . -EOS-\n"
          ]
        }
      ],
      "source": [
        "batcher = DataLoader(training, batch_size=3, shuffle=True, collate_fn=LabelledCorpus.pad_to_longest)\n",
        "for batch_x, batch_y in batcher:\n",
        "    print(\"# This is how the labelled documents in a batch come out of the data loader\\n\")\n",
        "\n",
        "    print(batch_x, batch_y)\n",
        "\n",
        "    print(\"\\nYou can visualise the data using batch_decode:\\n\")\n",
        "\n",
        "    for x, y in zip(training.vocab.batch_decode(batch_x, strip_pad=True), batch_y):\n",
        "        print(f\"{training.labelstr(y)}\\t{' '.join(x)}\")\n",
        "\n",
        "    break"
      ]
    },
    {
      "cell_type": "markdown",
      "metadata": {
        "editable": true,
        "id": "kjldtg5dJW7a",
        "tags": [
          "topic"
        ]
      },
      "source": [
        "<a name='sec:Text_Encoders'></a>\n",
        "# Text Encoders\n",
        "\n",
        "In NLP applications, we often have to *encode* a piece of text, that is, map it to one (or more) vector(s) in some real coordinate space. For example, that is the case in text classification.\n",
        "\n",
        "Check the resource we prepared with the [Encoders](https://github.com/probabll/ntmi-tutorials/blob/main/Encoders.ipynb) relevant for this module. They are:\n",
        "* From Tokens to Vectors\n",
        "\t* One-Hot Encoding\n",
        "\t* Word embeddings\n",
        "* Pooling from multiple vectors\n",
        "\t* Sum pooling\n",
        "\t* Average pooling\n",
        "* Mapping from one real coordinate space to another\n",
        "\t* Linear transformation\n",
        "\t* Nonlinear activation functions\n",
        "* Composing multiple vectors\n",
        "\t* Concatenation\n",
        "\t* Feed forward network\n",
        "\t* Recurrent neural network encoder\n",
        "\n",
        "We will use those NN blocks to i) encode a document (i.e., turn a document into features) and then ii) map that encoding to the parameters of our choice of probability mass function (pmf). In this class, we only work with the Categorical pmf.\n",
        "\n",
        "Whenever a neural network has parameters of its own, these are initialised in some standard way (typically at random). At initialisation, these parameters are uniformative. That is, we can use the NN, but the outputs are not optimised for any specific purpose. We will implement a training procedure later in this notebook.\n",
        "\n",
        "Throughout, we assume a *document* is a sequence $x=\\langle w_1, \\ldots, w_l \\rangle$ of $l$ tokens, each token comes from a vocabulary $\\mathcal V$ of $V$ tokens. The label space $\\mathcal C$ of our text classifier is made of $C$ classes. Hence, our goal is to map from any given $x$ to a $C$-dimensional probability vector $\\boldsymbol \\pi^{(x)} \\in \\Delta_{C-1}$.\n",
        "\n",
        "\n",
        "The rough idea is as follows:\n",
        "* we convert the tokens in a document to fixed-dimensional vectors ;\n",
        "* then, we map these vectors to a single vector representing the entire document (depending on how we design this operation, it may or may not discard information such as the order in which the tokens ocurred);\n",
        "* finally, we map this document encoding to a vector of $C$ logits (and softmax gives us $C$ probabilities), which then is used to parameterise the Categorical pmf."
      ]
    },
    {
      "cell_type": "code",
      "execution_count": 38,
      "metadata": {
        "id": "JmQMQlr5nOQx"
      },
      "outputs": [],
      "source": [
        "import torch\n",
        "from torch import nn\n",
        "import torch.nn.functional as F"
      ]
    },
    {
      "cell_type": "markdown",
      "metadata": {
        "id": "uqHGePkrVJ8n"
      },
      "source": [
        "We copy 2 auxiliary functions from the [Encoders](https://github.com/probabll/ntmi-tutorials/blob/main/Encoders.ipynb) notebook, they implement sum and average pooling, see below:"
      ]
    },
    {
      "cell_type": "code",
      "execution_count": 39,
      "metadata": {
        "id": "si80ThEHnOQx"
      },
      "outputs": [],
      "source": [
        "def sum_pooling(input_sequences, sequence_mask):\n",
        "    \"\"\"\n",
        "    Returns the sum of the vectors along the sequence dimension.\n",
        "\n",
        "    :param input_sequences: [batch_size, max_length, D] a batch of sequences of D-dimensional vectors\n",
        "    :param sequence_mask: [batch_size, max_length] indicates which positions are valid (i.e., not PAD)\n",
        "        we use 1 for valid (not PAD) and 0 for PAD\n",
        "\n",
        "    :return: a tensor with output shape [batch_size, D]\n",
        "    \"\"\"\n",
        "\n",
        "    # here we replace padding positions by D-dimensional vectors of 0s,\n",
        "    #  this way those options won't contribute to the sum\n",
        "    # [batch_size, max_length, D]\n",
        "    masked = torch.where(\n",
        "        # we create an extra axis at the end of the tensor\n",
        "        sequence_mask.unsqueeze(-1),  # this has shape [batch_size, max_length, 1]\n",
        "        input_sequences,  # this has shape [batch_size, max_length, D]\n",
        "        torch.zeros_like(input_sequences)  # this has shape [batch_size, max_length, D]\n",
        "    )\n",
        "\n",
        "    # we sum, along the sequence dimension (second last),\n",
        "    #  the valid vectors (those that are not PAD)\n",
        "    # [batch_size, D]\n",
        "    return torch.sum(masked, dim=-2)"
      ]
    },
    {
      "cell_type": "code",
      "execution_count": 40,
      "metadata": {
        "id": "pT54TClInOQy"
      },
      "outputs": [],
      "source": [
        "def average_pooling(input_sequences, sequence_mask):\n",
        "    \"\"\"\n",
        "    Returns the average encoding of each sequence.\n",
        "\n",
        "    :param input_sequences: [batch_size, max_length, D] a batch of sequences of D-dimensional vectors\n",
        "    :param sequence_mask: [batch_size, max_length] indicates which positions are valid (i.e., not PAD)\n",
        "        we use 1 for valid (not PAD) and 0 for PAD\n",
        "\n",
        "    :return: a tensor with output shape [batch_size, D]\n",
        "    \"\"\"\n",
        "\n",
        "    # here we replace padding positions by D-dimensional vectors of 0s,\n",
        "    #  this way those options won't contribute to the sum\n",
        "    # [batch_size, max_length, D]\n",
        "    masked = torch.where(\n",
        "        # we create an extra axis at the end of the tensor\n",
        "        sequence_mask.unsqueeze(-1),  # this has shape [batch_size, max_length, 1]\n",
        "        input_sequences,  # this has shape [batch_size, max_length, D]\n",
        "        torch.zeros_like(input_sequences)  # this has shape [batch_size, max_length, D]\n",
        "    )\n",
        "\n",
        "    # we sum, along the sequence dimension (second last),\n",
        "    #  the valid vectors (those that are not PAD)\n",
        "    # we also divide by sequence length\n",
        "    # [batch_size, D]\n",
        "    avg = torch.sum(masked, dim=-2) / torch.sum(sequence_mask.float(), dim=-1, keepdims=True)\n",
        "\n",
        "    return avg"
      ]
    },
    {
      "cell_type": "markdown",
      "metadata": {
        "id": "31LSGoOIVJ8n"
      },
      "source": [
        "In this tutorial we will be using a pretrained resource, the GloVe embeddings. They will serve as the parameters of our Embedding layer, but before we can use them as such, we need to convert the GloVe dict to an np.array, we do that below:"
      ]
    },
    {
      "cell_type": "code",
      "execution_count": 41,
      "metadata": {
        "id": "IYlUtIxLsGQV"
      },
      "outputs": [],
      "source": [
        "def make_embedding_matrix(vocab: Vocabulary, w2v: dict, emb_dim: int, rng=np.random.RandomState(42)):\n",
        "    \"\"\"\n",
        "    Construct an Embedding matrix with shape (vocab_size, emb_dim) from a vocabulary\n",
        "    and a dict of GloVe embeddings.\n",
        "\n",
        "    :param vocab: a Vocabulary object, our embedding matrix will have a vector for each word\n",
        "        in this object.\n",
        "    :param w2v: a dictionary of word vectors (from GloVe)\n",
        "    :param emb_dim: dimensionality of embedding vectors\n",
        "    :param rng: a random number generator\n",
        "\n",
        "    :return: an np.array with shape (vocab_size, emb_dim) that can be used to initialise\n",
        "        a torch.nn.Embedding object.\n",
        "    \"\"\"\n",
        "    # We initialise a matrix full of zeros\n",
        "    E = np.zeros((len(vocab), emb_dim))\n",
        "    # Let's keep track of the sum of embeddings (this will be used later to give the -UNK- token its own embedding)\n",
        "    sum_emb = np.zeros(emb_dim)\n",
        "    # and the total number of words for which we found embeddings\n",
        "    N = 0\n",
        "    # as well as a list of words for which we did not find a GloVe embedding (it can happen)\n",
        "    not_found = []\n",
        "    # for all known symbols\n",
        "    for idx, sym in vocab.items():\n",
        "        v = w2v.get(sym, None)  # try to find a GloVe embedding\n",
        "        if v is None:  # sometimes we cannot find one\n",
        "            v = w2v.get(sym.lower(), None)  # then we try to find the embedding of a lowercase version of the token\n",
        "        if v is None:  # sometimes that's not enough\n",
        "            not_found.append(idx)  # so this word won't have a pretrained embedding\n",
        "        else:  # but, when we do find\n",
        "            if len(v) != emb_dim:\n",
        "                raise ValueError(f\"I expected {emb_dim}-dimensional vectors, got {len(v)}\")\n",
        "            # we store this embedding in the corresponding row of the table\n",
        "            E[idx] = v\n",
        "            # and update the sum of embeddings and the total count\n",
        "            sum_emb += v\n",
        "            N += 1\n",
        "    # we can use the average of all embeddings that made it to the table\n",
        "    # as a representation of the -UNK- symbol (this is a common heuristic)\n",
        "    avg_emb = sum_emb / N\n",
        "    E[vocab.unk_id] = avg_emb\n",
        "    # and, similarly, as a representation of the symbols that did not get an embedding\n",
        "    for idx in not_found:\n",
        "        E[idx] = avg_emb\n",
        "        # An alternative to this would be to give these words a _random_ embedding:\n",
        "        ## E[idx] = rng.normal(0., 1., size=emb_dim)\n",
        "        # then we would let these random embeddings be updated by SGD\n",
        "        # For this notebook, we use the simpler average embedding heuristic\n",
        "        # and keep the embedding frozen during training of the classifier.\n",
        "    return E"
      ]
    },
    {
      "cell_type": "code",
      "execution_count": 42,
      "metadata": {
        "colab": {
          "base_uri": "https://localhost:8080/"
        },
        "id": "WYc9X-l5teFV",
        "outputId": "8a0171dc-d710-458b-ffee-6a87d90623b9"
      },
      "outputs": [
        {
          "output_type": "execute_result",
          "data": {
            "text/plain": [
              "((402015, 50), 402015, 400000)"
            ]
          },
          "metadata": {},
          "execution_count": 42
        }
      ],
      "source": [
        "E = make_embedding_matrix(vocab, glove, 50)\n",
        "E.shape, len(vocab), len(glove)"
      ]
    },
    {
      "cell_type": "markdown",
      "metadata": {
        "editable": true,
        "id": "JlqKGKLn1FSH",
        "tags": [
          "topic"
        ]
      },
      "source": [
        "<a name='sec:Neural_Text_Classifier'></a>\n",
        "# Neural Text Classifier\n",
        "\n",
        "In this section we will design a complete architecture for our text classifier."
      ]
    },
    {
      "cell_type": "code",
      "execution_count": 43,
      "metadata": {
        "id": "z_z8N_ZpTNMy"
      },
      "outputs": [],
      "source": [
        "import random\n",
        "import numpy as np\n",
        "import torch\n",
        "\n",
        "def seed_all(seed=42):  # this is needed for reproducibility\n",
        "    np.random.seed(seed)\n",
        "    random.seed(seed)\n",
        "    torch.manual_seed(seed)\n",
        "\n",
        "\n",
        "seed_all()  # whenever we want to reset random seeds, we run `seed_all`"
      ]
    },
    {
      "cell_type": "code",
      "execution_count": 44,
      "metadata": {
        "id": "pf3iDZ-nhL9E"
      },
      "outputs": [],
      "source": [
        "# various useful packages\n",
        "import torch\n",
        "import torch.nn as nn\n",
        "import torch.nn.functional as F\n",
        "import torch.optim as opt\n",
        "from tqdm.auto import tqdm\n",
        "import matplotlib.pyplot as plt"
      ]
    },
    {
      "cell_type": "markdown",
      "metadata": {
        "editable": true,
        "id": "LrU5_s6knOQy",
        "tags": [
          "topic"
        ]
      },
      "source": [
        "<a name='sec:Torch_Categorical'></a>\n",
        "## Torch Categorical\n",
        "\n",
        "Before we continue, let's have a look at PyTorch's implementation of the Categorical distribution.\n",
        "\n",
        "Of course, for binary classification, we could use the Bernoulli distribution, but we will go on with the Categorical for two reasons: a) a Categorical over 2 outcomes is essentially equivalent to the Bernoulli, and b) this way you have a resource that also works with datasets that contain more than 2 categories.\n",
        "\n",
        "In PyTorch, the package `torch.distributions` ships _many_ standard distributions. The implementations there are efficient, tested, and offer an intuitive API."
      ]
    },
    {
      "cell_type": "code",
      "execution_count": 45,
      "metadata": {
        "id": "VeOHyGqunOQy"
      },
      "outputs": [],
      "source": [
        "import torch.distributions as td"
      ]
    },
    {
      "cell_type": "markdown",
      "metadata": {
        "id": "MLZ34kXpnOQy"
      },
      "source": [
        "Here we show how you can use a `td.Categorical` object.\n",
        "\n",
        "As standard, we specify a Categorical distribution by specifying the probability masses of the classes in its support. PyTorch infers the support size from the length of the probability vector:"
      ]
    },
    {
      "cell_type": "code",
      "execution_count": 46,
      "metadata": {
        "colab": {
          "base_uri": "https://localhost:8080/"
        },
        "id": "VVUCzp2LnOQz",
        "outputId": "98975299-2f5e-489a-c516-28de2f43eab7"
      },
      "outputs": [
        {
          "output_type": "execute_result",
          "data": {
            "text/plain": [
              "tensor([0.1000, 0.2000, 0.7000])"
            ]
          },
          "metadata": {},
          "execution_count": 46
        }
      ],
      "source": [
        "# Construct a categorical object from 3 probabilities\n",
        "p = td.Categorical(probs=torch.tensor([0.1, 0.2, 0.7]))\n",
        "p.probs"
      ]
    },
    {
      "cell_type": "code",
      "execution_count": 47,
      "metadata": {
        "colab": {
          "base_uri": "https://localhost:8080/"
        },
        "id": "61vTBgYAnOQz",
        "outputId": "3e94ab46-6097-4da5-926e-548e42d6863c"
      },
      "outputs": [
        {
          "output_type": "execute_result",
          "data": {
            "text/plain": [
              "tensor([0.4000, 0.2000, 0.3000, 0.1000])"
            ]
          },
          "metadata": {},
          "execution_count": 47
        }
      ],
      "source": [
        "# Construct a categorical object from 4 probabilities\n",
        "p = td.Categorical(probs=torch.tensor([0.4, 0.2, 0.3, 0.1]))\n",
        "p.probs"
      ]
    },
    {
      "cell_type": "markdown",
      "metadata": {
        "id": "fSU_QpT_nOQ0"
      },
      "source": [
        "Of course, we can also construct a whole _batch_ of Categorical objects, in which case the last dimension indicates the size of the support.\n",
        "\n",
        "In the following example we construct a batch of 2 Categorical distributions:"
      ]
    },
    {
      "cell_type": "code",
      "execution_count": 48,
      "metadata": {
        "colab": {
          "base_uri": "https://localhost:8080/"
        },
        "id": "q2a0LzlnnOQ1",
        "outputId": "2001e973-204b-4175-e29b-94864fb089b5"
      },
      "outputs": [
        {
          "output_type": "execute_result",
          "data": {
            "text/plain": [
              "tensor([[0.1000, 0.2000, 0.7000],\n",
              "        [0.2000, 0.2000, 0.6000]])"
            ]
          },
          "metadata": {},
          "execution_count": 48
        }
      ],
      "source": [
        "p = td.Categorical(probs=torch.tensor([[0.1, 0.2, 0.7], [0.2, 0.2, 0.6]]))\n",
        "p.probs"
      ]
    },
    {
      "cell_type": "markdown",
      "metadata": {
        "id": "1U8MgC3znOQ1"
      },
      "source": [
        "PyTorch also lets us specify the Categorical parameters in _logit_ space. This is convenient when predicting the logits with neural networks because in this case PyTorch can make numerically efficient tricks whenever probs or log probs are needed."
      ]
    },
    {
      "cell_type": "code",
      "execution_count": 49,
      "metadata": {
        "colab": {
          "base_uri": "https://localhost:8080/"
        },
        "id": "TJeVi2QPnOQ1",
        "outputId": "beb434b2-0012-4bbc-ea3f-36aa3019f084"
      },
      "outputs": [
        {
          "output_type": "execute_result",
          "data": {
            "text/plain": [
              "tensor([[0.0350, 0.1053, 0.8597],\n",
              "        [0.2243, 0.1661, 0.6096]])"
            ]
          },
          "metadata": {},
          "execution_count": 49
        }
      ],
      "source": [
        "# with the `logits` argument we can construct Categorical objects without using softmax ourselves\n",
        "p = td.Categorical(logits=torch.tensor([[-1.1, 0, 2.1], [0.1, -0.2, 1.1]]))\n",
        "p.probs  # but see that internally, torch knows that softmax is needed"
      ]
    },
    {
      "cell_type": "markdown",
      "metadata": {
        "id": "MRXOpGYonOQ1"
      },
      "source": [
        "There are two main methods for any one distribution:\n",
        "* `log_prob` to compute the probability mass of an outcome\n",
        "* `sample` to draw outcomes from the distribution\n",
        "\n",
        "Let's test `log_prob` and see how it works:"
      ]
    },
    {
      "cell_type": "code",
      "execution_count": 50,
      "metadata": {
        "colab": {
          "base_uri": "https://localhost:8080/"
        },
        "id": "sde1tcCynOQ1",
        "outputId": "826d82ab-8208-4e91-ca49-8cc0aa78b252"
      },
      "outputs": [
        {
          "output_type": "execute_result",
          "data": {
            "text/plain": [
              "tensor([[-3.3512, -1.7949]])"
            ]
          },
          "metadata": {},
          "execution_count": 50
        }
      ],
      "source": [
        "# this returns log prob of outcome 0 under the first Cateogrical distribution\n",
        "# and outcome 1 under the second Categorical distribution\n",
        "p.log_prob(torch.tensor([[0, 1]]))"
      ]
    },
    {
      "cell_type": "code",
      "execution_count": 51,
      "metadata": {
        "colab": {
          "base_uri": "https://localhost:8080/"
        },
        "id": "NL6HCHqwnOQ2",
        "outputId": "565cce43-8e22-495b-936a-dc2d7b58473b"
      },
      "outputs": [
        {
          "output_type": "execute_result",
          "data": {
            "text/plain": [
              "tensor([[0.0350, 0.1661]])"
            ]
          },
          "metadata": {},
          "execution_count": 51
        }
      ],
      "source": [
        "# this returns prob of outcome 0 under the first Cateogrical distribution\n",
        "# and outcome 1 under the second Categorical distribution\n",
        "torch.exp(p.log_prob(torch.tensor([[0, 1]])))"
      ]
    },
    {
      "cell_type": "markdown",
      "metadata": {
        "id": "q_1L0HtxnOQ2"
      },
      "source": [
        "Now we sample from the two Categorical distributions:"
      ]
    },
    {
      "cell_type": "code",
      "execution_count": 52,
      "metadata": {
        "colab": {
          "base_uri": "https://localhost:8080/"
        },
        "id": "-8ucH2HbnOQ2",
        "outputId": "9c37d6fd-311a-4641-d60f-676f1ec7f64a"
      },
      "outputs": [
        {
          "output_type": "stream",
          "name": "stdout",
          "text": [
            "tensor([2, 2])\n",
            "tensor([2, 2])\n",
            "tensor([2, 2])\n",
            "tensor([2, 2])\n",
            "tensor([2, 1])\n",
            "tensor([1, 2])\n",
            "tensor([2, 2])\n",
            "tensor([2, 2])\n",
            "tensor([2, 2])\n",
            "tensor([2, 0])\n"
          ]
        }
      ],
      "source": [
        "for _ in range(10):\n",
        "    print(p.sample())  # this returns one sample from each distribution"
      ]
    },
    {
      "cell_type": "markdown",
      "metadata": {
        "id": "Iqsv3S0tnOQ2"
      },
      "source": [
        "We can also obtain multiple samples at once. PyTorch will stack those samples in an object with shape `[sample_size, batch_shape]`:"
      ]
    },
    {
      "cell_type": "code",
      "execution_count": 53,
      "metadata": {
        "colab": {
          "base_uri": "https://localhost:8080/"
        },
        "id": "N-Mnr36GnOQ2",
        "outputId": "25d7b564-454e-4705-9e96-287610f0df1b"
      },
      "outputs": [
        {
          "output_type": "execute_result",
          "data": {
            "text/plain": [
              "tensor([[2, 2],\n",
              "        [2, 0],\n",
              "        [2, 2],\n",
              "        [1, 2],\n",
              "        [1, 2],\n",
              "        [2, 0],\n",
              "        [2, 2],\n",
              "        [2, 1],\n",
              "        [2, 1],\n",
              "        [2, 0]])"
            ]
          },
          "metadata": {},
          "execution_count": 53
        }
      ],
      "source": [
        "p.sample(sample_shape=(10,))"
      ]
    },
    {
      "cell_type": "markdown",
      "metadata": {
        "id": "koFASvlwnOQ2"
      },
      "source": [
        "To demonstrate that the sampling algorithm is correct, let's sample many times and compute an MLE for the probability of each class:"
      ]
    },
    {
      "cell_type": "code",
      "execution_count": 54,
      "metadata": {
        "colab": {
          "base_uri": "https://localhost:8080/"
        },
        "id": "Ga0em0_9nOQ2",
        "outputId": "14d12893-83d4-4428-9e18-25e8e12239dd"
      },
      "outputs": [
        {
          "output_type": "execute_result",
          "data": {
            "text/plain": [
              "tensor([[0.0380, 0.1120, 0.8500],\n",
              "        [0.2210, 0.1640, 0.6150]])"
            ]
          },
          "metadata": {},
          "execution_count": 54
        }
      ],
      "source": [
        "# here we draw 1000 samples from each Categorical, this returns an object of shape [1000, 2];\n",
        "# then we one-hot encode them into 3-dimensional vectors (since this is the number of classes in this example),\n",
        "#  this returns an object of shape [1000, 2, 3];\n",
        "# then we take the mean along the sample dimension, which gives us an object of shape [2, 3]\n",
        "torch.mean(F.one_hot(p.sample(sample_shape=(1000,)), 3).float(), 0)"
      ]
    },
    {
      "cell_type": "code",
      "execution_count": 55,
      "metadata": {
        "colab": {
          "base_uri": "https://localhost:8080/"
        },
        "id": "YH7TbH-ZnOQ2",
        "outputId": "1ac34b20-9875-435a-82c4-fd26a2d4ca66"
      },
      "outputs": [
        {
          "output_type": "execute_result",
          "data": {
            "text/plain": [
              "tensor([[0.0350, 0.1053, 0.8597],\n",
              "        [0.2243, 0.1661, 0.6096]])"
            ]
          },
          "metadata": {},
          "execution_count": 55
        }
      ],
      "source": [
        "p.probs  # look how similar they are, with more samples they would get ever more similar"
      ]
    },
    {
      "cell_type": "markdown",
      "metadata": {
        "editable": true,
        "id": "vwu9uUjCnOQ2",
        "tags": []
      },
      "source": [
        "This is it. We will be using `td.Categorical` in our text classifier.\n",
        "\n",
        "And, to enjoy the improved numerical stability of torch code, we will parameterise our Categorical distributions through `logits` as opposed to `probs` (this means, we will let torch take care of the _softmax_ internally to the `td.Categorical` class)."
      ]
    },
    {
      "cell_type": "markdown",
      "metadata": {
        "editable": true,
        "id": "9GLMX3_Hvmel",
        "tags": [
          "topic"
        ]
      },
      "source": [
        "<a name='sec:Base_class'></a>\n",
        "## Base class\n",
        "\n",
        "This is a general class, which we will specialise later.\n",
        "\n",
        "The only method that will need specialisation is the `_predict_logits` which will be responsible for the 3 main tasks of our NN:\n",
        "1. produce token encodings\n",
        "2. produce a document encoding\n",
        "3. produce logits (and parameterise a Categorical pmf)"
      ]
    },
    {
      "cell_type": "markdown",
      "metadata": {
        "id": "ysKjh_fDVJ8o"
      },
      "source": [
        "<a name='ungraded-1'></a> **Ungraded Exercise 1 - Base class**\n",
        "\n",
        "Study the base Classifier class."
      ]
    },
    {
      "cell_type": "code",
      "execution_count": 56,
      "metadata": {
        "editable": true,
        "id": "bZjt4gVDiIRz",
        "tags": []
      },
      "outputs": [],
      "source": [
        "import torch.distributions as td\n",
        "\n",
        "\n",
        "class Classifier(nn.Module):  # every NN in torch is a subclass of nn.Module\n",
        "    \"\"\"\n",
        "    Statistically a text classifier is a model that maps from some input document x\n",
        "     to a conditional probability distribution over the space of classes.\n",
        "\n",
        "    We achieve this mapping by using a neural network architecture to map from x\n",
        "     to the parameters of a Categorical pmf over C labels.\n",
        "\n",
        "    The parameters of the neural network are initialised at random, hence they\n",
        "     are uninformative unless we train the model.\n",
        "\n",
        "    For training, we typically obtain some labelled data,\n",
        "     and then optimise the parameters to maximise the model's likelihood function.\n",
        "\n",
        "    This class takes care of specifying the model (with randomly initialised parameters).\n",
        "    Later, we will write some helper code for training.\n",
        "    \"\"\"\n",
        "\n",
        "    def __init__(self, vocab_size: int, num_classes: int, pad_id=0, bos_id=1, eos_id=2, unk_id=3):\n",
        "        \"\"\"\n",
        "        :param vocab_size: size of the known vocabulary\n",
        "        :param num_classes: number of classes in the text classification problem\n",
        "        :param pad_id: index of the PAD token in the vocabulary\n",
        "        :param bos_id: index of the BOS token in the vocabulary\n",
        "        :param eos_id: index of the EOS token in the vocabulary\n",
        "        :param unk_id: index of the UNK token in the vocabulary\n",
        "        \"\"\"\n",
        "        super().__init__()  # whenever we develop a torch Module, we need this, it calls the constructor of the class nn.Module\n",
        "        self._vocab_size = vocab_size\n",
        "        self._num_classes = num_classes\n",
        "        self._pad = pad_id\n",
        "        self._bos = bos_id\n",
        "        self._eos = eos_id\n",
        "        self._unk = unk_id\n",
        "\n",
        "    # Python properties allow client code to access the property\n",
        "    # without the risk of modifying it\n",
        "    @property\n",
        "    def vocab_size(self):\n",
        "        return self._vocab_size\n",
        "\n",
        "    @property\n",
        "    def num_classes(self):\n",
        "        return self._num_classes\n",
        "\n",
        "    @property\n",
        "    def pad(self):\n",
        "        return self._pad\n",
        "\n",
        "    @property\n",
        "    def bos(self):\n",
        "        return self._bos\n",
        "\n",
        "    @property\n",
        "    def eos(self):\n",
        "        return self._eos\n",
        "\n",
        "    @property\n",
        "    def unk(self):\n",
        "        return self._unk\n",
        "\n",
        "    def num_parameters(self, trainable_only=True):\n",
        "        \"\"\"\n",
        "        Count the number of parameters in the model\n",
        "\n",
        "        :param trainable_only: change to False to count all parameters (even those in frozen layers)\n",
        "        \"\"\"\n",
        "        if trainable_only:\n",
        "            return sum(np.prod(theta.shape) for theta in self.parameters() if theta.requires_grad)\n",
        "        else:\n",
        "            return sum(np.prod(theta.shape) for theta in self.parameters())\n",
        "\n",
        "    def _predict_logits(self, x):\n",
        "        \"\"\"\n",
        "        For each document in the batch of inputs, compute the C-dimensional vetor of probabilities\n",
        "         that should parameterise the conditional Categorical distribution.\n",
        "\n",
        "        This method will encode the tokens in x,\n",
        "         combine the token encodings,\n",
        "         then predict logits\n",
        "\n",
        "        It will do so in a batched way, so that we can use batches of documents.\n",
        "\n",
        "        :param x: [batch_size, max_length] a batch of documents, each document is a sequence of token ids\n",
        "\n",
        "        :return: a tensor with shape [batch_size, num_classes].\n",
        "        \"\"\"\n",
        "        raise NotImplementedError(\"Each type of classifier will have a different implementation here\")\n",
        "\n",
        "    def forward(self, x):\n",
        "        \"\"\"\n",
        "        Returns a Categorical cpd (see td.Categorical) for each input document.\n",
        "\n",
        "        This method uses _predict_logits to map each document to a vector of C logits,\n",
        "         then parameterises and returns a categorical pmf.\n",
        "\n",
        "        It will do so in a batched way, so that we can use batches of documents.\n",
        "\n",
        "        :param x: [batch_size, max_length] a batch of documents, each document is a sequence of token ids\n",
        "        :return: a td.Categorical object whose logits have shape [batch_size, num_classes]\n",
        "        \"\"\"\n",
        "        # [batch_size, num_classes]\n",
        "        s = self._predict_logits(x)\n",
        "        return td.Categorical(logits=s)  # for numerical efficiency reasons,  the call to softmax(s) happens internally to the Categorical object (only when needed)\n",
        "\n",
        "    def log_prob(self, x, y):\n",
        "        \"\"\"\n",
        "        For each (x, y) in the batch, compute the log conditional probability mass\n",
        "         assigned to the observed label y given the observed document x.\n",
        "\n",
        "\n",
        "        :param x: [batch_size, max_length] a batch of documents, each document is a sequence of token ids\n",
        "        :param y: [batch_size] a batch of document labels\n",
        "        :return: a tensor with shape [batch_size]\n",
        "        \"\"\"\n",
        "        # one C-dimensional Categorical cpd for each document in the batch\n",
        "        cpds = self(x)  # in torch, one we call a module like this `module(...)`, torch calls the `module.forward` method\n",
        "        # [batch_size]\n",
        "        logp = cpds.log_prob(y)\n",
        "        return logp\n",
        "\n",
        "    def mode(self, x):\n",
        "        \"\"\"\n",
        "        For each cpd Y|X=x, predicts the mode of the cpd.\n",
        "        :param x: [batch_size, max_length] a batch of documents, each document is a sequence of token ids\n",
        "\n",
        "        :return: a batch of predicted document labels [batch_size]\n",
        "        \"\"\"\n",
        "        batch_size = x.shape[0]\n",
        "        max_length = x.shape[1]\n",
        "        with torch.no_grad():\n",
        "            cpds = self(x)  # one Categorical cpd per doc in the batch\n",
        "            # [batch_size]\n",
        "            y_pred = torch.argmax(cpds.probs, -1)  # argmax of each cpd (option -1 means argmax along the last axis of the tensor)\n",
        "            return y_pred\n",
        "\n",
        "    def sample(self, x, sample_size=None):\n",
        "        \"\"\"\n",
        "        Per document in the batch, draws a number of samples from the model,\n",
        "         each sample is a class for the document.\n",
        "\n",
        "        :param x: [batch_size, max_len] a batch of documents, each document is a sequence of token ids\n",
        "        :param sample_size: number of samples\n",
        "            - use None to obtain one sample per element in the batch\n",
        "            - use a tuple to obtain a batch of samples for each and every element in the batch\n",
        "                for example sample_size=(10,) will return 10 samples per element in the batch\n",
        "        :return: a batch of sampled labels with shape [batch_size] if sample_size is None\n",
        "            else with shape [sample_size, batch_size]\n",
        "        \"\"\"\n",
        "        batch_size = x.shape[0]\n",
        "        max_length = x.shape[1]\n",
        "        with torch.no_grad():\n",
        "            cpds = self(x) # one Categorical cpd per doc in the batch\n",
        "            # [sample_size, batch_size]\n",
        "            y_pred = cpds.sample(sample_size)\n",
        "            return y_pred\n",
        "\n",
        "    def loss(self, x, y):\n",
        "        \"\"\"\n",
        "        Compute a scalar loss from a batch of labelled documents.\n",
        "\n",
        "        The loss is the negative log likelihood of the model estimated on a single batch:\n",
        "            - 1/batch_size * \\sum_{s} log P(y[s]|x[s], theta)\n",
        "\n",
        "        :param x: [batch_size, max_length] a batch of documents, each document is a sequence of token ids\n",
        "        :param y: [batch_size] a batch of document labels\n",
        "        :return: a scalar tensor (i.e., a tensor with shape [])\n",
        "        \"\"\"\n",
        "        return -self.log_prob(x=x, y=y).mean(0)"
      ]
    },
    {
      "cell_type": "markdown",
      "metadata": {
        "editable": true,
        "tags": [
          "topic"
        ],
        "id": "WUwBi2biVJ8o"
      },
      "source": [
        "<a name='sec:Average_Embedding_Classifier'></a>\n",
        "\n",
        "## Average Embedding Classifier\n",
        "\n",
        "This first model encodes a document as the average embedding of the tokens in it, after that, it uses a feed-forward net to map the document encoding to $C$ logits for the Categorical distribution.\n",
        "\n",
        "Here is the model\n",
        "\\begin{align}\n",
        "Y | X=w_{1:l} &\\sim \\mathrm{Categorical}(\\mathbf g(w_{1:l}; \\theta))\n",
        "\\end{align}\n",
        "\n",
        "where $\\mathbf g$ is the following neural network:\n",
        "\\begin{align}\n",
        "\\mathbf e_i &= \\mathrm{embed}_D(w_i; \\theta_{\\text{glove}})  & i \\in [l]\\\\\n",
        "\\mathbf h &= \\frac{1}{l} \\mathbf e_i \\\\\n",
        "\\mathbf s &= \\mathrm{ffnn}_C(\\mathbf h; \\theta_{\\text{out}})\\\\\n",
        "\\mathbf g(w_{1:l}; \\theta) &= \\mathrm{softmax}(\\mathbf s)\n",
        "\\end{align}\n",
        "\n"
      ]
    },
    {
      "cell_type": "markdown",
      "metadata": {
        "id": "xy3DU65tVJ8p"
      },
      "source": [
        "<a name='ungraded-2'></a> **Ungraded Exercise 2 - AvgEmbClassifier**\n",
        "\n",
        "Study the `AvgEmbClassifier` class below and complete its `_predict_logits` method."
      ]
    },
    {
      "cell_type": "code",
      "execution_count": 57,
      "metadata": {
        "editable": true,
        "tags": [
          "student"
        ],
        "id": "bth-u_aIVJ8p"
      },
      "outputs": [],
      "source": [
        "class AvgEmbClassifier(Classifier):  # this module is a specialisation of Classifier\n",
        "\n",
        "    def __init__(self, vocab_size, num_classes, word_embed_dim: int, hidden_size: int, p_drop=0.2, E=None, pad_id=0, bos_id=1, eos_id=2, unk_id=3):\n",
        "        \"\"\"\n",
        "        :param vocab_size: number of known words\n",
        "        :param num_classes: number of classes in the text classification problem\n",
        "        :param word_embed_dim: dimensionality of word embeddings (50 for GloVe embeddings)\n",
        "        :param hidden_size: dimensionality of hidden layer in the FFNN\n",
        "        :param p_drop: dropout rate (for units)\n",
        "            To fight overfitting to small datasets, it is common to use a training trick called Dropout,\n",
        "            whereby we drop some units (i.e., map them to 0) at random.\n",
        "            We typically do that right before linear layers.\n",
        "            This parameter controls the proportion of random units we drop.\n",
        "        :param E: pretrained embeddings (optional), this object should be a torch.tensor of type torch.float32\n",
        "            Using pretrained embeddings helps in 2 ways:\n",
        "            * we can train those embeddings using very large unlabelled datasets,\n",
        "              so they contain features that are more predictive of syntactic and semantic properties of words\n",
        "            * we can keep these parameters frozen (that is, we do not further train them)\n",
        "              which helps against overfitting to the small text classification dataset we have\n",
        "        \"\"\"\n",
        "        # we always begin by calling the constructor of the parent class\n",
        "        super().__init__(vocab_size=vocab_size, num_classes=num_classes, pad_id=pad_id, bos_id=bos_id, eos_id=eos_id, unk_id=unk_id)\n",
        "        self.word_embed_dim = word_embed_dim\n",
        "        self.hidden_size = hidden_size\n",
        "\n",
        "        # Now we construct the necessary NN blocks\n",
        "\n",
        "        # First, we construct an embedding layer\n",
        "        if E is None:  # here we use a randomly initialised embedding matrix\n",
        "            self.word_embed = nn.Embedding(self.vocab_size, embedding_dim=word_embed_dim)\n",
        "        else:  # here we use the pretrained embeddings, and keep them frozen\n",
        "            if E.shape != (vocab_size, word_embed_dim):\n",
        "                raise ValueError(f\"E should have shape {(vocab_size, word_embed_dim)}, got {E.shape}\")\n",
        "            self.word_embed = nn.Embedding.from_pretrained(E, freeze=True)\n",
        "\n",
        "        # Next, we construct an FFNN\n",
        "        self.logits_predictor = nn.Sequential(\n",
        "            nn.Dropout(p_drop),  # this is a special operation meant to avoid overfitting\n",
        "            nn.Linear(word_embed_dim, hidden_size),\n",
        "            nn.ReLU(),\n",
        "            nn.Dropout(p_drop),\n",
        "            nn.Linear(hidden_size, num_classes)\n",
        "        )\n",
        "\n",
        "        # You will be using self.word_embed and self.logits_predictor in `_predict_logits` below\n",
        "\n",
        "\n",
        "    def _predict_logits(self, x):\n",
        "        \"\"\"\n",
        "        For each document in the batch of inputs, compute the C-dimensional vetor of probabilities\n",
        "         that should parameterise the conditional Categorical distribution.\n",
        "\n",
        "        This method will encode the tokens in x (using D-dimensinoal embedding vectors),\n",
        "         average the token embeddings\n",
        "         then predict logits (using an FFNN).\n",
        "\n",
        "        It will do so in a batched way, so that we can use batches of documents.\n",
        "\n",
        "        :param x: [batch_size, max_length] a batch of documents, each document is a sequence of token ids\n",
        "        :return: output has shape [batch_size, num_classes]\n",
        "        \"\"\"\n",
        "        # Here you should\n",
        "        # 1. embed the tokens in x\n",
        "        # 2. obtain document encodings by average of word embeddings\n",
        "        # 3. obtain and return logits with shape [batch_size, num_classes]\n",
        "        raise NotImplementedError(\"Implement me!\")\n"
      ]
    },
    {
      "cell_type": "markdown",
      "metadata": {
        "id": "sZIq3IVvVJ8p"
      },
      "source": [
        "\n",
        "<details>\n",
        "    <summary> <b>Click to see a solution</b> </summary>\n",
        "\n",
        "If you double-click the cell, you will be able to copy the code:\n",
        "\n",
        "```python\n",
        "\n",
        "class AvgEmbClassifier(Classifier):  # this module is a specialisation of Classifier\n",
        "\n",
        "    def __init__(self, vocab_size, num_classes, word_embed_dim: int, hidden_size: int, p_drop=0.5, E=None, pad_id=0, bos_id=1, eos_id=2, unk_id=3):\n",
        "        \"\"\"\n",
        "        :param vocab_size: number of known words\n",
        "        :param num_classes: number of classes in the text classification problem\n",
        "        :param word_embed_dim: dimensionality of word embeddings (50 for GloVe embeddings)\n",
        "        :param hidden_size: dimensionality of hidden layer in the FFNN\n",
        "        :param p_drop: dropout rate (for units)\n",
        "            To fight overfitting to small datasets, it is common to use a training trick called Dropout,\n",
        "            whereby we drop some units (i.e., map them to 0) at random.\n",
        "            We typically do that right before linear layers.\n",
        "            This parameter controls the proportion of random units we drop.\n",
        "        :param E: pretrained embeddings (optional), this object should be a torch.tensor of type torch.float32\n",
        "            Using pretrained embeddings helps in 2 ways:\n",
        "            * we can train those embeddings using very large unlabelled datasets,\n",
        "              so they contain features that are more predictive of syntactic and semantic properties of words\n",
        "            * we can keep these parameters frozen (that is, we do not further train them)\n",
        "              which helps against overfitting to the small text classification dataset we have            \n",
        "        \"\"\"\n",
        "        # we always begin by calling the constructor of the parent class\n",
        "        super().__init__(vocab_size=vocab_size, num_classes=num_classes, pad_id=pad_id, bos_id=bos_id, eos_id=eos_id, unk_id=unk_id)\n",
        "        self.word_embed_dim = word_embed_dim\n",
        "        self.hidden_size = hidden_size\n",
        "        \n",
        "        # Now we construct the necessary NN blocks\n",
        "        \n",
        "        # First, we construct an embedding layer\n",
        "        if E is None:  # here we use a randomly initialised embedding matrix\n",
        "            self.word_embed = nn.Embedding(self.vocab_size, embedding_dim=word_embed_dim)\n",
        "        else:  # here we use the pretrained embeddings, and keep them frozen\n",
        "            if E.shape != (vocab_size, word_embed_dim):\n",
        "                raise ValueError(f\"E should have shape {(vocab_size, word_embed_dim)}, got {E.shape}\")\n",
        "            self.word_embed = nn.Embedding.from_pretrained(E, freeze=True)\n",
        "        \n",
        "        # Next, we construct an FFNN\n",
        "        self.logits_predictor = nn.Sequential(\n",
        "            nn.Dropout(p_drop),  # this is a special operation meant to avoid overfitting\n",
        "            nn.Linear(word_embed_dim, hidden_size),\n",
        "            nn.ReLU(),\n",
        "            nn.Dropout(p_drop),\n",
        "            nn.Linear(hidden_size, num_classes)\n",
        "        )\n",
        "        \n",
        "        # You will be using self.word_embed and self.logits_predictor in `_predict_logits` below\n",
        "\n",
        "\n",
        "    def _predict_logits(self, x):\n",
        "        \"\"\"\n",
        "        For each document in the batch of inputs, compute the C-dimensional vetor of probabilities\n",
        "         that should parameterise the conditional Categorical distribution.\n",
        "\n",
        "        This method will encode the tokens in x (using D-dimensinoal embedding vectors),\n",
        "         average the token embeddings         \n",
        "         then predict logits (using an MLP).\n",
        "\n",
        "        It will do so in a batched way, so that we can use batches of documents.\n",
        "\n",
        "        :param x: [batch_size, max_length] a batch of documents, each document is a sequence of token ids\n",
        "        :return: output has shape [batch_size, num_classes]\n",
        "        \"\"\"\n",
        "        # [batch_size, max_length] this is 1 if the token is _not_ a PAD token\n",
        "        valid_positions = x != self.pad\n",
        "        \n",
        "        # [batch_size, max_length, embed_dim]\n",
        "        e = self.word_embed(x) # embed tokens\n",
        "        h = average_pooling(e, valid_positions) # average of token embeddings makes the encoding of each doc\n",
        "        # finally, we predict logits\n",
        "        # [batch_size, num_classes]\n",
        "        s = self.logits_predictor(h)\n",
        "        return s\n",
        "\n",
        "\n",
        "```\n",
        "\n",
        "---\n",
        "    \n",
        "</details>      \n"
      ]
    },
    {
      "cell_type": "markdown",
      "metadata": {
        "id": "dy1qnmgtnOQ6"
      },
      "source": [
        "The following bit of code tests the output shape of your implementation:"
      ]
    },
    {
      "cell_type": "code",
      "source": [
        "\n",
        "class AvgEmbClassifier(Classifier):  # this module is a specialisation of Classifier\n",
        "\n",
        "    def __init__(self, vocab_size, num_classes, word_embed_dim: int, hidden_size: int, p_drop=0.5, E=None, pad_id=0, bos_id=1, eos_id=2, unk_id=3):\n",
        "        \"\"\"\n",
        "        :param vocab_size: number of known words\n",
        "        :param num_classes: number of classes in the text classification problem\n",
        "        :param word_embed_dim: dimensionality of word embeddings (50 for GloVe embeddings)\n",
        "        :param hidden_size: dimensionality of hidden layer in the FFNN\n",
        "        :param p_drop: dropout rate (for units)\n",
        "            To fight overfitting to small datasets, it is common to use a training trick called Dropout,\n",
        "            whereby we drop some units (i.e., map them to 0) at random.\n",
        "            We typically do that right before linear layers.\n",
        "            This parameter controls the proportion of random units we drop.\n",
        "        :param E: pretrained embeddings (optional), this object should be a torch.tensor of type torch.float32\n",
        "            Using pretrained embeddings helps in 2 ways:\n",
        "            * we can train those embeddings using very large unlabelled datasets,\n",
        "              so they contain features that are more predictive of syntactic and semantic properties of words\n",
        "            * we can keep these parameters frozen (that is, we do not further train them)\n",
        "              which helps against overfitting to the small text classification dataset we have\n",
        "        \"\"\"\n",
        "        # we always begin by calling the constructor of the parent class\n",
        "        super().__init__(vocab_size=vocab_size, num_classes=num_classes, pad_id=pad_id, bos_id=bos_id, eos_id=eos_id, unk_id=unk_id)\n",
        "        self.word_embed_dim = word_embed_dim\n",
        "        self.hidden_size = hidden_size\n",
        "\n",
        "        # Now we construct the necessary NN blocks\n",
        "\n",
        "        # First, we construct an embedding layer\n",
        "        if E is None:  # here we use a randomly initialised embedding matrix\n",
        "            self.word_embed = nn.Embedding(self.vocab_size, embedding_dim=word_embed_dim)\n",
        "        else:  # here we use the pretrained embeddings, and keep them frozen\n",
        "            if E.shape != (vocab_size, word_embed_dim):\n",
        "                raise ValueError(f\"E should have shape {(vocab_size, word_embed_dim)}, got {E.shape}\")\n",
        "            self.word_embed = nn.Embedding.from_pretrained(E, freeze=True)\n",
        "\n",
        "        # Next, we construct an FFNN\n",
        "        self.logits_predictor = nn.Sequential(\n",
        "            nn.Dropout(p_drop),  # this is a special operation meant to avoid overfitting\n",
        "            nn.Linear(word_embed_dim, hidden_size),\n",
        "            nn.ReLU(),\n",
        "            nn.Dropout(p_drop),\n",
        "            nn.Linear(hidden_size, num_classes)\n",
        "        )\n",
        "\n",
        "        # You will be using self.word_embed and self.logits_predictor in `_predict_logits` below\n",
        "\n",
        "\n",
        "    def _predict_logits(self, x):\n",
        "        \"\"\"\n",
        "        For each document in the batch of inputs, compute the C-dimensional vetor of probabilities\n",
        "         that should parameterise the conditional Categorical distribution.\n",
        "\n",
        "        This method will encode the tokens in x (using D-dimensinoal embedding vectors),\n",
        "         average the token embeddings\n",
        "         then predict logits (using an MLP).\n",
        "\n",
        "        It will do so in a batched way, so that we can use batches of documents.\n",
        "\n",
        "        :param x: [batch_size, max_length] a batch of documents, each document is a sequence of token ids\n",
        "        :return: output has shape [batch_size, num_classes]\n",
        "        \"\"\"\n",
        "        # [batch_size, max_length] this is 1 if the token is _not_ a PAD token\n",
        "        valid_positions = x != self.pad\n",
        "\n",
        "        # [batch_size, max_length, embed_dim]\n",
        "        e = self.word_embed(x) # embed tokens\n",
        "        h = average_pooling(e, valid_positions) # average of token embeddings makes the encoding of each doc\n",
        "        # finally, we predict logits\n",
        "        # [batch_size, num_classes]\n",
        "        s = self.logits_predictor(h)\n",
        "        return s\n"
      ],
      "metadata": {
        "id": "LMiNqk2NYmB9"
      },
      "execution_count": 58,
      "outputs": []
    },
    {
      "cell_type": "code",
      "execution_count": 59,
      "metadata": {
        "id": "8tmcQJQ6nOQ6"
      },
      "outputs": [],
      "source": [
        "def test_avgemb_cls(vocab, labels, data, device=torch.device('cpu')):\n",
        "\n",
        "\n",
        "    model = AvgEmbClassifier(\n",
        "        vocab_size=len(vocab),\n",
        "        num_classes=len(labels),\n",
        "        word_embed_dim=E.shape[-1],\n",
        "        hidden_size=100,\n",
        "        E=torch.tensor(E, dtype=torch.float32, device=device),\n",
        "    ).to(device)\n",
        "\n",
        "    print(\"Model\")\n",
        "    print(model)\n",
        "    # report number of parameters\n",
        "    print(\"Model size (in number of trainable parameters):\", model.num_parameters())\n",
        "    print(\"Model size (including frozen modules):\", model.num_parameters(trainable_only=False))\n",
        "\n",
        "    batcher = DataLoader(data, batch_size=3, shuffle=False, collate_fn=LabelledCorpus.pad_to_longest)\n",
        "\n",
        "    for batch_x, batch_y in batcher:\n",
        "        model.train()\n",
        "        # the output should be C logits for each document in the batch\n",
        "        assert model._predict_logits(batch_x.to(device)).shape == (batch_x.shape[0], model.num_classes)\n",
        "        break"
      ]
    },
    {
      "cell_type": "code",
      "execution_count": 60,
      "metadata": {
        "colab": {
          "base_uri": "https://localhost:8080/"
        },
        "id": "8Isr9WCDnOQ6",
        "outputId": "02b46870-0dc8-403b-d5ba-149ef08023af"
      },
      "outputs": [
        {
          "output_type": "stream",
          "name": "stdout",
          "text": [
            "Model\n",
            "AvgEmbClassifier(\n",
            "  (word_embed): Embedding(402015, 50)\n",
            "  (logits_predictor): Sequential(\n",
            "    (0): Dropout(p=0.5, inplace=False)\n",
            "    (1): Linear(in_features=50, out_features=100, bias=True)\n",
            "    (2): ReLU()\n",
            "    (3): Dropout(p=0.5, inplace=False)\n",
            "    (4): Linear(in_features=100, out_features=2, bias=True)\n",
            "  )\n",
            ")\n",
            "Model size (in number of trainable parameters): 5302\n",
            "Model size (including frozen modules): 20106052\n"
          ]
        }
      ],
      "source": [
        "test_avgemb_cls(vocab, labels, dev)"
      ]
    },
    {
      "cell_type": "markdown",
      "metadata": {
        "editable": true,
        "id": "H5tVw_y_zmDl",
        "tags": [
          "topic"
        ]
      },
      "source": [
        "<a name='sec:BiLSTM_Classifier'></a>\n",
        "\n",
        "## BiLSTM Classifier\n",
        "\n",
        "Our next model encodes the document using a bidirectional recurrent neural network.\n",
        "\n",
        "Here is the model\n",
        "\\begin{align}\n",
        "Y | X=w_{1:l} &\\sim \\mathrm{Categorical}(\\mathbf g(w_{1:l}; \\theta))\n",
        "\\end{align}\n",
        "\n",
        "where $\\mathbf g$ is the following neural network:\n",
        "\\begin{align}\n",
        "\\mathbf e_i &= \\mathrm{embed}_D(w_i; \\theta_{\\text{glove}})  & i \\in [l]\\\\\n",
        "\\mathbf u_{1:l} &= \\mathrm{bilstm}_{2H}(\\mathbf e_{1:l}; \\theta_{\\text{enc}}) \\\\\n",
        "\\mathbf h &= \\mathbf u_l\\\\\n",
        "\\mathbf s &= \\mathrm{ffnn}_C(\\mathbf u_l; \\theta_{\\text{out}})\\\\\n",
        "\\mathbf g(w_{1:l}; \\theta) &= \\mathrm{softmax}(\\mathbf s)\n",
        "\\end{align}\n",
        "\n"
      ]
    },
    {
      "cell_type": "markdown",
      "metadata": {
        "editable": true,
        "tags": [],
        "id": "CM6OGqezVJ8p"
      },
      "source": [
        "Before implementing the classifier, we implement a helper function which will help us fight overfitting to small datasets. This function realises a procedure known as _word dropout_. See the documentation for an explanation."
      ]
    },
    {
      "cell_type": "code",
      "execution_count": 61,
      "metadata": {
        "id": "MVjYuTeSVJ8p"
      },
      "outputs": [],
      "source": [
        "def word_dropout(x, pad, unk, rate=0.):  # this is a helper function we will use to specify a good encoder\n",
        "    \"\"\"\n",
        "    Neural networks have so many parameters that they tend to overfit.\n",
        "    The strategy we saw to counter overfitting in GLMs (i.e., L2 regularisation) isn't sufficient.\n",
        "    A strategy that's more effective for recurrent nets is something called \"word dropout\",\n",
        "        whereby we omit some words from the input at random. This tends to force the RNN\n",
        "        to learn generalisable features.\n",
        "\n",
        "    :param x: input sequence (batched sequences of token ids)\n",
        "    :param pad: pad idx\n",
        "    :param unk: unk idx\n",
        "    :param rate: rate at which we omit words\n",
        "        we omit a word by replacing its token id by that of the UNK token\n",
        "\n",
        "    :return: a perturbed version of the input x, with same shape.\n",
        "    \"\"\"\n",
        "    if rate <= 0.:\n",
        "        return x\n",
        "    # 1 if valid\n",
        "    vmask = (x != pad).float()\n",
        "    # 1 if dropped\n",
        "    rmask = (torch.rand(x.shape, device=vmask.device) < rate).float()\n",
        "    # if a position is valid and should be dropped, we replace it by unk\n",
        "    # else, we leave it unchanged\n",
        "    return torch.where(vmask + rmask == 2, torch.full_like(x, unk), x)"
      ]
    },
    {
      "cell_type": "markdown",
      "metadata": {
        "id": "xeCzk5PlVJ8p"
      },
      "source": [
        "<a name='ungraded-3'></a> **Ungraded Exercise 3 - BiLSTMClassifier**\n",
        "\n",
        "Study the BiLSTMClassifier class below and complete the implementation of its `_predict_logits` method."
      ]
    },
    {
      "cell_type": "code",
      "execution_count": 62,
      "metadata": {
        "editable": true,
        "id": "gJBMqy60nOQ5",
        "tags": [
          "student"
        ]
      },
      "outputs": [],
      "source": [
        "from torch.nn.utils.rnn import pack_padded_sequence, pad_packed_sequence\n",
        "\n",
        "\n",
        "class BiLSTMClassifier(Classifier):\n",
        "\n",
        "    def __init__(self, vocab_size, num_classes, word_embed_dim: int, hidden_size: int, cell_size: int, p_drop=0.5, w_drop=0.5, num_layers=1, E=None, pad_id=0, bos_id=1, eos_id=2, unk_id=3):\n",
        "        \"\"\"\n",
        "        :param vocab_size: number of known words\n",
        "        :param num_classes: number of classes in the text classification problem\n",
        "        :param word_embed_dim: dimensionality of word embeddings (50 for GloVe)\n",
        "        :param hidden_size: dimensionality of hidden layer in the FFNN\n",
        "        :param cell_size: dimensionality of the LSTM cell\n",
        "        :param p_drop: dropout rate (for units)\n",
        "            To fight overfitting to small datasets, it is common to use a training trick called Dropout,\n",
        "                whereby we drop some units (i.e., map them to 0) at random.\n",
        "                We typically do that right before linear layers.\n",
        "                This parameter controls the proportion of random units we drop.\n",
        "        :param w_drop: dropout rate (for words)\n",
        "            This parameter controls a form of dropout that applies to token sequences\n",
        "            as inputs to recurrent layers (see helper function above).\n",
        "        :param num_layers: number of LSTMs to be stacked\n",
        "        :param E: pretrained embeddings (optional), this object needs to be a torch tensor of type torch.float32\n",
        "            Using pretrained embeddings helps in 2 ways:\n",
        "            * we can train those embeddings using very large unlabelled datasets,\n",
        "              so they contain features that are more predictive of syntactic and semantic properties of words\n",
        "            * we can keep these parameters frozen (that is, we do not further train them)\n",
        "              which helps against overfitting to the small text classification dataset we have\n",
        "        \"\"\"\n",
        "        # we always begin by calling the constructor of the parent class\n",
        "        super().__init__(vocab_size=vocab_size, num_classes=num_classes, pad_id=pad_id, bos_id=bos_id, eos_id=eos_id, unk_id=unk_id)\n",
        "        self.word_embed_dim = word_embed_dim\n",
        "        self.hidden_size = hidden_size\n",
        "\n",
        "        # Now we construct the necessary NN blocks\n",
        "\n",
        "        # First, we construct an embedding layer\n",
        "        if E is None:  # here we use a randomly initialised embedding matrix\n",
        "            self.word_embed = nn.Embedding(self.vocab_size, embedding_dim=word_embed_dim)\n",
        "        else:  # here we use the pretrained embeddings, and keep them frozen\n",
        "            if E.shape != (vocab_size, word_embed_dim):\n",
        "                raise ValueError(f\"E should have shape {(vocab_size, word_embed_dim)}, got {E.shape}\")\n",
        "            self.word_embed = nn.Embedding.from_pretrained(E, freeze=True)\n",
        "\n",
        "        self.w_drop = w_drop\n",
        "\n",
        "        # Next, we construct a BiLSTM\n",
        "        self.encoder = nn.LSTM(\n",
        "            input_size=word_embed_dim,\n",
        "            hidden_size=cell_size,\n",
        "            num_layers=num_layers,\n",
        "            bidirectional=True,  # this makes the encoder bidirectional\n",
        "            # don't change the next two arguments\n",
        "            batch_first=True,  # this is important for torch to understand our batches\n",
        "            # this is a form of regularisation that we can use _between_\n",
        "            # BiLSTM layers, when we have more than 1;\n",
        "            # if used, it drops some output units (map them to 0)  of a BiLSTM layer\n",
        "            # before passing them on as inputs to the next BiLSTM layer\n",
        "            dropout=0. if num_layers == 1 else p_drop,\n",
        "        )\n",
        "\n",
        "        # Last, but not least, we construct an FFNN\n",
        "        # the bidirectional LSTM encoder produces outputs of size 2*hidden_size*num_layers\n",
        "        # thus our linear layer must take 2*hidden_size*num_layers inputs\n",
        "        self.logits_predictor = nn.Sequential(\n",
        "            # again, because NNs overfit easily and L2 regularisation is not sufficient\n",
        "            # to reduce this effect, we use techniques that have been shown more effective\n",
        "            # one such technique is called Dropout,\n",
        "            # whereby we drop some units (map them to 0) at random\n",
        "            # we normally use dropout right _before_ our linear layers\n",
        "            nn.Dropout(p_drop),\n",
        "            nn.Linear(num_layers * 2 * cell_size, hidden_size),\n",
        "            nn.ReLU(),\n",
        "            nn.Dropout(p_drop),\n",
        "            nn.Linear(hidden_size, num_classes)\n",
        "        )\n",
        "\n",
        "    def _predict_logits(self, x):\n",
        "        \"\"\"\n",
        "        For each document in the batch of inputs, compute the C-dimensional vetor of probabilities\n",
        "         that should parameterise the conditional Categorical distribution.\n",
        "\n",
        "        This method will encode the tokens in x (using D-dimensinoal embedding vectors),\n",
        "         compose the token embeddings in bidirectional context (using a BiLSTM),\n",
        "         then predict logits from the last BiLSTM state (using an FFNN).\n",
        "\n",
        "        It will do so in a batched way, so that we can use batches of documents.\n",
        "\n",
        "        :param x: [batch_size, max_length] a batch of documents, each document is a sequence of token ids\n",
        "\n",
        "        :return: tensor with shape [batch_size, num_classes].\n",
        "        \"\"\"\n",
        "\n",
        "        # [batch_size, max_length] this is 1 if the token is _not_ a PAD token\n",
        "        valid_positions = x != self.pad\n",
        "        # counts the number of non-PAD tokens\n",
        "        # [batch_size]\n",
        "        lengths = torch.sum(valid_positions.long(), -1)\n",
        "\n",
        "        # the first thing we do (if the network is being used in training mode)\n",
        "        # is to apply word dropout (as it helps fight overfitting)\n",
        "        if self.training:\n",
        "            # this perturbs some positions of the documents in x\n",
        "            # the result has the same shape and type as x\n",
        "            x = word_dropout(x, self.pad, self.unk, self.w_drop)\n",
        "\n",
        "        # Here you should\n",
        "        # 1. embed the tokens in x\n",
        "        # 2. obtain document encodings via the last state of a BiLSTM\n",
        "        # 3. obtain and return logits with shape [batch_size, num_classes]\n",
        "        raise NotImplementedError(\"Complete me!\")"
      ]
    },
    {
      "cell_type": "markdown",
      "metadata": {
        "id": "fdJahMf7VJ8p"
      },
      "source": [
        "\n",
        "<details>\n",
        "    <summary> <b>Click to see a solution</b> </summary>\n",
        "\n",
        "If you double-click the cell, you will be able to copy the code:\n",
        "\n",
        "```python\n",
        "\n",
        "from torch.nn.utils.rnn import pack_padded_sequence, pad_packed_sequence\n",
        "\n",
        "\n",
        "class BiLSTMClassifier(Classifier):\n",
        "\n",
        "    def __init__(self, vocab_size, num_classes, word_embed_dim: int, hidden_size: int, cell_size: int, p_drop=0.5, w_drop=0.5, num_layers=1, E=None, pad_id=0, bos_id=1, eos_id=2, unk_id=3):\n",
        "        \"\"\"\n",
        "        :param vocab_size: number of known words\n",
        "        :param num_classes: number of classes in the text classification problem\n",
        "        :param word_embed_dim: dimensionality of word embeddings (50 for GloVe)\n",
        "        :param hidden_size: dimensionality of hidden layer in the FFNN\n",
        "        :param cell_size: dimensionality of the LSTM cell\n",
        "        :param p_drop: dropout rate (for units)\n",
        "            To fight overfitting to small datasets, it is common to use a training trick called Dropout,\n",
        "                whereby we drop some units (i.e., map them to 0) at random.\n",
        "                We typically do that right before linear layers.\n",
        "                This parameter controls the proportion of random units we drop.\n",
        "        :param w_drop: dropout rate (for words)\n",
        "            This parameter controls a form of dropout that applies to token sequences\n",
        "            as inputs to recurrent layers (see helper function above).\n",
        "        :param num_layers: number of LSTMs to be stacked\n",
        "        :param E: pretrained embeddings (optional), this object needs to be a torch tensor of type torch.float32\n",
        "            Using pretrained embeddings helps in 2 ways:\n",
        "            * we can train those embeddings using very large unlabelled datasets,\n",
        "              so they contain features that are more predictive of syntactic and semantic properties of words\n",
        "            * we can keep these parameters frozen (that is, we do not further train them)\n",
        "              which helps against overfitting to the small text classification dataset we have            \n",
        "        \"\"\"\n",
        "        # we always begin by calling the constructor of the parent class\n",
        "        super().__init__(vocab_size=vocab_size, num_classes=num_classes, pad_id=pad_id, bos_id=bos_id, eos_id=eos_id, unk_id=unk_id)\n",
        "        self.word_embed_dim = word_embed_dim\n",
        "        self.hidden_size = hidden_size\n",
        "        \n",
        "        # Now we construct the necessary NN blocks\n",
        "        \n",
        "        # First, we construct an embedding layer\n",
        "        if E is None:  # here we use a randomly initialised embedding matrix\n",
        "            self.word_embed = nn.Embedding(self.vocab_size, embedding_dim=word_embed_dim)\n",
        "        else:  # here we use the pretrained embeddings, and keep them frozen\n",
        "            if E.shape != (vocab_size, word_embed_dim):\n",
        "                raise ValueError(f\"E should have shape {(vocab_size, word_embed_dim)}, got {E.shape}\")\n",
        "            self.word_embed = nn.Embedding.from_pretrained(E, freeze=True)\n",
        "\n",
        "        self.w_drop = w_drop\n",
        "\n",
        "        # Next, we construct a BiLSTM\n",
        "        self.encoder = nn.LSTM(\n",
        "            input_size=word_embed_dim,\n",
        "            hidden_size=cell_size,\n",
        "            num_layers=num_layers,\n",
        "            bidirectional=True,  # this makes the encoder bidirectional\n",
        "            # don't change the next two arguments\n",
        "            batch_first=True,  # this is important for torch to understand our batches\n",
        "            # this is a form of regularisation that we can use _between_\n",
        "            # BiLSTM layers, when we have more than 1;\n",
        "            # if used, it drops some output units (map them to 0)  of a BiLSTM layer\n",
        "            # before passing them on as inputs to the next BiLSTM layer\n",
        "            dropout=0. if num_layers == 1 else p_drop,\n",
        "        )\n",
        "\n",
        "        # Last, but not least, we construct an FFNN\n",
        "        # the bidirectional LSTM encoder produces outputs of size 2*hidden_size*num_layers\n",
        "        # thus our linear layer must take 2*hidden_size*num_layers inputs\n",
        "        self.logits_predictor = nn.Sequential(\n",
        "            # again, because NNs overfit easily and L2 regularisation is not sufficient\n",
        "            # to reduce this effect, we use techniques that have been shown more effective\n",
        "            # one such technique is called Dropout,\n",
        "            # whereby we drop some units (map them to 0) at random\n",
        "            # we normally use dropout right _before_ our linear layers\n",
        "            nn.Dropout(p_drop),\n",
        "            nn.Linear(num_layers * 2 * cell_size, hidden_size),\n",
        "            nn.ReLU(),\n",
        "            nn.Dropout(p_drop),\n",
        "            nn.Linear(hidden_size, num_classes)\n",
        "        )\n",
        "\n",
        "    def _predict_logits(self, x):\n",
        "        \"\"\"\n",
        "        For each document in the batch of inputs, compute the C-dimensional vetor of probabilities\n",
        "         that should parameterise the conditional Categorical distribution.\n",
        "\n",
        "        This method will encode the tokens in x (using D-dimensinoal embedding vectors),\n",
        "         compose the token embeddings in bidirectional context (using a BiLSTM),\n",
        "         then predict logits from the last BiLSTM state (using an FFNN).\n",
        "\n",
        "        It will do so in a batched way, so that we can use batches of documents.\n",
        "\n",
        "        :param x: [batch_size, max_length] a batch of documents, each document is a sequence of token ids\n",
        "\n",
        "        :return: tensor with shape [batch_size, num_classes].\n",
        "        \"\"\"\n",
        "\n",
        "        # [batch_size, max_length] this is 1 if the token is _not_ a PAD token\n",
        "        valid_positions = x != self.pad\n",
        "        # counts the number of non-PAD tokens\n",
        "        # [batch_size]\n",
        "        lengths = torch.sum(valid_positions.long(), -1)\n",
        "\n",
        "        # the first thing we do (if the network is being used in training mode)\n",
        "        # is to apply word dropout (as it helps fight overfitting)\n",
        "        if self.training:\n",
        "            x = word_dropout(x, self.pad, self.unk, self.w_drop)\n",
        "\n",
        "        # We now embed the tokens\n",
        "        # [batch_size, max_length, embed_dim]\n",
        "        e = self.word_embed(x)\n",
        "        # As we explained in the Encoder notebook,\n",
        "        # for torch to deal correctly with batches of sequences of difference length,\n",
        "        # we have to use the auxiliary functions pack_padded_sequence and pad_packed_sequence\n",
        "        packed_seqs = pack_padded_sequence(\n",
        "            e,\n",
        "            lengths.cpu(), # torch needs the lengths to be on CPU\n",
        "            # don't change the next two arguments\n",
        "            batch_first=True,\n",
        "            enforce_sorted=False  \n",
        "        )\n",
        "        u, (hx, cx) = self.encoder(packed_seqs)\n",
        "        u, _ = pad_packed_sequence(u, batch_first=True)\n",
        "\n",
        "        # we will classify from the concatenation of final states\n",
        "        # - permute moves the layer dimension to the end of the tensor,\n",
        "        # - flatten then concatenates the different layers\n",
        "        # the final shape is\n",
        "        # [batch_size, num_layers*2*hidden_dim]\n",
        "        h = torch.flatten(torch.permute(hx, (1, 2, 0)), 1, 2)\n",
        "\n",
        "        # an alternative idea would be to use the average of states u\n",
        "        # like this:\n",
        "        # h = average_pooling(u, valid_positions)        \n",
        "\n",
        "        # finally, we predict logits\n",
        "        # [batch_size, num_classes]\n",
        "        s = self.logits_predictor(h)\n",
        "        return s\n",
        "\n",
        "\n",
        "```\n",
        "\n",
        "---\n",
        "    \n",
        "</details>      \n"
      ]
    },
    {
      "cell_type": "markdown",
      "metadata": {
        "editable": true,
        "tags": [],
        "id": "rRiWOvkDVJ8q"
      },
      "source": [
        "The following bit of code tests the output shape of your implementation:"
      ]
    },
    {
      "cell_type": "code",
      "source": [
        "class BiLSTMClassifier(Classifier):\n",
        "\n",
        "    def __init__(self, vocab_size, num_classes, word_embed_dim: int, hidden_size: int, cell_size: int, p_drop=0.5, w_drop=0.5, num_layers=1, E=None, pad_id=0, bos_id=1, eos_id=2, unk_id=3):\n",
        "        \"\"\"\n",
        "        :param vocab_size: number of known words\n",
        "        :param num_classes: number of classes in the text classification problem\n",
        "        :param word_embed_dim: dimensionality of word embeddings (50 for GloVe)\n",
        "        :param hidden_size: dimensionality of hidden layer in the FFNN\n",
        "        :param cell_size: dimensionality of the LSTM cell\n",
        "        :param p_drop: dropout rate (for units)\n",
        "            To fight overfitting to small datasets, it is common to use a training trick called Dropout,\n",
        "                whereby we drop some units (i.e., map them to 0) at random.\n",
        "                We typically do that right before linear layers.\n",
        "                This parameter controls the proportion of random units we drop.\n",
        "        :param w_drop: dropout rate (for words)\n",
        "            This parameter controls a form of dropout that applies to token sequences\n",
        "            as inputs to recurrent layers (see helper function above).\n",
        "        :param num_layers: number of LSTMs to be stacked\n",
        "        :param E: pretrained embeddings (optional), this object needs to be a torch tensor of type torch.float32\n",
        "            Using pretrained embeddings helps in 2 ways:\n",
        "            * we can train those embeddings using very large unlabelled datasets,\n",
        "              so they contain features that are more predictive of syntactic and semantic properties of words\n",
        "            * we can keep these parameters frozen (that is, we do not further train them)\n",
        "              which helps against overfitting to the small text classification dataset we have\n",
        "        \"\"\"\n",
        "        # we always begin by calling the constructor of the parent class\n",
        "        super().__init__(vocab_size=vocab_size, num_classes=num_classes, pad_id=pad_id, bos_id=bos_id, eos_id=eos_id, unk_id=unk_id)\n",
        "        self.word_embed_dim = word_embed_dim\n",
        "        self.hidden_size = hidden_size\n",
        "\n",
        "        # Now we construct the necessary NN blocks\n",
        "\n",
        "        # First, we construct an embedding layer\n",
        "        if E is None:  # here we use a randomly initialised embedding matrix\n",
        "            self.word_embed = nn.Embedding(self.vocab_size, embedding_dim=word_embed_dim)\n",
        "        else:  # here we use the pretrained embeddings, and keep them frozen\n",
        "            if E.shape != (vocab_size, word_embed_dim):\n",
        "                raise ValueError(f\"E should have shape {(vocab_size, word_embed_dim)}, got {E.shape}\")\n",
        "            self.word_embed = nn.Embedding.from_pretrained(E, freeze=True)\n",
        "\n",
        "        self.w_drop = w_drop\n",
        "\n",
        "        # Next, we construct a BiLSTM\n",
        "        self.encoder = nn.LSTM(\n",
        "            input_size=word_embed_dim,\n",
        "            hidden_size=cell_size,\n",
        "            num_layers=num_layers,\n",
        "            bidirectional=True,  # this makes the encoder bidirectional\n",
        "            # don't change the next two arguments\n",
        "            batch_first=True,  # this is important for torch to understand our batches\n",
        "            # this is a form of regularisation that we can use _between_\n",
        "            # BiLSTM layers, when we have more than 1;\n",
        "            # if used, it drops some output units (map them to 0)  of a BiLSTM layer\n",
        "            # before passing them on as inputs to the next BiLSTM layer\n",
        "            dropout=0. if num_layers == 1 else p_drop,\n",
        "        )\n",
        "\n",
        "        # Last, but not least, we construct an FFNN\n",
        "        # the bidirectional LSTM encoder produces outputs of size 2*hidden_size*num_layers\n",
        "        # thus our linear layer must take 2*hidden_size*num_layers inputs\n",
        "        self.logits_predictor = nn.Sequential(\n",
        "            # again, because NNs overfit easily and L2 regularisation is not sufficient\n",
        "            # to reduce this effect, we use techniques that have been shown more effective\n",
        "            # one such technique is called Dropout,\n",
        "            # whereby we drop some units (map them to 0) at random\n",
        "            # we normally use dropout right _before_ our linear layers\n",
        "            nn.Dropout(p_drop),\n",
        "            nn.Linear(num_layers * 2 * cell_size, hidden_size),\n",
        "            nn.ReLU(),\n",
        "            nn.Dropout(p_drop),\n",
        "            nn.Linear(hidden_size, num_classes)\n",
        "        )\n",
        "\n",
        "    def _predict_logits(self, x):\n",
        "        \"\"\"\n",
        "        For each document in the batch of inputs, compute the C-dimensional vetor of probabilities\n",
        "         that should parameterise the conditional Categorical distribution.\n",
        "\n",
        "        This method will encode the tokens in x (using D-dimensinoal embedding vectors),\n",
        "         compose the token embeddings in bidirectional context (using a BiLSTM),\n",
        "         then predict logits from the last BiLSTM state (using an FFNN).\n",
        "\n",
        "        It will do so in a batched way, so that we can use batches of documents.\n",
        "\n",
        "        :param x: [batch_size, max_length] a batch of documents, each document is a sequence of token ids\n",
        "\n",
        "        :return: tensor with shape [batch_size, num_classes].\n",
        "        \"\"\"\n",
        "\n",
        "        # [batch_size, max_length] this is 1 if the token is _not_ a PAD token\n",
        "        valid_positions = x != self.pad\n",
        "        # counts the number of non-PAD tokens\n",
        "        # [batch_size]\n",
        "        lengths = torch.sum(valid_positions.long(), -1)\n",
        "\n",
        "        # the first thing we do (if the network is being used in training mode)\n",
        "        # is to apply word dropout (as it helps fight overfitting)\n",
        "        if self.training:\n",
        "            x = word_dropout(x, self.pad, self.unk, self.w_drop)\n",
        "\n",
        "        # We now embed the tokens\n",
        "        # [batch_size, max_length, embed_dim]\n",
        "        e = self.word_embed(x)\n",
        "        # As we explained in the Encoder notebook,\n",
        "        # for torch to deal correctly with batches of sequences of difference length,\n",
        "        # we have to use the auxiliary functions pack_padded_sequence and pad_packed_sequence\n",
        "        packed_seqs = pack_padded_sequence(\n",
        "            e,\n",
        "            lengths.cpu(), # torch needs the lengths to be on CPU\n",
        "            # don't change the next two arguments\n",
        "            batch_first=True,\n",
        "            enforce_sorted=False\n",
        "        )\n",
        "        u, (hx, cx) = self.encoder(packed_seqs)\n",
        "        u, _ = pad_packed_sequence(u, batch_first=True)\n",
        "\n",
        "        # we will classify from the concatenation of final states\n",
        "        # - permute moves the layer dimension to the end of the tensor,\n",
        "        # - flatten then concatenates the different layers\n",
        "        # the final shape is\n",
        "        # [batch_size, num_layers*2*hidden_dim]\n",
        "        h = torch.flatten(torch.permute(hx, (1, 2, 0)), 1, 2)\n",
        "\n",
        "        # an alternative idea would be to use the average of states u\n",
        "        # like this:\n",
        "        # h = average_pooling(u, valid_positions)\n",
        "\n",
        "        # finally, we predict logits\n",
        "        # [batch_size, num_classes]\n",
        "        s = self.logits_predictor(h)\n",
        "        return s\n"
      ],
      "metadata": {
        "id": "P6Tbh6x2ZFX7"
      },
      "execution_count": 63,
      "outputs": []
    },
    {
      "cell_type": "code",
      "execution_count": 64,
      "metadata": {
        "id": "17rqH2CNVJ8q"
      },
      "outputs": [],
      "source": [
        "def test_bilstm_cls(vocab, labels, data, device=torch.device('cpu')):\n",
        "\n",
        "\n",
        "    model = BiLSTMClassifier(\n",
        "        vocab_size=len(vocab),\n",
        "        num_classes=len(labels),\n",
        "        word_embed_dim=E.shape[-1],\n",
        "        hidden_size=100,\n",
        "        cell_size=50,\n",
        "        E=torch.tensor(E, dtype=torch.float32)\n",
        "    ).to(device)\n",
        "\n",
        "    print(\"Model\")\n",
        "    print(model)\n",
        "    # report number of parameters\n",
        "    print(\"Model size (in number of trainable parameters):\", model.num_parameters())\n",
        "    print(\"Model size (including frozen modules):\", model.num_parameters(trainable_only=False))\n",
        "\n",
        "    batcher = DataLoader(data, batch_size=3, shuffle=False, collate_fn=LabelledCorpus.pad_to_longest)\n",
        "\n",
        "    for batch_x, batch_y in batcher:\n",
        "        model.train()\n",
        "        # the output should be C logits for each document in the batch\n",
        "        assert model._predict_logits(batch_x.to(device)).shape == (batch_x.shape[0], model.num_classes)\n",
        "        break"
      ]
    },
    {
      "cell_type": "code",
      "execution_count": 65,
      "metadata": {
        "colab": {
          "base_uri": "https://localhost:8080/"
        },
        "editable": true,
        "outputId": "59f116d2-decf-498b-ecfc-dfea950e4e5e",
        "tags": [],
        "id": "sL0PNLZxVJ8q"
      },
      "outputs": [
        {
          "output_type": "stream",
          "name": "stdout",
          "text": [
            "Model\n",
            "BiLSTMClassifier(\n",
            "  (word_embed): Embedding(402015, 50)\n",
            "  (encoder): LSTM(50, 50, batch_first=True, bidirectional=True)\n",
            "  (logits_predictor): Sequential(\n",
            "    (0): Dropout(p=0.5, inplace=False)\n",
            "    (1): Linear(in_features=100, out_features=100, bias=True)\n",
            "    (2): ReLU()\n",
            "    (3): Dropout(p=0.5, inplace=False)\n",
            "    (4): Linear(in_features=100, out_features=2, bias=True)\n",
            "  )\n",
            ")\n",
            "Model size (in number of trainable parameters): 51102\n",
            "Model size (including frozen modules): 20151852\n"
          ]
        }
      ],
      "source": [
        "test_bilstm_cls(vocab, labels, dev)"
      ]
    },
    {
      "cell_type": "markdown",
      "metadata": {
        "editable": true,
        "id": "0R1QKLf6WWxT",
        "tags": [
          "topic"
        ]
      },
      "source": [
        "<a name='sec:Training_and_Evaluation'></a>\n",
        "# Training and Evaluation"
      ]
    },
    {
      "cell_type": "markdown",
      "metadata": {
        "editable": true,
        "id": "BGzeKX-wv9NT",
        "tags": []
      },
      "source": [
        "In this section we provide all the necessary code to train and test our NN classifiers correctly.\n",
        "\n",
        "We need to prepare a lot of helper code, and here's an overview of what you will find next:\n",
        "* `predict` will use our model to predict labels for the documents in a given data loader;\n",
        "* `train_neural_model` will take a randomly initialised model and estimate its parameters via SGD, for that it requires some training data, it will all use `predict` every so often, in order to find which model checkpoint performs best on dev;\n",
        "* `test_saved_model` will model parameters stored in a file (for example, after training) and test that model in a given corpus;\n",
        "* `train_and_test` will run `train_neural_model` (using training and dev corpora) and, at the end, `test_saved_model` on dev and test sets."
      ]
    },
    {
      "cell_type": "markdown",
      "metadata": {
        "id": "cqJWtCaLVJ8q"
      },
      "source": [
        "<a name='ungraded-4'></a> **Ungraded Exercise 4 - Training and evaluation code**\n",
        "\n",
        "Study the implementation of the main functions needed for training and evaluation."
      ]
    },
    {
      "cell_type": "code",
      "execution_count": 66,
      "metadata": {
        "editable": true,
        "id": "zZV5c0WEhdk4",
        "tags": []
      },
      "outputs": [],
      "source": [
        "def predict(model: Classifier, vocab: Vocabulary, labels: tuple, dl: DataLoader, device, return_targets=False, return_loss=False):\n",
        "    \"\"\"\n",
        "    Mode predictions.\n",
        "\n",
        "    :param model: one of our classifiers\n",
        "    :param vocab:\n",
        "    :param labels: the classe names in this text classification problem\n",
        "    :param dl: a data loader for the heldout data\n",
        "    :param device: the PyTorch device where the model is stored\n",
        "    :param return_targets: also return the targets from the data loader\n",
        "        you can use this when the actual targets are in the dataloader (e.g., for dev set)\n",
        "\n",
        "    :return:\n",
        "        * a list of predictions, each the most probable class\n",
        "        * if return_targets=True, additionally return a list of targets (from the data loader)\n",
        "    \"\"\"\n",
        "    # we first inform torch that we are in eval mode,\n",
        "    # this will switch off certain training-only tricks (e.g., dropout)\n",
        "    model.eval()\n",
        "    # here we will keep information from the various documents\n",
        "    all_preds = []\n",
        "    all_targets = []\n",
        "    all_losses = []\n",
        "    data_size = 0\n",
        "    # in prediction mode, we do not need to keep track of gradients\n",
        "    with torch.no_grad():\n",
        "        for batch_x, batch_y in dl:  # for each batch\n",
        "            data_size += batch_x.shape[0]\n",
        "            # [batch_size]\n",
        "            # predict the modes\n",
        "            preds = model.mode(batch_x.to(device))\n",
        "            all_preds.extend((labels[y] for y in preds))\n",
        "            if return_targets:\n",
        "                all_targets.extend((labels[y] for y in batch_y))\n",
        "            if return_loss:\n",
        "                loss = model.loss(batch_x.to(device), batch_y.to(device))\n",
        "                all_losses.append(loss.cpu() * batch_x.shape[0])\n",
        "\n",
        "    r = {'preds': all_preds}\n",
        "\n",
        "    if return_targets:\n",
        "        r['targets'] = all_targets\n",
        "    if return_loss:\n",
        "        r['loss'] = np.sum(all_losses) / data_size\n",
        "\n",
        "    return r"
      ]
    },
    {
      "cell_type": "markdown",
      "metadata": {
        "editable": true,
        "id": "a2atjWtPwF8w",
        "tags": []
      },
      "source": [
        "We can use sklearn's classification report to compute metrics relevant for classification."
      ]
    },
    {
      "cell_type": "code",
      "execution_count": 67,
      "metadata": {
        "editable": true,
        "id": "OnlLnap0ot3A",
        "tags": []
      },
      "outputs": [],
      "source": [
        "import sklearn\n",
        "from sklearn.metrics import classification_report, confusion_matrix, ConfusionMatrixDisplay\n",
        "from collections import defaultdict\n",
        "import os"
      ]
    },
    {
      "cell_type": "markdown",
      "metadata": {
        "editable": true,
        "id": "x7u12R0t3mAa",
        "tags": []
      },
      "source": [
        "Here we have the training loop (already fully implemented for you). Do study it."
      ]
    },
    {
      "cell_type": "code",
      "execution_count": 68,
      "metadata": {
        "editable": true,
        "id": "ZQR5TGAqd-HC",
        "tags": []
      },
      "outputs": [],
      "source": [
        "\n",
        "\n",
        "def train_neural_model(exp_name: str,\n",
        "        model: Classifier, optimiser,\n",
        "        vocab: Vocabulary, labels: tuple,\n",
        "        training_corpus: LabelledCorpus,\n",
        "        dev_corpus: LabelledCorpus,\n",
        "        batch_size=200, num_epochs=5, check_every=10,\n",
        "        device=torch.device('cpu'),\n",
        "        ckptdir=\"checkpoints\",\n",
        "        criterion=\"macrof1\"):\n",
        "    \"\"\"\n",
        "    Here we use a training dataset to estimate the trainable parameters of our model\n",
        "     by minimising a loss based on the average negative log probability assigned to the observed data.\n",
        "\n",
        "    :param exp_name: experiment name (used to save model parameters to disk)\n",
        "    :param model: pytorch model\n",
        "    :param optimiser: pytorch optimiser\n",
        "    :param training_corpus: a LabelledCorpus for training\n",
        "    :param dev_corpus: a LabelledCorpus for dev\n",
        "    :param batch_size: use more if you have more memory\n",
        "    :param num_epochs: use more for improved convergence\n",
        "    :param check_every: use less to check performance on dev set more often\n",
        "    :param device: where we run the experiment\n",
        "    :param ckptdir: directory to store checkpoints\n",
        "    :param criterion: either macrof1 or devloss\n",
        "        we implement two criteria for model selection, so you can learn from this code\n",
        "        but, throughout this notebook, we will always use 'macrof1'\n",
        "    :return: a log of quantities computed during training (for plotting)\n",
        "    \"\"\"\n",
        "    if not os.path.exists(ckptdir):  # we will be storing models in this folder\n",
        "        os.makedirs(ckptdir)\n",
        "    if criterion not in ['macrof1', 'devloss']:\n",
        "        raise ValueError(f\"criterion must be macrof1 or devloss, got {criterion}\")\n",
        "\n",
        "    # we use the training data in random order for parameter estimation\n",
        "    batcher = DataLoader(training_corpus, batch_size=batch_size, shuffle=True, collate_fn=LabelledCorpus.pad_to_longest)\n",
        "    # we use the dev data for evaluation during training (no need for randomisation here)\n",
        "    dev_batcher = DataLoader(dev_corpus, batch_size=batch_size, shuffle=False, collate_fn=LabelledCorpus.pad_to_longest)\n",
        "\n",
        "    # we will train for this many steps\n",
        "    total_steps = num_epochs * len(batcher)\n",
        "    log = defaultdict(list)\n",
        "\n",
        "    # we start by evaluating the untrained model\n",
        "    r = predict(\n",
        "        model,\n",
        "        vocab,\n",
        "        labels,\n",
        "        dev_batcher,\n",
        "        device=device,\n",
        "        return_targets=True,\n",
        "        return_loss=True,\n",
        "    )\n",
        "    report = classification_report(r['targets'], r['preds'], output_dict=True, zero_division=0)\n",
        "    acc, macrof1, devloss = report['accuracy'], report['macro avg']['f1-score'], r['loss']\n",
        "    log['acc'].append(acc)\n",
        "    log['macro-f1'].append(macrof1)\n",
        "    log['dev-loss'].append(r['loss'])\n",
        "\n",
        "    best_devloss, best_macrof1 = devloss, macrof1\n",
        "    # we save this initial model (though hopefully we will find better ones)\n",
        "    torch.save(model.state_dict(), f\"{ckptdir}/{exp_name}_{criterion}.pt\")\n",
        "\n",
        "    step = 0\n",
        "\n",
        "    # and then train the model for a number of steps\n",
        "    with tqdm(range(total_steps)) as bar:\n",
        "        for epoch in range(num_epochs):\n",
        "            for batch_x, batch_y in batcher:\n",
        "                # we always start by telling torch that we are in training mode\n",
        "                # this enables training-only tricks (e.g., dropout)\n",
        "                model.train()\n",
        "                # we then set all gradients to 0\n",
        "                # (if we forget this, the gradients based on the data in this batch\n",
        "                # will be accumulated to the gradients obtained from a previous batch\n",
        "                # which is not what we intend to use for optimisation)\n",
        "                optimiser.zero_grad()\n",
        "                # we evaluate the loss\n",
        "                loss = model.loss(batch_x.to(device), batch_y.to(device))\n",
        "                # and obtain gradients for all trainable parameters\n",
        "                loss.backward()\n",
        "                # now we can take a step towards the direction of steepest descent\n",
        "                optimiser.step()\n",
        "\n",
        "                # here we update the progress bar\n",
        "                bar.set_postfix({\n",
        "                    'loss': f\"{loss.item():.2f}\",\n",
        "                    'dev-loss': f\"{devloss:.2f}\",\n",
        "                    'acc': f\"{acc:.2f}\",\n",
        "                    'macro-f1': f\"{macrof1:.2f}\",\n",
        "                })\n",
        "                bar.update()\n",
        "                log['loss'].append(loss.item())\n",
        "\n",
        "                if step % check_every == 0:  # every so often, we evaluate performance on dev set\n",
        "\n",
        "                    r = predict(\n",
        "                        model,\n",
        "                        vocab,\n",
        "                        labels,\n",
        "                        dev_batcher,\n",
        "                        device=device,\n",
        "                        return_targets=True,\n",
        "                        return_loss=True\n",
        "                    )\n",
        "\n",
        "                    report = classification_report(r['targets'], r['preds'], output_dict=True, zero_division=0)\n",
        "                    acc, macrof1, devloss = report['accuracy'], report['macro avg']['f1-score'], r['loss']\n",
        "                    log['acc'].append(acc)\n",
        "                    log['macro-f1'].append(macrof1)\n",
        "                    log['dev-loss'].append(r['loss'])\n",
        "\n",
        "                    # when we find a better model (or at least not worse), we save it\n",
        "                    # what counts as a better model matters,\n",
        "                    # there are two common ways to go about this\n",
        "                    # * either we select models using the validation (dev) loss\n",
        "                    # * or we select models using a measure of classification performance\n",
        "                    # both strategies are relatively common\n",
        "                    # with classification performance being slightly more popular\n",
        "                    # we code both of them, so you can learn from this\n",
        "                    # but, in this notebook, we use macrof1\n",
        "\n",
        "                    if criterion == 'devloss' and devloss <= best_devloss:\n",
        "                        torch.save(model.state_dict(), f\"{ckptdir}/{exp_name}_devloss.pt\")\n",
        "                        best_devloss = devloss\n",
        "                    if criterion == 'macrof1' and macrof1 >= best_macrof1:\n",
        "                        torch.save(model.state_dict(), f\"{ckptdir}/{exp_name}_macrof1.pt\")\n",
        "                        best_macrof1 = macrof1\n",
        "\n",
        "                step += 1\n",
        "\n",
        "    # once we are done with training we evaluate again\n",
        "    r = predict(\n",
        "        model,\n",
        "        vocab,\n",
        "        labels,\n",
        "        dev_batcher,\n",
        "        device=device,\n",
        "        return_targets=True,\n",
        "        return_loss=True\n",
        "    )\n",
        "    report = classification_report(r['targets'], r['preds'], output_dict=True, zero_division=0)\n",
        "    acc, macrof1 = report['accuracy'], report['macro avg']['f1-score']\n",
        "    log['acc'].append(acc)\n",
        "    log['macro-f1'].append(macrof1)\n",
        "    log['dev-loss'].append(r['loss'])\n",
        "\n",
        "    # If we were selecting on devloss, we would want to save this final check\n",
        "    if criterion == 'devloss' and devloss <= best_devloss:\n",
        "        torch.save(model.state_dict(), f\"{ckptdir}/{exp_name}_devloss.pt\")\n",
        "        best_devloss = devloss\n",
        "    # In this notebook, we are using macrof1:\n",
        "    if criterion == 'macrof1' and macrof1 >= best_macrof1:\n",
        "        torch.save(model.state_dict(), f\"{ckptdir}/{exp_name}_macrof1.pt\")\n",
        "        best_macrof1 = macrof1\n",
        "\n",
        "    return log, model"
      ]
    },
    {
      "cell_type": "code",
      "execution_count": 69,
      "metadata": {
        "editable": true,
        "id": "Di9Vsuv7nOQ8",
        "tags": []
      },
      "outputs": [],
      "source": [
        "def test_saved_model(model: Classifier, vocab, labels, corpus, filename: str, batch_size=100, device=torch.device('cpu')):\n",
        "    model = model.to(device)\n",
        "    model.load_state_dict(torch.load(filename))\n",
        "    # Predict for test set\n",
        "    r = predict(\n",
        "        model,\n",
        "        vocab,\n",
        "        labels,\n",
        "        DataLoader(corpus, batch_size=batch_size, shuffle=False, collate_fn=LabelledCorpus.pad_to_longest),\n",
        "        device,\n",
        "        return_targets=True,\n",
        "        return_loss=True\n",
        "    )\n",
        "    return r\n",
        "\n",
        "def train_and_test(exp_name: str,\n",
        "        model: Classifier,\n",
        "        vocab: Vocabulary,\n",
        "        labels: tuple,\n",
        "        training_corpus: LabelledCorpus,\n",
        "        dev_corpus: LabelledCorpus,\n",
        "        test_corpus=None,\n",
        "        lr=1e-3,\n",
        "        weight_decay=1e-4,\n",
        "        batch_size=100, num_epochs=20, check_every=100,\n",
        "        device=torch.device('cpu'),\n",
        "        ckptdir=\"checkpoints\",\n",
        "        criterion=\"macrof1\"):\n",
        "    \"\"\"\n",
        "    Train and test a classifier.\n",
        "\n",
        "    :param exp_name: experiment name (used to save the model weights to disk)\n",
        "    :param model: a classifier model\n",
        "    :param training_corpus: corpus used for training\n",
        "    :param dev_corpus: corpus used for validation (dev)\n",
        "    :param test_corpus: if provided, we test the model at the end on this corpus\n",
        "    :param lr: learning rate for SGD\n",
        "    :param weight_decay: weight of the L2 regulariser\n",
        "        when we worked in Jax we implemented the L2 regulariser ourselves,\n",
        "        in Torch the optimiser object will do it for us, we just need to set this\n",
        "        number to something larger than 0\n",
        "    :param batch_size: documents per batch\n",
        "    :param num_epochs: number of passes over the entire training data\n",
        "    :param check_every: how often we evaluate on dev_corpus\n",
        "    :param device: torch device\n",
        "    :param ckptdir: directory to store checkpoints\n",
        "    :param criterion: either macrof1 or devloss\n",
        "        we implement two criteria for model selection, so you can learn from this code\n",
        "        but, throughout this notebook, we will always use 'macrof1'\n",
        "    \"\"\"\n",
        "    if not os.path.exists(ckptdir):  # we will be storing models in this folder\n",
        "        os.makedirs(ckptdir)\n",
        "    if criterion not in ['macrof1', 'devloss']:\n",
        "        raise ValueError(f\"criterion must be macrof1 or devloss, got {criterion}\")\n",
        "\n",
        "    model = model.to(device)\n",
        "    print(\"Model\")\n",
        "    print(model)\n",
        "    # report number of parameters\n",
        "    print(\"Model size (in number of trainable parameters):\", model.num_parameters())\n",
        "\n",
        "    # construct an Adam optimiser\n",
        "    optimiser = opt.Adam(model.parameters(), lr=lr, weight_decay=weight_decay)\n",
        "\n",
        "    print(\"Training...\")\n",
        "    # Train the model\n",
        "    log, model = train_neural_model(\n",
        "        exp_name,\n",
        "        model, optimiser,\n",
        "        vocab, labels,\n",
        "        training_corpus, dev_corpus,\n",
        "        batch_size=batch_size, num_epochs=num_epochs, check_every=check_every,\n",
        "        device=device,\n",
        "        ckptdir=ckptdir,\n",
        "        criterion=criterion\n",
        "    )\n",
        "\n",
        "    # Plot loss and validation checks\n",
        "    fig, axs = plt.subplots(1, 4, figsize=(15, 4))\n",
        "    _ = axs[0].plot(np.arange(len(log['loss'])), log['loss'])\n",
        "    _ = axs[0].set_xlabel('steps')\n",
        "    _ = axs[0].set_ylabel('training loss')\n",
        "    _ = axs[1].plot(np.arange(len(log['dev-loss'])), log['dev-loss'])\n",
        "    _ = axs[1].set_xlabel('steps')\n",
        "    _ = axs[1].set_ylabel('dev loss')\n",
        "    _ = axs[2].plot(np.arange(len(log['acc'])), log['acc'])\n",
        "    _ = axs[2].set_xlabel('steps (in 10s)')\n",
        "    _ = axs[2].set_ylabel('dev acc')\n",
        "    _ = axs[3].plot(np.arange(len(log['macro-f1'])), log['macro-f1'])\n",
        "    _ = axs[3].set_xlabel('steps (in 10s)')\n",
        "    _ = axs[3].set_ylabel('dev macro-f1')\n",
        "\n",
        "    _ = fig.tight_layout(h_pad=2, w_pad=2)\n",
        "    plt.show()\n",
        "\n",
        "    print(f\"Testing on dev_corpus: selection on {criterion}\")\n",
        "    r = test_saved_model(model, vocab, labels, dev_corpus, f\"{ckptdir}/{exp_name}_{criterion}.pt\", batch_size=batch_size, device=device)\n",
        "    # Compare predictions and targets\n",
        "    print(classification_report(r['targets'], r['preds'], zero_division=0))\n",
        "\n",
        "    if test_corpus is not None:  # if we were given a test set, we should use it to evaluate the model\n",
        "        print(f\"Testing on test_corpus: selection on {criterion}\")\n",
        "        r = test_saved_model(model, vocab, labels, test_corpus, f\"{ckptdir}/{exp_name}_{criterion}.pt\", batch_size=batch_size, device=device)\n",
        "        # Compare predictions and targets\n",
        "        print(classification_report(r['targets'], r['preds'], zero_division=0))\n"
      ]
    },
    {
      "cell_type": "markdown",
      "metadata": {
        "editable": true,
        "id": "RwXhhAUChsKT",
        "tags": []
      },
      "source": [
        "\n",
        "\n",
        "Here we demonstrate how to train and evaluate a model on NLTK's subjectivity dataset.\n",
        "After that you will conduct an experiment with this dataset.\n",
        "\n",
        "For this corpus, you can continue without GPU support, provided that your laptop has enough memory. For larger corpora, you may need to use Google Colab (change the runtime to GPU). The code base works for classification problems with more than 2 classes (but we will not experiment with those because we want a lightweight experiment that you can run on your own laptop)."
      ]
    },
    {
      "cell_type": "code",
      "execution_count": 70,
      "metadata": {
        "colab": {
          "base_uri": "https://localhost:8080/"
        },
        "editable": true,
        "id": "pKFUw21bYCUm",
        "outputId": "31ee3780-f984-44a4-fe1e-28912942a527",
        "tags": []
      },
      "outputs": [
        {
          "output_type": "execute_result",
          "data": {
            "text/plain": [
              "device(type='cpu')"
            ]
          },
          "metadata": {},
          "execution_count": 70
        }
      ],
      "source": [
        "if torch.cuda.is_available():\n",
        "    my_device = torch.device('cuda:0')\n",
        "else:\n",
        "    my_device = torch.device('cpu')\n",
        "my_device"
      ]
    },
    {
      "cell_type": "markdown",
      "metadata": {
        "id": "go2KsnY5VJ8r"
      },
      "source": [
        "About a minute on CPU, it should report about 90 macro F1 on dev:"
      ]
    },
    {
      "cell_type": "code",
      "execution_count": 71,
      "metadata": {
        "editable": true,
        "tags": [],
        "colab": {
          "base_uri": "https://localhost:8080/",
          "height": 850,
          "referenced_widgets": [
            "65b6744ad1ed4149853b421e9b6d6e8e",
            "d75db65283c14c7d8ab787e34c29e63e",
            "42c65f24b91a42959093d7548588a32b",
            "eccb9014e9e94e988c2fadb99f09d096",
            "e9ec37a4b0d646cfb318fd3923f0c9d8",
            "3713524667e1460cb9fea9d34beead15",
            "e92830a22ca74f5aaa07331bed056157",
            "751c2adcd8304132bf2d8a4b5a851214",
            "086624e01450402aa93b81a63a0004b2",
            "ca9afd1f8ca4428fb55eb148ffdf7da4",
            "aa48e40cce084fe5ab641e57fb558f92"
          ]
        },
        "id": "TA0mAwv2VJ8r",
        "outputId": "bbce131f-2283-48d7-cede-9224ebcdd312"
      },
      "outputs": [
        {
          "output_type": "stream",
          "name": "stdout",
          "text": [
            "Model\n",
            "AvgEmbClassifier(\n",
            "  (word_embed): Embedding(402015, 50)\n",
            "  (logits_predictor): Sequential(\n",
            "    (0): Dropout(p=0.0, inplace=False)\n",
            "    (1): Linear(in_features=50, out_features=100, bias=True)\n",
            "    (2): ReLU()\n",
            "    (3): Dropout(p=0.0, inplace=False)\n",
            "    (4): Linear(in_features=100, out_features=2, bias=True)\n",
            "  )\n",
            ")\n",
            "Model size (in number of trainable parameters): 5302\n",
            "Training...\n"
          ]
        },
        {
          "output_type": "display_data",
          "data": {
            "text/plain": [
              "  0%|          | 0/2400 [00:00<?, ?it/s]"
            ],
            "application/vnd.jupyter.widget-view+json": {
              "version_major": 2,
              "version_minor": 0,
              "model_id": "65b6744ad1ed4149853b421e9b6d6e8e"
            }
          },
          "metadata": {}
        },
        {
          "output_type": "display_data",
          "data": {
            "text/plain": [
              "<Figure size 1500x400 with 4 Axes>"
            ],
            "image/png": "[encoded data removed]"
          },
          "metadata": {}
        },
        {
          "output_type": "stream",
          "name": "stdout",
          "text": [
            "Testing on dev_corpus: selection on macrof1\n",
            "              precision    recall  f1-score   support\n",
            "\n",
            "         obj       0.91      0.89      0.90       297\n",
            "        subj       0.89      0.91      0.90       293\n",
            "\n",
            "    accuracy                           0.90       590\n",
            "   macro avg       0.90      0.90      0.90       590\n",
            "weighted avg       0.90      0.90      0.90       590\n",
            "\n"
          ]
        }
      ],
      "source": [
        "seed_all() # reset random number generators before creating your model and training it\n",
        "train_and_test(\n",
        "    \"avgemb_base\",\n",
        "    AvgEmbClassifier(\n",
        "        vocab_size=len(vocab),\n",
        "        num_classes=len(labels),\n",
        "        word_embed_dim=E.shape[1],\n",
        "        hidden_size=100,\n",
        "        p_drop=0.,\n",
        "        E=torch.tensor(E, dtype=torch.float32)\n",
        "    ),\n",
        "    vocab, labels,\n",
        "    training, dev,\n",
        "    lr=1e-3, weight_decay=1e-4,\n",
        "    batch_size=100, num_epochs=50, check_every=200, device=my_device\n",
        ")"
      ]
    },
    {
      "cell_type": "markdown",
      "metadata": {
        "id": "2XWtw8k-VJ8r"
      },
      "source": [
        "About 4 minutes on CPU, it should report about 92 macro F1 on dev:"
      ]
    },
    {
      "cell_type": "code",
      "execution_count": 72,
      "metadata": {
        "editable": true,
        "tags": [],
        "colab": {
          "base_uri": "https://localhost:8080/",
          "height": 872,
          "referenced_widgets": [
            "c89d0d33d49146789a0e8963a75914b4",
            "59a14542766141a880905b699ad67aba",
            "094ad3c2a66a420aa956889bd2fc98db",
            "6506b6a13ff646f998ba87ff5d163cb8",
            "7f157744a10b4462ba9df8f68acd7710",
            "ef0f7130835147009478fd7f55597a10",
            "5736f540b30f4f34bf9271bcfbd5f6aa",
            "fba3758b1cac48f2bd1f23dcba6ea852",
            "1dce323b35874013b73585be80b2c0d6",
            "d2c7c9e2464a463b9e3a07f7ce242dd6",
            "6cf8e101d7954d5bad14c359b7d7f8f9"
          ]
        },
        "id": "porXO2xbVJ8r",
        "outputId": "f7fa9456-fd94-433c-f56d-09940385de79"
      },
      "outputs": [
        {
          "output_type": "stream",
          "name": "stdout",
          "text": [
            "Model\n",
            "BiLSTMClassifier(\n",
            "  (word_embed): Embedding(402015, 50)\n",
            "  (encoder): LSTM(50, 100, batch_first=True, bidirectional=True)\n",
            "  (logits_predictor): Sequential(\n",
            "    (0): Dropout(p=0.5, inplace=False)\n",
            "    (1): Linear(in_features=200, out_features=100, bias=True)\n",
            "    (2): ReLU()\n",
            "    (3): Dropout(p=0.5, inplace=False)\n",
            "    (4): Linear(in_features=100, out_features=2, bias=True)\n",
            "  )\n",
            ")\n",
            "Model size (in number of trainable parameters): 141902\n",
            "Training...\n"
          ]
        },
        {
          "output_type": "display_data",
          "data": {
            "text/plain": [
              "  0%|          | 0/2400 [00:00<?, ?it/s]"
            ],
            "application/vnd.jupyter.widget-view+json": {
              "version_major": 2,
              "version_minor": 0,
              "model_id": "c89d0d33d49146789a0e8963a75914b4"
            }
          },
          "metadata": {}
        },
        {
          "output_type": "display_data",
          "data": {
            "text/plain": [
              "<Figure size 1500x400 with 4 Axes>"
            ],
            "image/png": "[encoded data removed]"
          },
          "metadata": {}
        },
        {
          "output_type": "stream",
          "name": "stdout",
          "text": [
            "Testing on dev_corpus: selection on macrof1\n",
            "              precision    recall  f1-score   support\n",
            "\n",
            "         obj       0.95      0.89      0.91       297\n",
            "        subj       0.89      0.95      0.92       293\n",
            "\n",
            "    accuracy                           0.92       590\n",
            "   macro avg       0.92      0.92      0.92       590\n",
            "weighted avg       0.92      0.92      0.92       590\n",
            "\n"
          ]
        }
      ],
      "source": [
        "seed_all() # reset random number generators before creating your model and training it\n",
        "train_and_test(\n",
        "    f\"bilstm_base\",\n",
        "    BiLSTMClassifier(\n",
        "        vocab_size=len(vocab),\n",
        "        num_classes=len(labels),\n",
        "        word_embed_dim=E.shape[1],\n",
        "        hidden_size=100,\n",
        "        cell_size=100,\n",
        "        p_drop=0.5,\n",
        "        w_drop=0.5,\n",
        "        E=torch.tensor(E, dtype=torch.float32)\n",
        "    ),\n",
        "    vocab, labels,\n",
        "    training, dev,\n",
        "    lr=1e-2, weight_decay=1e-4,\n",
        "    batch_size=100, num_epochs=50, check_every=200, device=my_device\n",
        ")"
      ]
    },
    {
      "cell_type": "markdown",
      "metadata": {
        "editable": true,
        "tags": [],
        "id": "ltY1J3b5VJ8r"
      },
      "source": [
        "Whenever we train a model we should pay attention to a few things:\n",
        "- Does it look like the optimiser managed to minimise the training loss? You want to see a training loss curve that's generally decreasing, some variance is expected, but there should be a mostly clear downward trend.\n",
        "- Does it look like the model is overfitting? Sometimes we see that the training loss is going down, but the validation/dev loss is going up. This typically suggests that the model is finding spurious features to explain the training data, these features are useful for those data points specifically but they fail to generalise to new data points.\n",
        "- Does it look like the model's classification performance is improving? We should track an appropriate metric, such as accuracy or macro F1. It's not always the case that classification performance improves the longer we train, and that's because likelihood is only a proxy to classification performance. So, we tend to track both things.\n",
        "\n",
        "Sometimes we observe some overfitting and yet accuracy or macro F1 improves. While it's tempting to trust this result (after all, we would like to be able to obtain better classification performance), it is wiser to practice some skepticism: any sign of overfitting is something to be worried about, esp for large and complex models such as NNs. Oftentimes our dev and test sets give us an optimistic idea of how different from training data future data points may be. So, we generally prefer models that exhibit higher accuracy or macro F1 _while_ also exhibiting a reasonable dev loss behaviour."
      ]
    },
    {
      "cell_type": "markdown",
      "metadata": {
        "editable": true,
        "tags": [
          "topic"
        ],
        "id": "pVGCgxmHVJ8r"
      },
      "source": [
        "<a name='sec:Graded_Experiment'></a>\n",
        "# Graded Experiment"
      ]
    },
    {
      "cell_type": "markdown",
      "metadata": {
        "editable": true,
        "tags": [],
        "id": "rSyuSAg3VJ8r"
      },
      "source": [
        "In the next two exercises, you will change a few design choices of your model and/or optimisation algorithm (we call those \"hyper-parameters\") and inspect their effects on the trained model.\n",
        "\n",
        "To make sure that your models are implemented correctly, we recommend you use the solutions of the ungraded quizzes for the missing parts of the two model classes.\n",
        "\n",
        "**Instructions for the graded exercises below**\n",
        "\n",
        "We will present a list of design choices, for each of them we will list some options for the hyperparameters associated with it. You should study the effect of those choices. As there are too many combinations, instead of testing them all jointly, we will use a technique called _ablation_ and study one design choice at a time. In an _ablation_ experiment we have a _base_ configuration which we take as the reference in the comparison, then we inspect the effect of changing 1  design choice, always in relation to that base configuration. We then revert to the _base_ configuration before investigating the next design choice.\n",
        "\n",
        "Besides running the experiment and reporting the plots and classification report that `train_and_test` produces, you must discuss at least the following points for each design choice:\n",
        "\n",
        "* Does your model get bigger?\n",
        "* Does the training loss converge?\n",
        "* Do you observe overfitting?\n",
        "* Do you observe macro F1 improvements?\n",
        "\n",
        "For each of these aspects, your discussion can be brief (e.g., a couple of sentences would do: answer the question, indicate what evidence you used to back your answer).\n",
        "\n",
        "*And don't forget to be organised, the grader has no obligation to try and make sense of a messy notebook.*\n"
      ]
    },
    {
      "cell_type": "markdown",
      "metadata": {
        "id": "xNl4v0fiVJ8r"
      },
      "source": [
        "<a name='graded-1'> **Graded Exercise 1 (62.5\\%) - Ablations for AvgEmb model** </a>\n",
        "\n",
        "For AvgEmb, the base is\n",
        "```python\n",
        "train_and_test(\n",
        "    \"avgemb_base\",\n",
        "    AvgEmbClassifier(\n",
        "        vocab_size=len(vocab),\n",
        "        num_classes=len(labels),\n",
        "        word_embed_dim=E.shape[1],\n",
        "        hidden_size=100,\n",
        "        p_drop=0.,\n",
        "        E=torch.tensor(E, dtype=torch.float32)\n",
        "    ),\n",
        "    vocab, labels,\n",
        "    training, dev,\n",
        "    lr=1e-3, weight_decay=1e-4,\n",
        "    batch_size=100, num_epochs=50, check_every=200, device=my_device\n",
        ")\n",
        "```\n",
        "and you should perform ablations for:\n",
        "\n",
        "1. embedding parameters: randomly initialised (but trained) instead of GloVe (all you need to do is change the constructor's argument to `E=None`).\n",
        "2. number of hidden units in the FFNN: 50 and 200 instead of 100\n",
        "3. learning rate: 1e-2 and 1e-4 instead of 1e-3\n",
        "4. dropout: 0.25 and 0.5 instead of 0.    \n",
        "5. weight decay: 0. and 1e-2 instead of 1e-4\n",
        "\n",
        "Each experiment will run in under a minute on CPU (also on GPU), the experiment without GloVe will take a bit longer (about a minute on CPU)."
      ]
    },
    {
      "cell_type": "code",
      "execution_count": null,
      "metadata": {
        "colab": {
          "base_uri": "https://localhost:8080/",
          "height": 326,
          "referenced_widgets": [
            "b794b2f1c9504205921cfce5e5dbd3d4",
            "d41ac9556870458fba28014061d01cab",
            "f7331fed5c194cac875879e4cdf0f583",
            "074e1277662e4a988f2279be3543b73f",
            "705ae7e5a8ac4e33b690fe8595b4da3c",
            "f044141efc744fb6b86faf8d68c52ef6",
            "01241a74ec114a26bcc8ed08bf1f9534",
            "98e2b2bcd4ed4656bf41aa38eb4f237c",
            "322591b1e25e430e9da05a33f0427a52",
            "c06a80cfdb6c45739cfabbe619976308",
            "277ca244acf347c09982e48921aafbfe"
          ]
        },
        "id": "Tw59HxhoVJ8r",
        "outputId": "a38bc187-34bf-4f0a-b0a2-87ff3bf18d1c"
      },
      "outputs": [
        {
          "output_type": "stream",
          "name": "stdout",
          "text": [
            "Running experiment with changes: {'E': None}\n",
            "Model\n",
            "AvgEmbClassifier(\n",
            "  (word_embed): Embedding(402015, 50)\n",
            "  (logits_predictor): Sequential(\n",
            "    (0): Dropout(p=0.0, inplace=False)\n",
            "    (1): Linear(in_features=50, out_features=100, bias=True)\n",
            "    (2): ReLU()\n",
            "    (3): Dropout(p=0.0, inplace=False)\n",
            "    (4): Linear(in_features=100, out_features=2, bias=True)\n",
            "  )\n",
            ")\n",
            "Model size (in number of trainable parameters): 20106052\n",
            "Training...\n"
          ]
        },
        {
          "output_type": "display_data",
          "data": {
            "text/plain": [
              "  0%|          | 0/2400 [00:00<?, ?it/s]"
            ],
            "application/vnd.jupyter.widget-view+json": {
              "version_major": 2,
              "version_minor": 0,
              "model_id": "b794b2f1c9504205921cfce5e5dbd3d4"
            }
          },
          "metadata": {}
        }
      ],
      "source": [
        "# CONTRIBUTE YOUR SOLUTION/CODE\n",
        "\n",
        "import torch\n",
        "\n",
        "def ablation_experiments():\n",
        "    experiments = [\n",
        "        {\"E\": None},\n",
        "        {\"hidden_size\": 50},\n",
        "        {\"hidden_size\": 200},\n",
        "        {\"lr\": 1e-2},\n",
        "        {\"lr\": 1e-4},\n",
        "        {\"p_drop\": 0.25},\n",
        "        {\"p_drop\": 0.5},\n",
        "        {\"weight_decay\": 0},\n",
        "        {\"weight_decay\": 1e-2},\n",
        "    ]\n",
        "\n",
        "    base_params = {\n",
        "        \"vocab_size\": len(vocab),\n",
        "        \"num_classes\": len(labels),\n",
        "        \"word_embed_dim\": E.shape[1] if E is not None else 50,\n",
        "        \"hidden_size\": 100,\n",
        "        \"p_drop\": 0.,\n",
        "        \"E\": torch.tensor(E, dtype=torch.float32) if E is not None else None,\n",
        "        \"lr\": 1e-3,\n",
        "        \"weight_decay\": 1e-4,\n",
        "        \"batch_size\": 100,\n",
        "        \"num_epochs\": 50,\n",
        "        \"check_every\": 200,\n",
        "        \"device\": my_device,\n",
        "    }\n",
        "\n",
        "    results = {}\n",
        "\n",
        "    for changes in experiments:\n",
        "        params = base_params.copy()\n",
        "        params.update(changes)  # Pas de specifieke parameter aan\n",
        "\n",
        "        print(f\"Running experiment with changes: {changes}\")\n",
        "        train_and_test(\n",
        "            f\"experiment_{list(changes.keys())[0]}\",\n",
        "            AvgEmbClassifier(\n",
        "                vocab_size=params['vocab_size'],\n",
        "                num_classes=params['num_classes'],\n",
        "                word_embed_dim=params['word_embed_dim'],\n",
        "                hidden_size=params['hidden_size'],\n",
        "                p_drop=params['p_drop'],\n",
        "                E=params['E'],\n",
        "            ),\n",
        "            vocab, labels, training, dev,\n",
        "            lr=params['lr'], weight_decay=params['weight_decay'],\n",
        "            batch_size=params['batch_size'], num_epochs=params['num_epochs'],\n",
        "            check_every=params['check_every'], device=params['device']\n",
        "        )\n",
        "\n",
        "        print(f\"Finished experiment with changes: {changes}\")\n",
        "\n",
        "    return results\n",
        "\n",
        "results = ablation_experiments()\n",
        "\n"
      ]
    },
    {
      "cell_type": "markdown",
      "metadata": {
        "id": "wpw4gVYgVJ8r"
      },
      "source": [
        "\tCONTRIBUTE YOUR SOLUTION/DISCUSSION\n",
        "\n",
        "---"
      ]
    },
    {
      "cell_type": "markdown",
      "metadata": {
        "id": "20biBzBCVJ8r"
      },
      "source": [
        "<a name='graded-2'> **Graded Exercise 2 (37.5\\%) - Ablations for BiLSTM model** </a>\n",
        "\n",
        "For BiLSTM, the base is\n",
        "\n",
        "```python\n",
        "train_and_test(\n",
        "    f\"bilstm_base\",\n",
        "    BiLSTMClassifier(\n",
        "        vocab_size=len(vocab),\n",
        "        num_classes=len(labels),\n",
        "        word_embed_dim=E.shape[1],\n",
        "        hidden_size=100,\n",
        "        cell_size=100,\n",
        "        p_drop=0.5,\n",
        "        w_drop=0.5,\n",
        "        E=torch.tensor(E, dtype=torch.float32)\n",
        "    ),\n",
        "    vocab, labels,\n",
        "    training, dev,\n",
        "    lr=1e-2, weight_decay=1e-4,\n",
        "    batch_size=100, num_epochs=50, check_every=200, device=my_device\n",
        ")\n",
        "```\n",
        "and you should perform ablations for:\n",
        "\n",
        "1. embedding parameters: randomly initialised (but trained) instead of GloVe (all you need to do is change the constructor's argument to `E=None`)\n",
        "2. learning rate: 1e-1 and 1e-3 instead of 1e-2\n",
        "3. word dropout: 0 and 0.25 instead of 0.5\n",
        "\n",
        "Each experiment will take about 4 minutes on CPU (and under a minute on GPU). The experiment without GloVe will take a bit longer (about 6 minutes on CPU)."
      ]
    },
    {
      "cell_type": "code",
      "execution_count": null,
      "metadata": {
        "id": "3IMz4hSAVJ8r"
      },
      "outputs": [],
      "source": [
        "# CONTRIBUTE YOUR SOLUTION/CODE\n",
        "import torch\n",
        "\n",
        "def bilstm_ablation_experiments():\n",
        "    experiments = [\n",
        "        {\"E\": None},\n",
        "        {\"lr\": 1e-1},\n",
        "        {\"lr\": 1e-3},\n",
        "        {\"w_drop\": 0},\n",
        "        {\"w_drop\": 0.25},\n",
        "    ]\n",
        "\n",
        "    base_params = {\n",
        "        \"vocab_size\": len(vocab),\n",
        "        \"num_classes\": len(labels),\n",
        "        \"word_embed_dim\": E.shape[1] if E is not None else 50,\n",
        "        \"hidden_size\": 100,\n",
        "        \"cell_size\": 100,\n",
        "        \"p_drop\": 0.5,\n",
        "        \"w_drop\": 0.5,\n",
        "        \"E\": torch.tensor(E, dtype=torch.float32) if E is not None else None,\n",
        "        \"lr\": 1e-2,\n",
        "        \"weight_decay\": 1e-4,\n",
        "        \"batch_size\": 100,\n",
        "        \"num_epochs\": 50,\n",
        "        \"check_every\": 200,\n",
        "        \"device\": my_device,\n",
        "    }\n",
        "\n",
        "    results = {}\n",
        "\n",
        "    for changes in experiments:\n",
        "        params = base_params.copy()\n",
        "        params.update(changes)  # Pas de specifieke parameter aan\n",
        "\n",
        "        print(f\"Running experiment with changes: {changes}\")\n",
        "        train_and_test(\n",
        "            f\"bilstm_experiment_{list(changes.keys())[0]}\",\n",
        "            BiLSTMClassifier(\n",
        "                vocab_size=params['vocab_size'],\n",
        "                num_classes=params['num_classes'],\n",
        "                word_embed_dim=params['word_embed_dim'],\n",
        "                hidden_size=params['hidden_size'],\n",
        "                cell_size=params['cell_size'],\n",
        "                p_drop=params['p_drop'],\n",
        "                w_drop=params['w_drop'],\n",
        "                E=params['E'],\n",
        "            ),\n",
        "            vocab, labels, training, dev,\n",
        "            lr=params['lr'], weight_decay=params['weight_decay'],\n",
        "            batch_size=params['batch_size'], num_epochs=params['num_epochs'],\n",
        "            check_every=params['check_every'], device=params['device']\n",
        "        )\n",
        "\n",
        "        print(f\"Finished experiment with changes: {changes}\")\n",
        "\n",
        "    return results\n",
        "\n",
        "results = bilstm_ablation_experiments()\n"
      ]
    },
    {
      "cell_type": "markdown",
      "metadata": {
        "id": "UczPVcLrVJ8r"
      },
      "source": [
        "\tCONTRIBUTE YOUR SOLUTION/DISCUSSION\n",
        "\n",
        "---"
      ]
    },
    {
      "cell_type": "markdown",
      "metadata": {
        "editable": true,
        "tags": [
          "topic"
        ],
        "id": "ZPOtgNdlVJ8r"
      },
      "source": [
        "<a name='sec:Ungraded_Experiment'></a>\n",
        "# Ungraded Experiment"
      ]
    },
    {
      "cell_type": "markdown",
      "metadata": {
        "id": "jEhJC5iIVJ8r"
      },
      "source": [
        "<a name='ungraded-5'></a> **Ungraded Exercise 5 - Experiment with complete dataset**\n",
        "\n",
        "Run an experiment with the complete dataset (remember that for that you need to re-run `prepare_nltk_corpus` to get all data points via `portion=1.0`, you also have obtain a fresh Vocabulary object and update it with all known words as well as with the words in GloVe, you should also reconstruct the embedding matrix since the vocabulary changed, and finally reconstruct the `LabelledCorpus` objects for each of the splits), try the base configurations of the two models (they should get about 90 and 94 macro F1 on dev, respectively). Be warned that the BiLSTM can take up to 10 minutes on CPU.\n",
        "\n",
        "For reference, a naive Bayes classifier using bag-of-words features gets about 91 macro F1 on dev. Because this dataset is rather small, NBC is a very strong baseline (meaning, it is difficult to beat it). NNs have many more parameters and they can easily overfit to small datasets (that's why we use dropout, pretrained frozen embeddings, etc). In larger datasets and also especially for more difficult tasks, NNs often have an edge over NBC."
      ]
    },
    {
      "cell_type": "markdown",
      "metadata": {
        "id": "259nw1SAVJ8r"
      },
      "source": [
        "\n",
        "<details>\n",
        "    <summary> <b>Click to see a solution</b> </summary>\n",
        "\n",
        "If you double-click the cell, you will be able to copy the code:\n",
        "\n",
        "```python\n",
        "\n",
        "### SOLUTION CELL\n",
        "corpus = subjectivity\n",
        "labels = tuple(corpus.categories())\n",
        "print(f\"{len(corpus.sents())} labelled documents\")\n",
        "print(\"{}-way classification:\\n{}\".format(len(labels), '\\n'.join(labels)))\n",
        "\n",
        "print(\"# Prepare NLTK corpus\")\n",
        "training_pairs, dev_pairs, test_pairs = prepare_nltk_corpus(corpus, labels, max_length=50, portion=1.0)\n",
        "print(\"Data size (training, dev, test):\")\n",
        "print(training_pairs.shape, dev_pairs.shape, test_pairs.shape)\n",
        "\n",
        "print(\"# Construct Vocabulary\")\n",
        "vocab = Vocabulary()\n",
        "update_vocabulary_from_corpus(vocab, (xy[0].split() for xy in training_pairs), min_freq=1)\n",
        "print(f\"Vocab size before GloVe: {len(vocab)}\")\n",
        "for w in glove.keys():\n",
        "    vocab.add(w)\n",
        "print(f\"Vocab size after GloVe: {len(vocab)}\")\n",
        "\n",
        "print(\"# Construct embedding matrix\")\n",
        "E = make_embedding_matrix(vocab, glove, 50)\n",
        "print(E.shape)\n",
        "\n",
        "print(\"# Construct LabelledCorpus objects\")\n",
        "training = LabelledCorpus(\n",
        "    # these are the input documents (we use split so they are sequences of tokens)\n",
        "    (x.split() for x in training_pairs[:, 0]),  \n",
        "    training_pairs[:, 1], # these are the documents' labels\n",
        "    vocab,\n",
        "    labels\n",
        ")\n",
        "dev = LabelledCorpus(\n",
        "    # these are the input documents (we use split so they are sequences of tokens)\n",
        "    (x.split() for x in dev_pairs[:, 0]),\n",
        "    dev_pairs[:, 1],\n",
        "    vocab,\n",
        "    labels\n",
        ")\n",
        "test = LabelledCorpus(\n",
        "    # these are the input documents (we use split so they are sequences of tokens)\n",
        "    (x.split() for x in test_pairs[:, 0]),\n",
        "    test_pairs[:, 1],\n",
        "    vocab,\n",
        "    labels\n",
        ")\n",
        "\n",
        "print(\"# Train and test AvgEmb model\")\n",
        "train_and_test(\n",
        "    \"subjectivity_avgemb_base\",\n",
        "    AvgEmbClassifier(\n",
        "        vocab_size=len(vocab),\n",
        "        num_classes=len(labels),\n",
        "        word_embed_dim=E.shape[1],\n",
        "        hidden_size=100,\n",
        "        p_drop=0.,\n",
        "        E=torch.tensor(E, dtype=torch.float32)\n",
        "    ),\n",
        "    vocab, labels,\n",
        "    training, dev,\n",
        "    lr=1e-3, batch_size=100, num_epochs=50, check_every=200, weight_decay=1e-4, device=my_device\n",
        ")\n",
        "\n",
        "      \n",
        "print(\"# Train and test BiLSTM model\")\n",
        "seed_all() # reset random number generators before creating your model and training it\n",
        "train_and_test(\n",
        "    \"subjectivity_bilstm_base\",\n",
        "    BiLSTMClassifier(\n",
        "        vocab_size=len(vocab),\n",
        "        num_classes=len(labels),\n",
        "        word_embed_dim=E.shape[1],\n",
        "        hidden_size=100,\n",
        "        cell_size=100,\n",
        "        p_drop=0.5,\n",
        "        w_drop=0.5,\n",
        "        E=torch.tensor(E, dtype=torch.float32)\n",
        "    ),\n",
        "    vocab, labels,\n",
        "    training, dev, test,\n",
        "    lr=1e-2, batch_size=100, num_epochs=50, check_every=200, weight_decay=1e-4, device=my_device\n",
        ")\n",
        "\n",
        "```\n",
        "\n",
        "---\n",
        "    \n",
        "</details>      \n"
      ]
    }
  ],
  "metadata": {
    "accelerator": "GPU",
    "colab": {
      "gpuType": "T4",
      "name": "T4.ipynb",
      "provenance": [],
      "toc_visible": true
    },
    "kernelspec": {
      "display_name": "Python 3",
      "name": "python3"
    },
    "language_info": {
      "codemirror_mode": {
        "name": "ipython",
        "version": 3
      },
      "file_extension": ".py",
      "mimetype": "text/x-python",
      "name": "python",
      "nbconvert_exporter": "python",
      "pygments_lexer": "ipython3",
      "version": "3.9.15"
    },
    "widgets": {
      "application/vnd.jupyter.widget-state+json": {
        "65b6744ad1ed4149853b421e9b6d6e8e": {
          "model_module": "@jupyter-widgets/controls",
          "model_name": "HBoxModel",
          "model_module_version": "2.0.0",
          "state": {
            "_dom_classes": [],
            "_model_module": "@jupyter-widgets/controls",
            "_model_module_version": "2.0.0",
            "_model_name": "HBoxModel",
            "_view_count": null,
            "_view_module": "@jupyter-widgets/controls",
            "_view_module_version": "2.0.0",
            "_view_name": "HBoxView",
            "box_style": "",
            "children": [
              "IPY_MODEL_d75db65283c14c7d8ab787e34c29e63e",
              "IPY_MODEL_42c65f24b91a42959093d7548588a32b",
              "IPY_MODEL_eccb9014e9e94e988c2fadb99f09d096"
            ],
            "layout": "IPY_MODEL_e9ec37a4b0d646cfb318fd3923f0c9d8",
            "tabbable": null,
            "tooltip": null
          }
        },
        "d75db65283c14c7d8ab787e34c29e63e": {
          "model_module": "@jupyter-widgets/controls",
          "model_name": "HTMLModel",
          "model_module_version": "2.0.0",
          "state": {
            "_dom_classes": [],
            "_model_module": "@jupyter-widgets/controls",
            "_model_module_version": "2.0.0",
            "_model_name": "HTMLModel",
            "_view_count": null,
            "_view_module": "@jupyter-widgets/controls",
            "_view_module_version": "2.0.0",
            "_view_name": "HTMLView",
            "description": "",
            "description_allow_html": false,
            "layout": "IPY_MODEL_3713524667e1460cb9fea9d34beead15",
            "placeholder": "​",
            "style": "IPY_MODEL_e92830a22ca74f5aaa07331bed056157",
            "tabbable": null,
            "tooltip": null,
            "value": "100%"
          }
        },
        "42c65f24b91a42959093d7548588a32b": {
          "model_module": "@jupyter-widgets/controls",
          "model_name": "FloatProgressModel",
          "model_module_version": "2.0.0",
          "state": {
            "_dom_classes": [],
            "_model_module": "@jupyter-widgets/controls",
            "_model_module_version": "2.0.0",
            "_model_name": "FloatProgressModel",
            "_view_count": null,
            "_view_module": "@jupyter-widgets/controls",
            "_view_module_version": "2.0.0",
            "_view_name": "ProgressView",
            "bar_style": "success",
            "description": "",
            "description_allow_html": false,
            "layout": "IPY_MODEL_751c2adcd8304132bf2d8a4b5a851214",
            "max": 2400,
            "min": 0,
            "orientation": "horizontal",
            "style": "IPY_MODEL_086624e01450402aa93b81a63a0004b2",
            "tabbable": null,
            "tooltip": null,
            "value": 2400
          }
        },
        "eccb9014e9e94e988c2fadb99f09d096": {
          "model_module": "@jupyter-widgets/controls",
          "model_name": "HTMLModel",
          "model_module_version": "2.0.0",
          "state": {
            "_dom_classes": [],
            "_model_module": "@jupyter-widgets/controls",
            "_model_module_version": "2.0.0",
            "_model_name": "HTMLModel",
            "_view_count": null,
            "_view_module": "@jupyter-widgets/controls",
            "_view_module_version": "2.0.0",
            "_view_name": "HTMLView",
            "description": "",
            "description_allow_html": false,
            "layout": "IPY_MODEL_ca9afd1f8ca4428fb55eb148ffdf7da4",
            "placeholder": "​",
            "style": "IPY_MODEL_aa48e40cce084fe5ab641e57fb558f92",
            "tabbable": null,
            "tooltip": null,
            "value": " 2400/2400 [00:33&lt;00:00, 79.90it/s, loss=0.16, dev-loss=0.28, acc=0.89, macro-f1=0.89]"
          }
        },
        "e9ec37a4b0d646cfb318fd3923f0c9d8": {
          "model_module": "@jupyter-widgets/base",
          "model_name": "LayoutModel",
          "model_module_version": "2.0.0",
          "state": {
            "_model_module": "@jupyter-widgets/base",
            "_model_module_version": "2.0.0",
            "_model_name": "LayoutModel",
            "_view_count": null,
            "_view_module": "@jupyter-widgets/base",
            "_view_module_version": "2.0.0",
            "_view_name": "LayoutView",
            "align_content": null,
            "align_items": null,
            "align_self": null,
            "border_bottom": null,
            "border_left": null,
            "border_right": null,
            "border_top": null,
            "bottom": null,
            "display": null,
            "flex": null,
            "flex_flow": null,
            "grid_area": null,
            "grid_auto_columns": null,
            "grid_auto_flow": null,
            "grid_auto_rows": null,
            "grid_column": null,
            "grid_gap": null,
            "grid_row": null,
            "grid_template_areas": null,
            "grid_template_columns": null,
            "grid_template_rows": null,
            "height": null,
            "justify_content": null,
            "justify_items": null,
            "left": null,
            "margin": null,
            "max_height": null,
            "max_width": null,
            "min_height": null,
            "min_width": null,
            "object_fit": null,
            "object_position": null,
            "order": null,
            "overflow": null,
            "padding": null,
            "right": null,
            "top": null,
            "visibility": null,
            "width": null
          }
        },
        "3713524667e1460cb9fea9d34beead15": {
          "model_module": "@jupyter-widgets/base",
          "model_name": "LayoutModel",
          "model_module_version": "2.0.0",
          "state": {
            "_model_module": "@jupyter-widgets/base",
            "_model_module_version": "2.0.0",
            "_model_name": "LayoutModel",
            "_view_count": null,
            "_view_module": "@jupyter-widgets/base",
            "_view_module_version": "2.0.0",
            "_view_name": "LayoutView",
            "align_content": null,
            "align_items": null,
            "align_self": null,
            "border_bottom": null,
            "border_left": null,
            "border_right": null,
            "border_top": null,
            "bottom": null,
            "display": null,
            "flex": null,
            "flex_flow": null,
            "grid_area": null,
            "grid_auto_columns": null,
            "grid_auto_flow": null,
            "grid_auto_rows": null,
            "grid_column": null,
            "grid_gap": null,
            "grid_row": null,
            "grid_template_areas": null,
            "grid_template_columns": null,
            "grid_template_rows": null,
            "height": null,
            "justify_content": null,
            "justify_items": null,
            "left": null,
            "margin": null,
            "max_height": null,
            "max_width": null,
            "min_height": null,
            "min_width": null,
            "object_fit": null,
            "object_position": null,
            "order": null,
            "overflow": null,
            "padding": null,
            "right": null,
            "top": null,
            "visibility": null,
            "width": null
          }
        },
        "e92830a22ca74f5aaa07331bed056157": {
          "model_module": "@jupyter-widgets/controls",
          "model_name": "HTMLStyleModel",
          "model_module_version": "2.0.0",
          "state": {
            "_model_module": "@jupyter-widgets/controls",
            "_model_module_version": "2.0.0",
            "_model_name": "HTMLStyleModel",
            "_view_count": null,
            "_view_module": "@jupyter-widgets/base",
            "_view_module_version": "2.0.0",
            "_view_name": "StyleView",
            "background": null,
            "description_width": "",
            "font_size": null,
            "text_color": null
          }
        },
        "751c2adcd8304132bf2d8a4b5a851214": {
          "model_module": "@jupyter-widgets/base",
          "model_name": "LayoutModel",
          "model_module_version": "2.0.0",
          "state": {
            "_model_module": "@jupyter-widgets/base",
            "_model_module_version": "2.0.0",
            "_model_name": "LayoutModel",
            "_view_count": null,
            "_view_module": "@jupyter-widgets/base",
            "_view_module_version": "2.0.0",
            "_view_name": "LayoutView",
            "align_content": null,
            "align_items": null,
            "align_self": null,
            "border_bottom": null,
            "border_left": null,
            "border_right": null,
            "border_top": null,
            "bottom": null,
            "display": null,
            "flex": null,
            "flex_flow": null,
            "grid_area": null,
            "grid_auto_columns": null,
            "grid_auto_flow": null,
            "grid_auto_rows": null,
            "grid_column": null,
            "grid_gap": null,
            "grid_row": null,
            "grid_template_areas": null,
            "grid_template_columns": null,
            "grid_template_rows": null,
            "height": null,
            "justify_content": null,
            "justify_items": null,
            "left": null,
            "margin": null,
            "max_height": null,
            "max_width": null,
            "min_height": null,
            "min_width": null,
            "object_fit": null,
            "object_position": null,
            "order": null,
            "overflow": null,
            "padding": null,
            "right": null,
            "top": null,
            "visibility": null,
            "width": null
          }
        },
        "086624e01450402aa93b81a63a0004b2": {
          "model_module": "@jupyter-widgets/controls",
          "model_name": "ProgressStyleModel",
          "model_module_version": "2.0.0",
          "state": {
            "_model_module": "@jupyter-widgets/controls",
            "_model_module_version": "2.0.0",
            "_model_name": "ProgressStyleModel",
            "_view_count": null,
            "_view_module": "@jupyter-widgets/base",
            "_view_module_version": "2.0.0",
            "_view_name": "StyleView",
            "bar_color": null,
            "description_width": ""
          }
        },
        "ca9afd1f8ca4428fb55eb148ffdf7da4": {
          "model_module": "@jupyter-widgets/base",
          "model_name": "LayoutModel",
          "model_module_version": "2.0.0",
          "state": {
            "_model_module": "@jupyter-widgets/base",
            "_model_module_version": "2.0.0",
            "_model_name": "LayoutModel",
            "_view_count": null,
            "_view_module": "@jupyter-widgets/base",
            "_view_module_version": "2.0.0",
            "_view_name": "LayoutView",
            "align_content": null,
            "align_items": null,
            "align_self": null,
            "border_bottom": null,
            "border_left": null,
            "border_right": null,
            "border_top": null,
            "bottom": null,
            "display": null,
            "flex": null,
            "flex_flow": null,
            "grid_area": null,
            "grid_auto_columns": null,
            "grid_auto_flow": null,
            "grid_auto_rows": null,
            "grid_column": null,
            "grid_gap": null,
            "grid_row": null,
            "grid_template_areas": null,
            "grid_template_columns": null,
            "grid_template_rows": null,
            "height": null,
            "justify_content": null,
            "justify_items": null,
            "left": null,
            "margin": null,
            "max_height": null,
            "max_width": null,
            "min_height": null,
            "min_width": null,
            "object_fit": null,
            "object_position": null,
            "order": null,
            "overflow": null,
            "padding": null,
            "right": null,
            "top": null,
            "visibility": null,
            "width": null
          }
        },
        "aa48e40cce084fe5ab641e57fb558f92": {
          "model_module": "@jupyter-widgets/controls",
          "model_name": "HTMLStyleModel",
          "model_module_version": "2.0.0",
          "state": {
            "_model_module": "@jupyter-widgets/controls",
            "_model_module_version": "2.0.0",
            "_model_name": "HTMLStyleModel",
            "_view_count": null,
            "_view_module": "@jupyter-widgets/base",
            "_view_module_version": "2.0.0",
            "_view_name": "StyleView",
            "background": null,
            "description_width": "",
            "font_size": null,
            "text_color": null
          }
        },
        "c89d0d33d49146789a0e8963a75914b4": {
          "model_module": "@jupyter-widgets/controls",
          "model_name": "HBoxModel",
          "model_module_version": "2.0.0",
          "state": {
            "_dom_classes": [],
            "_model_module": "@jupyter-widgets/controls",
            "_model_module_version": "2.0.0",
            "_model_name": "HBoxModel",
            "_view_count": null,
            "_view_module": "@jupyter-widgets/controls",
            "_view_module_version": "2.0.0",
            "_view_name": "HBoxView",
            "box_style": "",
            "children": [
              "IPY_MODEL_59a14542766141a880905b699ad67aba",
              "IPY_MODEL_094ad3c2a66a420aa956889bd2fc98db",
              "IPY_MODEL_6506b6a13ff646f998ba87ff5d163cb8"
            ],
            "layout": "IPY_MODEL_7f157744a10b4462ba9df8f68acd7710",
            "tabbable": null,
            "tooltip": null
          }
        },
        "59a14542766141a880905b699ad67aba": {
          "model_module": "@jupyter-widgets/controls",
          "model_name": "HTMLModel",
          "model_module_version": "2.0.0",
          "state": {
            "_dom_classes": [],
            "_model_module": "@jupyter-widgets/controls",
            "_model_module_version": "2.0.0",
            "_model_name": "HTMLModel",
            "_view_count": null,
            "_view_module": "@jupyter-widgets/controls",
            "_view_module_version": "2.0.0",
            "_view_name": "HTMLView",
            "description": "",
            "description_allow_html": false,
            "layout": "IPY_MODEL_ef0f7130835147009478fd7f55597a10",
            "placeholder": "​",
            "style": "IPY_MODEL_5736f540b30f4f34bf9271bcfbd5f6aa",
            "tabbable": null,
            "tooltip": null,
            "value": "100%"
          }
        },
        "094ad3c2a66a420aa956889bd2fc98db": {
          "model_module": "@jupyter-widgets/controls",
          "model_name": "FloatProgressModel",
          "model_module_version": "2.0.0",
          "state": {
            "_dom_classes": [],
            "_model_module": "@jupyter-widgets/controls",
            "_model_module_version": "2.0.0",
            "_model_name": "FloatProgressModel",
            "_view_count": null,
            "_view_module": "@jupyter-widgets/controls",
            "_view_module_version": "2.0.0",
            "_view_name": "ProgressView",
            "bar_style": "success",
            "description": "",
            "description_allow_html": false,
            "layout": "IPY_MODEL_fba3758b1cac48f2bd1f23dcba6ea852",
            "max": 2400,
            "min": 0,
            "orientation": "horizontal",
            "style": "IPY_MODEL_1dce323b35874013b73585be80b2c0d6",
            "tabbable": null,
            "tooltip": null,
            "value": 2400
          }
        },
        "6506b6a13ff646f998ba87ff5d163cb8": {
          "model_module": "@jupyter-widgets/controls",
          "model_name": "HTMLModel",
          "model_module_version": "2.0.0",
          "state": {
            "_dom_classes": [],
            "_model_module": "@jupyter-widgets/controls",
            "_model_module_version": "2.0.0",
            "_model_name": "HTMLModel",
            "_view_count": null,
            "_view_module": "@jupyter-widgets/controls",
            "_view_module_version": "2.0.0",
            "_view_name": "HTMLView",
            "description": "",
            "description_allow_html": false,
            "layout": "IPY_MODEL_d2c7c9e2464a463b9e3a07f7ce242dd6",
            "placeholder": "​",
            "style": "IPY_MODEL_6cf8e101d7954d5bad14c359b7d7f8f9",
            "tabbable": null,
            "tooltip": null,
            "value": " 2400/2400 [08:29&lt;00:00,  3.25it/s, loss=0.17, dev-loss=0.24, acc=0.92, macro-f1=0.92]"
          }
        },
        "7f157744a10b4462ba9df8f68acd7710": {
          "model_module": "@jupyter-widgets/base",
          "model_name": "LayoutModel",
          "model_module_version": "2.0.0",
          "state": {
            "_model_module": "@jupyter-widgets/base",
            "_model_module_version": "2.0.0",
            "_model_name": "LayoutModel",
            "_view_count": null,
            "_view_module": "@jupyter-widgets/base",
            "_view_module_version": "2.0.0",
            "_view_name": "LayoutView",
            "align_content": null,
            "align_items": null,
            "align_self": null,
            "border_bottom": null,
            "border_left": null,
            "border_right": null,
            "border_top": null,
            "bottom": null,
            "display": null,
            "flex": null,
            "flex_flow": null,
            "grid_area": null,
            "grid_auto_columns": null,
            "grid_auto_flow": null,
            "grid_auto_rows": null,
            "grid_column": null,
            "grid_gap": null,
            "grid_row": null,
            "grid_template_areas": null,
            "grid_template_columns": null,
            "grid_template_rows": null,
            "height": null,
            "justify_content": null,
            "justify_items": null,
            "left": null,
            "margin": null,
            "max_height": null,
            "max_width": null,
            "min_height": null,
            "min_width": null,
            "object_fit": null,
            "object_position": null,
            "order": null,
            "overflow": null,
            "padding": null,
            "right": null,
            "top": null,
            "visibility": null,
            "width": null
          }
        },
        "ef0f7130835147009478fd7f55597a10": {
          "model_module": "@jupyter-widgets/base",
          "model_name": "LayoutModel",
          "model_module_version": "2.0.0",
          "state": {
            "_model_module": "@jupyter-widgets/base",
            "_model_module_version": "2.0.0",
            "_model_name": "LayoutModel",
            "_view_count": null,
            "_view_module": "@jupyter-widgets/base",
            "_view_module_version": "2.0.0",
            "_view_name": "LayoutView",
            "align_content": null,
            "align_items": null,
            "align_self": null,
            "border_bottom": null,
            "border_left": null,
            "border_right": null,
            "border_top": null,
            "bottom": null,
            "display": null,
            "flex": null,
            "flex_flow": null,
            "grid_area": null,
            "grid_auto_columns": null,
            "grid_auto_flow": null,
            "grid_auto_rows": null,
            "grid_column": null,
            "grid_gap": null,
            "grid_row": null,
            "grid_template_areas": null,
            "grid_template_columns": null,
            "grid_template_rows": null,
            "height": null,
            "justify_content": null,
            "justify_items": null,
            "left": null,
            "margin": null,
            "max_height": null,
            "max_width": null,
            "min_height": null,
            "min_width": null,
            "object_fit": null,
            "object_position": null,
            "order": null,
            "overflow": null,
            "padding": null,
            "right": null,
            "top": null,
            "visibility": null,
            "width": null
          }
        },
        "5736f540b30f4f34bf9271bcfbd5f6aa": {
          "model_module": "@jupyter-widgets/controls",
          "model_name": "HTMLStyleModel",
          "model_module_version": "2.0.0",
          "state": {
            "_model_module": "@jupyter-widgets/controls",
            "_model_module_version": "2.0.0",
            "_model_name": "HTMLStyleModel",
            "_view_count": null,
            "_view_module": "@jupyter-widgets/base",
            "_view_module_version": "2.0.0",
            "_view_name": "StyleView",
            "background": null,
            "description_width": "",
            "font_size": null,
            "text_color": null
          }
        },
        "fba3758b1cac48f2bd1f23dcba6ea852": {
          "model_module": "@jupyter-widgets/base",
          "model_name": "LayoutModel",
          "model_module_version": "2.0.0",
          "state": {
            "_model_module": "@jupyter-widgets/base",
            "_model_module_version": "2.0.0",
            "_model_name": "LayoutModel",
            "_view_count": null,
            "_view_module": "@jupyter-widgets/base",
            "_view_module_version": "2.0.0",
            "_view_name": "LayoutView",
            "align_content": null,
            "align_items": null,
            "align_self": null,
            "border_bottom": null,
            "border_left": null,
            "border_right": null,
            "border_top": null,
            "bottom": null,
            "display": null,
            "flex": null,
            "flex_flow": null,
            "grid_area": null,
            "grid_auto_columns": null,
            "grid_auto_flow": null,
            "grid_auto_rows": null,
            "grid_column": null,
            "grid_gap": null,
            "grid_row": null,
            "grid_template_areas": null,
            "grid_template_columns": null,
            "grid_template_rows": null,
            "height": null,
            "justify_content": null,
            "justify_items": null,
            "left": null,
            "margin": null,
            "max_height": null,
            "max_width": null,
            "min_height": null,
            "min_width": null,
            "object_fit": null,
            "object_position": null,
            "order": null,
            "overflow": null,
            "padding": null,
            "right": null,
            "top": null,
            "visibility": null,
            "width": null
          }
        },
        "1dce323b35874013b73585be80b2c0d6": {
          "model_module": "@jupyter-widgets/controls",
          "model_name": "ProgressStyleModel",
          "model_module_version": "2.0.0",
          "state": {
            "_model_module": "@jupyter-widgets/controls",
            "_model_module_version": "2.0.0",
            "_model_name": "ProgressStyleModel",
            "_view_count": null,
            "_view_module": "@jupyter-widgets/base",
            "_view_module_version": "2.0.0",
            "_view_name": "StyleView",
            "bar_color": null,
            "description_width": ""
          }
        },
        "d2c7c9e2464a463b9e3a07f7ce242dd6": {
          "model_module": "@jupyter-widgets/base",
          "model_name": "LayoutModel",
          "model_module_version": "2.0.0",
          "state": {
            "_model_module": "@jupyter-widgets/base",
            "_model_module_version": "2.0.0",
            "_model_name": "LayoutModel",
            "_view_count": null,
            "_view_module": "@jupyter-widgets/base",
            "_view_module_version": "2.0.0",
            "_view_name": "LayoutView",
            "align_content": null,
            "align_items": null,
            "align_self": null,
            "border_bottom": null,
            "border_left": null,
            "border_right": null,
            "border_top": null,
            "bottom": null,
            "display": null,
            "flex": null,
            "flex_flow": null,
            "grid_area": null,
            "grid_auto_columns": null,
            "grid_auto_flow": null,
            "grid_auto_rows": null,
            "grid_column": null,
            "grid_gap": null,
            "grid_row": null,
            "grid_template_areas": null,
            "grid_template_columns": null,
            "grid_template_rows": null,
            "height": null,
            "justify_content": null,
            "justify_items": null,
            "left": null,
            "margin": null,
            "max_height": null,
            "max_width": null,
            "min_height": null,
            "min_width": null,
            "object_fit": null,
            "object_position": null,
            "order": null,
            "overflow": null,
            "padding": null,
            "right": null,
            "top": null,
            "visibility": null,
            "width": null
          }
        },
        "6cf8e101d7954d5bad14c359b7d7f8f9": {
          "model_module": "@jupyter-widgets/controls",
          "model_name": "HTMLStyleModel",
          "model_module_version": "2.0.0",
          "state": {
            "_model_module": "@jupyter-widgets/controls",
            "_model_module_version": "2.0.0",
            "_model_name": "HTMLStyleModel",
            "_view_count": null,
            "_view_module": "@jupyter-widgets/base",
            "_view_module_version": "2.0.0",
            "_view_name": "StyleView",
            "background": null,
            "description_width": "",
            "font_size": null,
            "text_color": null
          }
        },
        "b794b2f1c9504205921cfce5e5dbd3d4": {
          "model_module": "@jupyter-widgets/controls",
          "model_name": "HBoxModel",
          "model_module_version": "2.0.0",
          "state": {
            "_dom_classes": [],
            "_model_module": "@jupyter-widgets/controls",
            "_model_module_version": "2.0.0",
            "_model_name": "HBoxModel",
            "_view_count": null,
            "_view_module": "@jupyter-widgets/controls",
            "_view_module_version": "2.0.0",
            "_view_name": "HBoxView",
            "box_style": "",
            "children": [
              "IPY_MODEL_d41ac9556870458fba28014061d01cab",
              "IPY_MODEL_f7331fed5c194cac875879e4cdf0f583",
              "IPY_MODEL_074e1277662e4a988f2279be3543b73f"
            ],
            "layout": "IPY_MODEL_705ae7e5a8ac4e33b690fe8595b4da3c",
            "tabbable": null,
            "tooltip": null
          }
        },
        "d41ac9556870458fba28014061d01cab": {
          "model_module": "@jupyter-widgets/controls",
          "model_name": "HTMLModel",
          "model_module_version": "2.0.0",
          "state": {
            "_dom_classes": [],
            "_model_module": "@jupyter-widgets/controls",
            "_model_module_version": "2.0.0",
            "_model_name": "HTMLModel",
            "_view_count": null,
            "_view_module": "@jupyter-widgets/controls",
            "_view_module_version": "2.0.0",
            "_view_name": "HTMLView",
            "description": "",
            "description_allow_html": false,
            "layout": "IPY_MODEL_f044141efc744fb6b86faf8d68c52ef6",
            "placeholder": "​",
            "style": "IPY_MODEL_01241a74ec114a26bcc8ed08bf1f9534",
            "tabbable": null,
            "tooltip": null,
            "value": " 83%"
          }
        },
        "f7331fed5c194cac875879e4cdf0f583": {
          "model_module": "@jupyter-widgets/controls",
          "model_name": "FloatProgressModel",
          "model_module_version": "2.0.0",
          "state": {
            "_dom_classes": [],
            "_model_module": "@jupyter-widgets/controls",
            "_model_module_version": "2.0.0",
            "_model_name": "FloatProgressModel",
            "_view_count": null,
            "_view_module": "@jupyter-widgets/controls",
            "_view_module_version": "2.0.0",
            "_view_name": "ProgressView",
            "bar_style": "",
            "description": "",
            "description_allow_html": false,
            "layout": "IPY_MODEL_98e2b2bcd4ed4656bf41aa38eb4f237c",
            "max": 2400,
            "min": 0,
            "orientation": "horizontal",
            "style": "IPY_MODEL_322591b1e25e430e9da05a33f0427a52",
            "tabbable": null,
            "tooltip": null,
            "value": 1989
          }
        },
        "074e1277662e4a988f2279be3543b73f": {
          "model_module": "@jupyter-widgets/controls",
          "model_name": "HTMLModel",
          "model_module_version": "2.0.0",
          "state": {
            "_dom_classes": [],
            "_model_module": "@jupyter-widgets/controls",
            "_model_module_version": "2.0.0",
            "_model_name": "HTMLModel",
            "_view_count": null,
            "_view_module": "@jupyter-widgets/controls",
            "_view_module_version": "2.0.0",
            "_view_name": "HTMLView",
            "description": "",
            "description_allow_html": false,
            "layout": "IPY_MODEL_c06a80cfdb6c45739cfabbe619976308",
            "placeholder": "​",
            "style": "IPY_MODEL_277ca244acf347c09982e48921aafbfe",
            "tabbable": null,
            "tooltip": null,
            "value": " 1989/2400 [17:17&lt;05:52,  1.17it/s, loss=0.01, dev-loss=0.51, acc=0.87, macro-f1=0.87]"
          }
        },
        "705ae7e5a8ac4e33b690fe8595b4da3c": {
          "model_module": "@jupyter-widgets/base",
          "model_name": "LayoutModel",
          "model_module_version": "2.0.0",
          "state": {
            "_model_module": "@jupyter-widgets/base",
            "_model_module_version": "2.0.0",
            "_model_name": "LayoutModel",
            "_view_count": null,
            "_view_module": "@jupyter-widgets/base",
            "_view_module_version": "2.0.0",
            "_view_name": "LayoutView",
            "align_content": null,
            "align_items": null,
            "align_self": null,
            "border_bottom": null,
            "border_left": null,
            "border_right": null,
            "border_top": null,
            "bottom": null,
            "display": null,
            "flex": null,
            "flex_flow": null,
            "grid_area": null,
            "grid_auto_columns": null,
            "grid_auto_flow": null,
            "grid_auto_rows": null,
            "grid_column": null,
            "grid_gap": null,
            "grid_row": null,
            "grid_template_areas": null,
            "grid_template_columns": null,
            "grid_template_rows": null,
            "height": null,
            "justify_content": null,
            "justify_items": null,
            "left": null,
            "margin": null,
            "max_height": null,
            "max_width": null,
            "min_height": null,
            "min_width": null,
            "object_fit": null,
            "object_position": null,
            "order": null,
            "overflow": null,
            "padding": null,
            "right": null,
            "top": null,
            "visibility": null,
            "width": null
          }
        },
        "f044141efc744fb6b86faf8d68c52ef6": {
          "model_module": "@jupyter-widgets/base",
          "model_name": "LayoutModel",
          "model_module_version": "2.0.0",
          "state": {
            "_model_module": "@jupyter-widgets/base",
            "_model_module_version": "2.0.0",
            "_model_name": "LayoutModel",
            "_view_count": null,
            "_view_module": "@jupyter-widgets/base",
            "_view_module_version": "2.0.0",
            "_view_name": "LayoutView",
            "align_content": null,
            "align_items": null,
            "align_self": null,
            "border_bottom": null,
            "border_left": null,
            "border_right": null,
            "border_top": null,
            "bottom": null,
            "display": null,
            "flex": null,
            "flex_flow": null,
            "grid_area": null,
            "grid_auto_columns": null,
            "grid_auto_flow": null,
            "grid_auto_rows": null,
            "grid_column": null,
            "grid_gap": null,
            "grid_row": null,
            "grid_template_areas": null,
            "grid_template_columns": null,
            "grid_template_rows": null,
            "height": null,
            "justify_content": null,
            "justify_items": null,
            "left": null,
            "margin": null,
            "max_height": null,
            "max_width": null,
            "min_height": null,
            "min_width": null,
            "object_fit": null,
            "object_position": null,
            "order": null,
            "overflow": null,
            "padding": null,
            "right": null,
            "top": null,
            "visibility": null,
            "width": null
          }
        },
        "01241a74ec114a26bcc8ed08bf1f9534": {
          "model_module": "@jupyter-widgets/controls",
          "model_name": "HTMLStyleModel",
          "model_module_version": "2.0.0",
          "state": {
            "_model_module": "@jupyter-widgets/controls",
            "_model_module_version": "2.0.0",
            "_model_name": "HTMLStyleModel",
            "_view_count": null,
            "_view_module": "@jupyter-widgets/base",
            "_view_module_version": "2.0.0",
            "_view_name": "StyleView",
            "background": null,
            "description_width": "",
            "font_size": null,
            "text_color": null
          }
        },
        "98e2b2bcd4ed4656bf41aa38eb4f237c": {
          "model_module": "@jupyter-widgets/base",
          "model_name": "LayoutModel",
          "model_module_version": "2.0.0",
          "state": {
            "_model_module": "@jupyter-widgets/base",
            "_model_module_version": "2.0.0",
            "_model_name": "LayoutModel",
            "_view_count": null,
            "_view_module": "@jupyter-widgets/base",
            "_view_module_version": "2.0.0",
            "_view_name": "LayoutView",
            "align_content": null,
            "align_items": null,
            "align_self": null,
            "border_bottom": null,
            "border_left": null,
            "border_right": null,
            "border_top": null,
            "bottom": null,
            "display": null,
            "flex": null,
            "flex_flow": null,
            "grid_area": null,
            "grid_auto_columns": null,
            "grid_auto_flow": null,
            "grid_auto_rows": null,
            "grid_column": null,
            "grid_gap": null,
            "grid_row": null,
            "grid_template_areas": null,
            "grid_template_columns": null,
            "grid_template_rows": null,
            "height": null,
            "justify_content": null,
            "justify_items": null,
            "left": null,
            "margin": null,
            "max_height": null,
            "max_width": null,
            "min_height": null,
            "min_width": null,
            "object_fit": null,
            "object_position": null,
            "order": null,
            "overflow": null,
            "padding": null,
            "right": null,
            "top": null,
            "visibility": null,
            "width": null
          }
        },
        "322591b1e25e430e9da05a33f0427a52": {
          "model_module": "@jupyter-widgets/controls",
          "model_name": "ProgressStyleModel",
          "model_module_version": "2.0.0",
          "state": {
            "_model_module": "@jupyter-widgets/controls",
            "_model_module_version": "2.0.0",
            "_model_name": "ProgressStyleModel",
            "_view_count": null,
            "_view_module": "@jupyter-widgets/base",
            "_view_module_version": "2.0.0",
            "_view_name": "StyleView",
            "bar_color": null,
            "description_width": ""
          }
        },
        "c06a80cfdb6c45739cfabbe619976308": {
          "model_module": "@jupyter-widgets/base",
          "model_name": "LayoutModel",
          "model_module_version": "2.0.0",
          "state": {
            "_model_module": "@jupyter-widgets/base",
            "_model_module_version": "2.0.0",
            "_model_name": "LayoutModel",
            "_view_count": null,
            "_view_module": "@jupyter-widgets/base",
            "_view_module_version": "2.0.0",
            "_view_name": "LayoutView",
            "align_content": null,
            "align_items": null,
            "align_self": null,
            "border_bottom": null,
            "border_left": null,
            "border_right": null,
            "border_top": null,
            "bottom": null,
            "display": null,
            "flex": null,
            "flex_flow": null,
            "grid_area": null,
            "grid_auto_columns": null,
            "grid_auto_flow": null,
            "grid_auto_rows": null,
            "grid_column": null,
            "grid_gap": null,
            "grid_row": null,
            "grid_template_areas": null,
            "grid_template_columns": null,
            "grid_template_rows": null,
            "height": null,
            "justify_content": null,
            "justify_items": null,
            "left": null,
            "margin": null,
            "max_height": null,
            "max_width": null,
            "min_height": null,
            "min_width": null,
            "object_fit": null,
            "object_position": null,
            "order": null,
            "overflow": null,
            "padding": null,
            "right": null,
            "top": null,
            "visibility": null,
            "width": null
          }
        },
        "277ca244acf347c09982e48921aafbfe": {
          "model_module": "@jupyter-widgets/controls",
          "model_name": "HTMLStyleModel",
          "model_module_version": "2.0.0",
          "state": {
            "_model_module": "@jupyter-widgets/controls",
            "_model_module_version": "2.0.0",
            "_model_name": "HTMLStyleModel",
            "_view_count": null,
            "_view_module": "@jupyter-widgets/base",
            "_view_module_version": "2.0.0",
            "_view_name": "StyleView",
            "background": null,
            "description_width": "",
            "font_size": null,
            "text_color": null
          }
        }
      }
    }
  },
  "nbformat": 4,
  "nbformat_minor": 0
}